{
 "cells": [
  {
   "cell_type": "markdown",
   "metadata": {},
   "source": [
    "## Importing the necessary libraries"
   ]
  },
  {
   "cell_type": "code",
   "execution_count": 28,
   "metadata": {},
   "outputs": [],
   "source": [
    "import pandas as pd\n",
    "import numpy as np\n",
    "import matplotlib.pyplot as plt\n",
    "import seaborn as sn"
   ]
  },
  {
   "cell_type": "markdown",
   "metadata": {},
   "source": [
    "## Creating a dataset of 3 features"
   ]
  },
  {
   "cell_type": "code",
   "execution_count": 29,
   "metadata": {},
   "outputs": [],
   "source": [
    "x = []\n",
    "y = []\n",
    "z = []\n",
    "for i in range(0, 10):\n",
    "    x.append(np.random.randn())\n",
    "    y.append(np.random.randn())\n",
    "    z.append(np.random.randn())\n",
    "\n",
    "x = np.array(x)\n",
    "y = np.array(y)\n",
    "z = np.array(z)"
   ]
  },
  {
   "cell_type": "code",
   "execution_count": 30,
   "metadata": {},
   "outputs": [
    {
     "data": {
      "text/html": [
       "<div>\n",
       "<style scoped>\n",
       "    .dataframe tbody tr th:only-of-type {\n",
       "        vertical-align: middle;\n",
       "    }\n",
       "\n",
       "    .dataframe tbody tr th {\n",
       "        vertical-align: top;\n",
       "    }\n",
       "\n",
       "    .dataframe thead th {\n",
       "        text-align: right;\n",
       "    }\n",
       "</style>\n",
       "<table border=\"1\" class=\"dataframe\">\n",
       "  <thead>\n",
       "    <tr style=\"text-align: right;\">\n",
       "      <th></th>\n",
       "      <th>X</th>\n",
       "      <th>Y</th>\n",
       "      <th>Z</th>\n",
       "    </tr>\n",
       "  </thead>\n",
       "  <tbody>\n",
       "    <tr>\n",
       "      <th>0</th>\n",
       "      <td>0.040675</td>\n",
       "      <td>0.652237</td>\n",
       "      <td>-1.411743</td>\n",
       "    </tr>\n",
       "    <tr>\n",
       "      <th>1</th>\n",
       "      <td>-0.030712</td>\n",
       "      <td>-0.798396</td>\n",
       "      <td>0.291772</td>\n",
       "    </tr>\n",
       "    <tr>\n",
       "      <th>2</th>\n",
       "      <td>-0.676077</td>\n",
       "      <td>0.662759</td>\n",
       "      <td>-0.182985</td>\n",
       "    </tr>\n",
       "    <tr>\n",
       "      <th>3</th>\n",
       "      <td>1.513223</td>\n",
       "      <td>-0.475908</td>\n",
       "      <td>-1.153397</td>\n",
       "    </tr>\n",
       "    <tr>\n",
       "      <th>4</th>\n",
       "      <td>1.191305</td>\n",
       "      <td>0.621591</td>\n",
       "      <td>-1.255794</td>\n",
       "    </tr>\n",
       "    <tr>\n",
       "      <th>5</th>\n",
       "      <td>-0.269755</td>\n",
       "      <td>0.837429</td>\n",
       "      <td>0.881789</td>\n",
       "    </tr>\n",
       "    <tr>\n",
       "      <th>6</th>\n",
       "      <td>2.122309</td>\n",
       "      <td>0.775677</td>\n",
       "      <td>-0.015890</td>\n",
       "    </tr>\n",
       "    <tr>\n",
       "      <th>7</th>\n",
       "      <td>0.716357</td>\n",
       "      <td>-0.478043</td>\n",
       "      <td>1.349300</td>\n",
       "    </tr>\n",
       "    <tr>\n",
       "      <th>8</th>\n",
       "      <td>-0.014451</td>\n",
       "      <td>-1.126478</td>\n",
       "      <td>-0.284326</td>\n",
       "    </tr>\n",
       "    <tr>\n",
       "      <th>9</th>\n",
       "      <td>-0.837846</td>\n",
       "      <td>-0.432871</td>\n",
       "      <td>0.920210</td>\n",
       "    </tr>\n",
       "  </tbody>\n",
       "</table>\n",
       "</div>"
      ],
      "text/plain": [
       "          X         Y         Z\n",
       "0  0.040675  0.652237 -1.411743\n",
       "1 -0.030712 -0.798396  0.291772\n",
       "2 -0.676077  0.662759 -0.182985\n",
       "3  1.513223 -0.475908 -1.153397\n",
       "4  1.191305  0.621591 -1.255794\n",
       "5 -0.269755  0.837429  0.881789\n",
       "6  2.122309  0.775677 -0.015890\n",
       "7  0.716357 -0.478043  1.349300\n",
       "8 -0.014451 -1.126478 -0.284326\n",
       "9 -0.837846 -0.432871  0.920210"
      ]
     },
     "execution_count": 30,
     "metadata": {},
     "output_type": "execute_result"
    }
   ],
   "source": [
    "data = pd.DataFrame({\"X\":x, \"Y\":y, \"Z\":z})\n",
    "data"
   ]
  },
  {
   "cell_type": "markdown",
   "metadata": {},
   "source": [
    "### Function to compute covariance "
   ]
  },
  {
   "cell_type": "code",
   "execution_count": 31,
   "metadata": {},
   "outputs": [],
   "source": [
    "def covariance(a, b):\n",
    "    p = 0\n",
    "    for i in range(0, len(a)):\n",
    "        p = p + (a[i]-np.mean(a))*(b[i]-np.mean(b))\n",
    "\n",
    "    return p/len(a)       "
   ]
  },
  {
   "cell_type": "markdown",
   "metadata": {},
   "source": [
    "### Creating covariance matrix"
   ]
  },
  {
   "cell_type": "code",
   "execution_count": 32,
   "metadata": {},
   "outputs": [
    {
     "data": {
      "text/plain": [
       "array([[ 0.85510301,  0.09907892, -0.29326145],\n",
       "       [ 0.09907892,  0.50971134, -0.148316  ],\n",
       "       [-0.29326145, -0.148316  ,  0.84708735]])"
      ]
     },
     "execution_count": 32,
     "metadata": {},
     "output_type": "execute_result"
    }
   ],
   "source": [
    "cov_matrix = np.empty([3, 3])\n",
    "\n",
    "cov_matrix[0, 0] = covariance(x, x)\n",
    "cov_matrix[1, 1] = covariance(y, y)\n",
    "cov_matrix[2, 2] = covariance(z, z)\n",
    "cov_matrix[0, 1] = cov_matrix[1, 0] = covariance(x, y)\n",
    "cov_matrix[0, 2] = cov_matrix[2, 0] = covariance(x, z)\n",
    "cov_matrix[1, 2] = cov_matrix[2, 1] = covariance(y, z)\n",
    "\n",
    "cov_matrix\n",
    "\n",
    "\n"
   ]
  },
  {
   "cell_type": "code",
   "execution_count": 33,
   "metadata": {},
   "outputs": [
    {
     "data": {
      "image/png": "[encoded data removed]",
      "text/plain": [
       "<Figure size 432x288 with 2 Axes>"
      ]
     },
     "metadata": {
      "needs_background": "light"
     },
     "output_type": "display_data"
    }
   ],
   "source": [
    "hm = sn.heatmap(cov_matrix)\n",
    "plt.show()"
   ]
  },
  {
   "cell_type": "markdown",
   "metadata": {},
   "source": [
    "### Computing eigen vectors and eigen values of the covariance matrix"
   ]
  },
  {
   "cell_type": "code",
   "execution_count": 34,
   "metadata": {},
   "outputs": [
    {
     "name": "stdout",
     "output_type": "stream",
     "text": [
      "[1.18941811 0.5693154  0.45316818]\n",
      "[[ 0.67931987  0.73164153  0.05679066]\n",
      " [ 0.24960392 -0.30314013  0.919676  ]\n",
      " [-0.69008868  0.61057901  0.38854971]]\n"
     ]
    }
   ],
   "source": [
    "vals, vector_matrix = np.linalg.eig(cov_matrix)\n",
    "print(vals)\n",
    "print(vector_matrix)"
   ]
  },
  {
   "cell_type": "markdown",
   "metadata": {},
   "source": [
    "### Visualising amount of information in each principal component"
   ]
  },
  {
   "cell_type": "code",
   "execution_count": 48,
   "metadata": {},
   "outputs": [
    {
     "data": {
      "text/plain": [
       "Text(0, 0.5, 'Explained variance (%)')"
      ]
     },
     "execution_count": 48,
     "metadata": {},
     "output_type": "execute_result"
    },
    {
     "data": {
      "image/png": "[encoded data removed]",
      "text/plain": [
       "<Figure size 432x288 with 1 Axes>"
      ]
     },
     "metadata": {
      "needs_background": "light"
     },
     "output_type": "display_data"
    }
   ],
   "source": [
    "sorted_vals = np.sort(vals)/np.sum(vals)\n",
    "plt.bar([3, 2, 1], sorted_vals)\n",
    "plt.xlabel(\"Principal components\")\n",
    "plt.ylabel(\"Explained variance (%)\")"
   ]
  },
  {
   "cell_type": "code",
   "execution_count": 49,
   "metadata": {},
   "outputs": [
    {
     "name": "stdout",
     "output_type": "stream",
     "text": [
      "[0.20487718 0.2573873  0.53773552]\n"
     ]
    }
   ],
   "source": [
    "print(sorted_vals)"
   ]
  },
  {
   "cell_type": "code",
   "execution_count": 37,
   "metadata": {},
   "outputs": [
    {
     "data": {
      "text/plain": [
       "array([ 0.67931987,  0.24960392, -0.69008868])"
      ]
     },
     "execution_count": 37,
     "metadata": {},
     "output_type": "execute_result"
    }
   ],
   "source": [
    "for i in range(0, len(vals)):\n",
    "    if vals[i]== np.max(vals):\n",
    "        PC1 = vector_matrix[:, i]\n",
    "\n",
    "PC1"
   ]
  },
  {
   "cell_type": "code",
   "execution_count": 38,
   "metadata": {},
   "outputs": [
    {
     "data": {
      "text/plain": [
       "array([ 0.73164153, -0.30314013,  0.61057901])"
      ]
     },
     "execution_count": 38,
     "metadata": {},
     "output_type": "execute_result"
    }
   ],
   "source": [
    "PC2 = vector_matrix[:, 1]\n",
    "PC2"
   ]
  },
  {
   "cell_type": "markdown",
   "metadata": {},
   "source": [
    "### Principal component 1 explains 53.7 percent variation in data"
   ]
  },
  {
   "cell_type": "markdown",
   "metadata": {},
   "source": [
    "### Principal component 2 explains 25.7 percent variation in data"
   ]
  },
  {
   "cell_type": "markdown",
   "metadata": {},
   "source": [
    "### Principal component 3 explains only 20.4 percent variation in data"
   ]
  },
  {
   "cell_type": "markdown",
   "metadata": {},
   "source": [
    "## Therefore, we will eliminate PC3 and create a feature vector from PC1 and PC2 only"
   ]
  },
  {
   "cell_type": "code",
   "execution_count": 39,
   "metadata": {},
   "outputs": [
    {
     "data": {
      "text/plain": [
       "array([[ 0.67931987,  0.24960392, -0.69008868],\n",
       "       [ 0.73164153, -0.30314013,  0.61057901]])"
      ]
     },
     "execution_count": 39,
     "metadata": {},
     "output_type": "execute_result"
    }
   ],
   "source": [
    "feature_matrix = np.array([PC1, PC2])\n",
    "feature_matrix"
   ]
  },
  {
   "cell_type": "code",
   "execution_count": 40,
   "metadata": {},
   "outputs": [
    {
     "data": {
      "text/plain": [
       "array([[ 0.04067505, -0.03071234, -0.67607688,  1.51322306,  1.1913049 ,\n",
       "        -0.26975485,  2.1223089 ,  0.7163574 , -0.01445138, -0.83784558],\n",
       "       [ 0.65223677, -0.7983959 ,  0.66275891, -0.47590752,  0.62159061,\n",
       "         0.83742879,  0.77567661, -0.47804297, -1.1264782 , -0.43287086],\n",
       "       [-1.41174323,  0.29177182, -0.18298483, -1.1533973 , -1.25579355,\n",
       "         0.88178852, -0.01588986,  1.34929961, -0.28432573,  0.92021012]])"
      ]
     },
     "execution_count": 40,
     "metadata": {},
     "output_type": "execute_result"
    }
   ],
   "source": [
    "data_matrix = np.array([data['X'], data['Y'], data['Z']])\n",
    "data_matrix"
   ]
  },
  {
   "cell_type": "markdown",
   "metadata": {},
   "source": [
    "## final dataset = (feature vector)*(data)"
   ]
  },
  {
   "cell_type": "code",
   "execution_count": 41,
   "metadata": {},
   "outputs": [],
   "source": [
    "final_data = np.matmul(feature_matrix, data_matrix)"
   ]
  },
  {
   "cell_type": "code",
   "execution_count": 42,
   "metadata": {},
   "outputs": [
    {
     "data": {
      "text/plain": [
       "array([[ 1.16466025, -0.42149468, -0.16756948,  1.70512054,  1.83103747,\n",
       "        -0.5827366 ,  1.64630395, -0.56382197, -0.09478052, -1.31223801],\n",
       "       [-1.02994037,  0.39770517, -0.80728144,  0.54716333, -0.0835821 ,\n",
       "         0.08717943,  1.3079286 ,  1.49288485,  0.1573042 ,  0.08007889]])"
      ]
     },
     "execution_count": 42,
     "metadata": {},
     "output_type": "execute_result"
    }
   ],
   "source": [
    "final_data"
   ]
  },
  {
   "cell_type": "code",
   "execution_count": 45,
   "metadata": {},
   "outputs": [
    {
     "data": {
      "text/html": [
       "<div>\n",
       "<style scoped>\n",
       "    .dataframe tbody tr th:only-of-type {\n",
       "        vertical-align: middle;\n",
       "    }\n",
       "\n",
       "    .dataframe tbody tr th {\n",
       "        vertical-align: top;\n",
       "    }\n",
       "\n",
       "    .dataframe thead th {\n",
       "        text-align: right;\n",
       "    }\n",
       "</style>\n",
       "<table border=\"1\" class=\"dataframe\">\n",
       "  <thead>\n",
       "    <tr style=\"text-align: right;\">\n",
       "      <th></th>\n",
       "      <th>X</th>\n",
       "      <th>Y</th>\n",
       "    </tr>\n",
       "  </thead>\n",
       "  <tbody>\n",
       "    <tr>\n",
       "      <th>0</th>\n",
       "      <td>1.164660</td>\n",
       "      <td>-1.029940</td>\n",
       "    </tr>\n",
       "    <tr>\n",
       "      <th>1</th>\n",
       "      <td>-0.421495</td>\n",
       "      <td>0.397705</td>\n",
       "    </tr>\n",
       "    <tr>\n",
       "      <th>2</th>\n",
       "      <td>-0.167569</td>\n",
       "      <td>-0.807281</td>\n",
       "    </tr>\n",
       "    <tr>\n",
       "      <th>3</th>\n",
       "      <td>1.705121</td>\n",
       "      <td>0.547163</td>\n",
       "    </tr>\n",
       "    <tr>\n",
       "      <th>4</th>\n",
       "      <td>1.831037</td>\n",
       "      <td>-0.083582</td>\n",
       "    </tr>\n",
       "    <tr>\n",
       "      <th>5</th>\n",
       "      <td>-0.582737</td>\n",
       "      <td>0.087179</td>\n",
       "    </tr>\n",
       "    <tr>\n",
       "      <th>6</th>\n",
       "      <td>1.646304</td>\n",
       "      <td>1.307929</td>\n",
       "    </tr>\n",
       "    <tr>\n",
       "      <th>7</th>\n",
       "      <td>-0.563822</td>\n",
       "      <td>1.492885</td>\n",
       "    </tr>\n",
       "    <tr>\n",
       "      <th>8</th>\n",
       "      <td>-0.094781</td>\n",
       "      <td>0.157304</td>\n",
       "    </tr>\n",
       "    <tr>\n",
       "      <th>9</th>\n",
       "      <td>-1.312238</td>\n",
       "      <td>0.080079</td>\n",
       "    </tr>\n",
       "  </tbody>\n",
       "</table>\n",
       "</div>"
      ],
      "text/plain": [
       "          X         Y\n",
       "0  1.164660 -1.029940\n",
       "1 -0.421495  0.397705\n",
       "2 -0.167569 -0.807281\n",
       "3  1.705121  0.547163\n",
       "4  1.831037 -0.083582\n",
       "5 -0.582737  0.087179\n",
       "6  1.646304  1.307929\n",
       "7 -0.563822  1.492885\n",
       "8 -0.094781  0.157304\n",
       "9 -1.312238  0.080079"
      ]
     },
     "execution_count": 45,
     "metadata": {},
     "output_type": "execute_result"
    }
   ],
   "source": [
    "x_final = final_data[0, :]\n",
    "y_final = final_data[1, :]\n",
    "df = pd.DataFrame({\"X\":x_final, \"Y\":y_final})\n",
    "df"
   ]
  }
 ],
 "metadata": {
  "kernelspec": {
   "display_name": "Python 3.10.2 64-bit",
   "language": "python",
   "name": "python3"
  },
  "language_info": {
   "codemirror_mode": {
    "name": "ipython",
    "version": 3
   },
   "file_extension": ".py",
   "mimetype": "text/x-python",
   "name": "python",
   "nbconvert_exporter": "python",
   "pygments_lexer": "ipython3",
   "version": "3.10.2"
  },
  "orig_nbformat": 4,
  "vscode": {
   "interpreter": {
    "hash": "aee8b7b246df8f9039afb4144a1f6fd8d2ca17a180786b69acc140d282b71a49"
   }
  }
 },
 "nbformat": 4,
 "nbformat_minor": 2
}
