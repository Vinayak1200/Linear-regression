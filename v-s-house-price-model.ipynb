{
 "cells": [
  {
   "cell_type": "code",
   "execution_count": 1,
   "id": "033199c2",
   "metadata": {
    "_cell_guid": "b1076dfc-b9ad-4769-8c92-a6c4dae69d19",
    "_uuid": "8f2839f25d086af736a60e9eeb907d3b93b6e0e5",
    "execution": {
     "iopub.execute_input": "2022-05-03T17:10:10.375279Z",
     "iopub.status.busy": "2022-05-03T17:10:10.374901Z",
     "iopub.status.idle": "2022-05-03T17:10:10.390662Z",
     "shell.execute_reply": "2022-05-03T17:10:10.390054Z"
    },
    "papermill": {
     "duration": 0.063664,
     "end_time": "2022-05-03T17:10:10.393686",
     "exception": false,
     "start_time": "2022-05-03T17:10:10.330022",
     "status": "completed"
    },
    "tags": []
   },
   "outputs": [
    {
     "name": "stdout",
     "output_type": "stream",
     "text": [
      "/kaggle/input/house-prices-advanced-regression-techniques/sample_submission.csv\n",
      "/kaggle/input/house-prices-advanced-regression-techniques/data_description.txt\n",
      "/kaggle/input/house-prices-advanced-regression-techniques/train.csv\n",
      "/kaggle/input/house-prices-advanced-regression-techniques/test.csv\n"
     ]
    }
   ],
   "source": [
    "# This Python 3 environment comes with many helpful analytics libraries installed\n",
    "# It is defined by the kaggle/python Docker image: https://github.com/kaggle/docker-python\n",
    "# For example, here's several helpful packages to load\n",
    "\n",
    "import numpy as np # linear algebra\n",
    "import pandas as pd # data processing, CSV file I/O (e.g. pd.read_csv)\n",
    "\n",
    "# Input data files are available in the read-only \"../input/\" directory\n",
    "# For example, running this (by clicking run or pressing Shift+Enter) will list all files under the input directory\n",
    "\n",
    "import os\n",
    "for dirname, _, filenames in os.walk('/kaggle/input'):\n",
    "    for filename in filenames:\n",
    "        print(os.path.join(dirname, filename))\n",
    "\n",
    "# You can write up to 20GB to the current directory (/kaggle/working/) that gets preserved as output when you create a version using \"Save & Run All\" \n",
    "# You can also write temporary files to /kaggle/temp/, but they won't be saved outside of the current session"
   ]
  },
  {
   "cell_type": "markdown",
   "id": "d8adf27d",
   "metadata": {
    "papermill": {
     "duration": 0.040874,
     "end_time": "2022-05-03T17:10:10.477596",
     "exception": false,
     "start_time": "2022-05-03T17:10:10.436722",
     "status": "completed"
    },
    "tags": []
   },
   "source": [
    "## Importing the necessary libraries "
   ]
  },
  {
   "cell_type": "markdown",
   "id": "2ee8a419",
   "metadata": {
    "papermill": {
     "duration": 0.040506,
     "end_time": "2022-05-03T17:10:10.560878",
     "exception": false,
     "start_time": "2022-05-03T17:10:10.520372",
     "status": "completed"
    },
    "tags": []
   },
   "source": []
  },
  {
   "cell_type": "code",
   "execution_count": 2,
   "id": "0191025c",
   "metadata": {
    "execution": {
     "iopub.execute_input": "2022-05-03T17:10:10.649394Z",
     "iopub.status.busy": "2022-05-03T17:10:10.648440Z",
     "iopub.status.idle": "2022-05-03T17:10:11.910931Z",
     "shell.execute_reply": "2022-05-03T17:10:11.910105Z"
    },
    "papermill": {
     "duration": 1.308593,
     "end_time": "2022-05-03T17:10:11.913357",
     "exception": false,
     "start_time": "2022-05-03T17:10:10.604764",
     "status": "completed"
    },
    "tags": []
   },
   "outputs": [],
   "source": [
    "import numpy as np\n",
    "import pandas as pd\n",
    "import matplotlib.pyplot as plt\n",
    "import seaborn as sn"
   ]
  },
  {
   "cell_type": "markdown",
   "id": "5784c3ae",
   "metadata": {
    "papermill": {
     "duration": 0.040231,
     "end_time": "2022-05-03T17:10:11.995127",
     "exception": false,
     "start_time": "2022-05-03T17:10:11.954896",
     "status": "completed"
    },
    "tags": []
   },
   "source": [
    "## Reading the training and testing datasets"
   ]
  },
  {
   "cell_type": "code",
   "execution_count": 3,
   "id": "9fa1a30d",
   "metadata": {
    "execution": {
     "iopub.execute_input": "2022-05-03T17:10:12.080923Z",
     "iopub.status.busy": "2022-05-03T17:10:12.080206Z",
     "iopub.status.idle": "2022-05-03T17:10:12.206347Z",
     "shell.execute_reply": "2022-05-03T17:10:12.205479Z"
    },
    "papermill": {
     "duration": 0.172194,
     "end_time": "2022-05-03T17:10:12.208767",
     "exception": false,
     "start_time": "2022-05-03T17:10:12.036573",
     "status": "completed"
    },
    "tags": []
   },
   "outputs": [
    {
     "data": {
      "text/html": [
       "<div>\n",
       "<style scoped>\n",
       "    .dataframe tbody tr th:only-of-type {\n",
       "        vertical-align: middle;\n",
       "    }\n",
       "\n",
       "    .dataframe tbody tr th {\n",
       "        vertical-align: top;\n",
       "    }\n",
       "\n",
       "    .dataframe thead th {\n",
       "        text-align: right;\n",
       "    }\n",
       "</style>\n",
       "<table border=\"1\" class=\"dataframe\">\n",
       "  <thead>\n",
       "    <tr style=\"text-align: right;\">\n",
       "      <th></th>\n",
       "      <th>Id</th>\n",
       "      <th>MSSubClass</th>\n",
       "      <th>MSZoning</th>\n",
       "      <th>LotFrontage</th>\n",
       "      <th>LotArea</th>\n",
       "      <th>Street</th>\n",
       "      <th>Alley</th>\n",
       "      <th>LotShape</th>\n",
       "      <th>LandContour</th>\n",
       "      <th>Utilities</th>\n",
       "      <th>...</th>\n",
       "      <th>PoolArea</th>\n",
       "      <th>PoolQC</th>\n",
       "      <th>Fence</th>\n",
       "      <th>MiscFeature</th>\n",
       "      <th>MiscVal</th>\n",
       "      <th>MoSold</th>\n",
       "      <th>YrSold</th>\n",
       "      <th>SaleType</th>\n",
       "      <th>SaleCondition</th>\n",
       "      <th>SalePrice</th>\n",
       "    </tr>\n",
       "  </thead>\n",
       "  <tbody>\n",
       "    <tr>\n",
       "      <th>0</th>\n",
       "      <td>1</td>\n",
       "      <td>60</td>\n",
       "      <td>RL</td>\n",
       "      <td>65.0</td>\n",
       "      <td>8450</td>\n",
       "      <td>Pave</td>\n",
       "      <td>NaN</td>\n",
       "      <td>Reg</td>\n",
       "      <td>Lvl</td>\n",
       "      <td>AllPub</td>\n",
       "      <td>...</td>\n",
       "      <td>0</td>\n",
       "      <td>NaN</td>\n",
       "      <td>NaN</td>\n",
       "      <td>NaN</td>\n",
       "      <td>0</td>\n",
       "      <td>2</td>\n",
       "      <td>2008</td>\n",
       "      <td>WD</td>\n",
       "      <td>Normal</td>\n",
       "      <td>208500</td>\n",
       "    </tr>\n",
       "    <tr>\n",
       "      <th>1</th>\n",
       "      <td>2</td>\n",
       "      <td>20</td>\n",
       "      <td>RL</td>\n",
       "      <td>80.0</td>\n",
       "      <td>9600</td>\n",
       "      <td>Pave</td>\n",
       "      <td>NaN</td>\n",
       "      <td>Reg</td>\n",
       "      <td>Lvl</td>\n",
       "      <td>AllPub</td>\n",
       "      <td>...</td>\n",
       "      <td>0</td>\n",
       "      <td>NaN</td>\n",
       "      <td>NaN</td>\n",
       "      <td>NaN</td>\n",
       "      <td>0</td>\n",
       "      <td>5</td>\n",
       "      <td>2007</td>\n",
       "      <td>WD</td>\n",
       "      <td>Normal</td>\n",
       "      <td>181500</td>\n",
       "    </tr>\n",
       "    <tr>\n",
       "      <th>2</th>\n",
       "      <td>3</td>\n",
       "      <td>60</td>\n",
       "      <td>RL</td>\n",
       "      <td>68.0</td>\n",
       "      <td>11250</td>\n",
       "      <td>Pave</td>\n",
       "      <td>NaN</td>\n",
       "      <td>IR1</td>\n",
       "      <td>Lvl</td>\n",
       "      <td>AllPub</td>\n",
       "      <td>...</td>\n",
       "      <td>0</td>\n",
       "      <td>NaN</td>\n",
       "      <td>NaN</td>\n",
       "      <td>NaN</td>\n",
       "      <td>0</td>\n",
       "      <td>9</td>\n",
       "      <td>2008</td>\n",
       "      <td>WD</td>\n",
       "      <td>Normal</td>\n",
       "      <td>223500</td>\n",
       "    </tr>\n",
       "    <tr>\n",
       "      <th>3</th>\n",
       "      <td>4</td>\n",
       "      <td>70</td>\n",
       "      <td>RL</td>\n",
       "      <td>60.0</td>\n",
       "      <td>9550</td>\n",
       "      <td>Pave</td>\n",
       "      <td>NaN</td>\n",
       "      <td>IR1</td>\n",
       "      <td>Lvl</td>\n",
       "      <td>AllPub</td>\n",
       "      <td>...</td>\n",
       "      <td>0</td>\n",
       "      <td>NaN</td>\n",
       "      <td>NaN</td>\n",
       "      <td>NaN</td>\n",
       "      <td>0</td>\n",
       "      <td>2</td>\n",
       "      <td>2006</td>\n",
       "      <td>WD</td>\n",
       "      <td>Abnorml</td>\n",
       "      <td>140000</td>\n",
       "    </tr>\n",
       "    <tr>\n",
       "      <th>4</th>\n",
       "      <td>5</td>\n",
       "      <td>60</td>\n",
       "      <td>RL</td>\n",
       "      <td>84.0</td>\n",
       "      <td>14260</td>\n",
       "      <td>Pave</td>\n",
       "      <td>NaN</td>\n",
       "      <td>IR1</td>\n",
       "      <td>Lvl</td>\n",
       "      <td>AllPub</td>\n",
       "      <td>...</td>\n",
       "      <td>0</td>\n",
       "      <td>NaN</td>\n",
       "      <td>NaN</td>\n",
       "      <td>NaN</td>\n",
       "      <td>0</td>\n",
       "      <td>12</td>\n",
       "      <td>2008</td>\n",
       "      <td>WD</td>\n",
       "      <td>Normal</td>\n",
       "      <td>250000</td>\n",
       "    </tr>\n",
       "  </tbody>\n",
       "</table>\n",
       "<p>5 rows × 81 columns</p>\n",
       "</div>"
      ],
      "text/plain": [
       "   Id  MSSubClass MSZoning  LotFrontage  LotArea Street Alley LotShape  \\\n",
       "0   1          60       RL         65.0     8450   Pave   NaN      Reg   \n",
       "1   2          20       RL         80.0     9600   Pave   NaN      Reg   \n",
       "2   3          60       RL         68.0    11250   Pave   NaN      IR1   \n",
       "3   4          70       RL         60.0     9550   Pave   NaN      IR1   \n",
       "4   5          60       RL         84.0    14260   Pave   NaN      IR1   \n",
       "\n",
       "  LandContour Utilities  ... PoolArea PoolQC Fence MiscFeature MiscVal MoSold  \\\n",
       "0         Lvl    AllPub  ...        0    NaN   NaN         NaN       0      2   \n",
       "1         Lvl    AllPub  ...        0    NaN   NaN         NaN       0      5   \n",
       "2         Lvl    AllPub  ...        0    NaN   NaN         NaN       0      9   \n",
       "3         Lvl    AllPub  ...        0    NaN   NaN         NaN       0      2   \n",
       "4         Lvl    AllPub  ...        0    NaN   NaN         NaN       0     12   \n",
       "\n",
       "  YrSold  SaleType  SaleCondition  SalePrice  \n",
       "0   2008        WD         Normal     208500  \n",
       "1   2007        WD         Normal     181500  \n",
       "2   2008        WD         Normal     223500  \n",
       "3   2006        WD        Abnorml     140000  \n",
       "4   2008        WD         Normal     250000  \n",
       "\n",
       "[5 rows x 81 columns]"
      ]
     },
     "execution_count": 3,
     "metadata": {},
     "output_type": "execute_result"
    }
   ],
   "source": [
    "train = pd.read_csv(\"../input/house-prices-advanced-regression-techniques/train.csv\")\n",
    "test = pd.read_csv(\"../input/house-prices-advanced-regression-techniques/test.csv\")\n",
    "train.head()"
   ]
  },
  {
   "cell_type": "markdown",
   "id": "b1fd849d",
   "metadata": {
    "papermill": {
     "duration": 0.041437,
     "end_time": "2022-05-03T17:10:12.291729",
     "exception": false,
     "start_time": "2022-05-03T17:10:12.250292",
     "status": "completed"
    },
    "tags": []
   },
   "source": [
    "# Cleaning the data"
   ]
  },
  {
   "cell_type": "code",
   "execution_count": 4,
   "id": "c2f11d94",
   "metadata": {
    "execution": {
     "iopub.execute_input": "2022-05-03T17:10:12.376485Z",
     "iopub.status.busy": "2022-05-03T17:10:12.375847Z",
     "iopub.status.idle": "2022-05-03T17:10:12.398072Z",
     "shell.execute_reply": "2022-05-03T17:10:12.397409Z"
    },
    "papermill": {
     "duration": 0.066944,
     "end_time": "2022-05-03T17:10:12.399885",
     "exception": false,
     "start_time": "2022-05-03T17:10:12.332941",
     "status": "completed"
    },
    "tags": []
   },
   "outputs": [
    {
     "data": {
      "text/html": [
       "<div>\n",
       "<style scoped>\n",
       "    .dataframe tbody tr th:only-of-type {\n",
       "        vertical-align: middle;\n",
       "    }\n",
       "\n",
       "    .dataframe tbody tr th {\n",
       "        vertical-align: top;\n",
       "    }\n",
       "\n",
       "    .dataframe thead th {\n",
       "        text-align: right;\n",
       "    }\n",
       "</style>\n",
       "<table border=\"1\" class=\"dataframe\">\n",
       "  <thead>\n",
       "    <tr style=\"text-align: right;\">\n",
       "      <th></th>\n",
       "      <th>index</th>\n",
       "      <th>0</th>\n",
       "    </tr>\n",
       "  </thead>\n",
       "  <tbody>\n",
       "    <tr>\n",
       "      <th>0</th>\n",
       "      <td>Id</td>\n",
       "      <td>0</td>\n",
       "    </tr>\n",
       "    <tr>\n",
       "      <th>1</th>\n",
       "      <td>MSSubClass</td>\n",
       "      <td>0</td>\n",
       "    </tr>\n",
       "    <tr>\n",
       "      <th>2</th>\n",
       "      <td>MSZoning</td>\n",
       "      <td>0</td>\n",
       "    </tr>\n",
       "    <tr>\n",
       "      <th>3</th>\n",
       "      <td>LotFrontage</td>\n",
       "      <td>259</td>\n",
       "    </tr>\n",
       "    <tr>\n",
       "      <th>4</th>\n",
       "      <td>LotArea</td>\n",
       "      <td>0</td>\n",
       "    </tr>\n",
       "    <tr>\n",
       "      <th>...</th>\n",
       "      <td>...</td>\n",
       "      <td>...</td>\n",
       "    </tr>\n",
       "    <tr>\n",
       "      <th>76</th>\n",
       "      <td>MoSold</td>\n",
       "      <td>0</td>\n",
       "    </tr>\n",
       "    <tr>\n",
       "      <th>77</th>\n",
       "      <td>YrSold</td>\n",
       "      <td>0</td>\n",
       "    </tr>\n",
       "    <tr>\n",
       "      <th>78</th>\n",
       "      <td>SaleType</td>\n",
       "      <td>0</td>\n",
       "    </tr>\n",
       "    <tr>\n",
       "      <th>79</th>\n",
       "      <td>SaleCondition</td>\n",
       "      <td>0</td>\n",
       "    </tr>\n",
       "    <tr>\n",
       "      <th>80</th>\n",
       "      <td>SalePrice</td>\n",
       "      <td>0</td>\n",
       "    </tr>\n",
       "  </tbody>\n",
       "</table>\n",
       "<p>81 rows × 2 columns</p>\n",
       "</div>"
      ],
      "text/plain": [
       "            index    0\n",
       "0              Id    0\n",
       "1      MSSubClass    0\n",
       "2        MSZoning    0\n",
       "3     LotFrontage  259\n",
       "4         LotArea    0\n",
       "..            ...  ...\n",
       "76         MoSold    0\n",
       "77         YrSold    0\n",
       "78       SaleType    0\n",
       "79  SaleCondition    0\n",
       "80      SalePrice    0\n",
       "\n",
       "[81 rows x 2 columns]"
      ]
     },
     "execution_count": 4,
     "metadata": {},
     "output_type": "execute_result"
    }
   ],
   "source": [
    "train.isna().sum().reset_index()"
   ]
  },
  {
   "cell_type": "markdown",
   "id": "13ce9a5a",
   "metadata": {
    "papermill": {
     "duration": 0.041096,
     "end_time": "2022-05-03T17:10:12.482348",
     "exception": false,
     "start_time": "2022-05-03T17:10:12.441252",
     "status": "completed"
    },
    "tags": []
   },
   "source": [
    "### Combining train and test sets"
   ]
  },
  {
   "cell_type": "code",
   "execution_count": 5,
   "id": "1d9cfccb",
   "metadata": {
    "execution": {
     "iopub.execute_input": "2022-05-03T17:10:12.567581Z",
     "iopub.status.busy": "2022-05-03T17:10:12.566970Z",
     "iopub.status.idle": "2022-05-03T17:10:12.616474Z",
     "shell.execute_reply": "2022-05-03T17:10:12.615456Z"
    },
    "papermill": {
     "duration": 0.094825,
     "end_time": "2022-05-03T17:10:12.618925",
     "exception": false,
     "start_time": "2022-05-03T17:10:12.524100",
     "status": "completed"
    },
    "tags": []
   },
   "outputs": [
    {
     "data": {
      "text/html": [
       "<div>\n",
       "<style scoped>\n",
       "    .dataframe tbody tr th:only-of-type {\n",
       "        vertical-align: middle;\n",
       "    }\n",
       "\n",
       "    .dataframe tbody tr th {\n",
       "        vertical-align: top;\n",
       "    }\n",
       "\n",
       "    .dataframe thead th {\n",
       "        text-align: right;\n",
       "    }\n",
       "</style>\n",
       "<table border=\"1\" class=\"dataframe\">\n",
       "  <thead>\n",
       "    <tr style=\"text-align: right;\">\n",
       "      <th></th>\n",
       "      <th>MSSubClass</th>\n",
       "      <th>MSZoning</th>\n",
       "      <th>LotFrontage</th>\n",
       "      <th>LotArea</th>\n",
       "      <th>Street</th>\n",
       "      <th>Alley</th>\n",
       "      <th>LotShape</th>\n",
       "      <th>LandContour</th>\n",
       "      <th>Utilities</th>\n",
       "      <th>LotConfig</th>\n",
       "      <th>...</th>\n",
       "      <th>ScreenPorch</th>\n",
       "      <th>PoolArea</th>\n",
       "      <th>PoolQC</th>\n",
       "      <th>Fence</th>\n",
       "      <th>MiscFeature</th>\n",
       "      <th>MiscVal</th>\n",
       "      <th>MoSold</th>\n",
       "      <th>YrSold</th>\n",
       "      <th>SaleType</th>\n",
       "      <th>SaleCondition</th>\n",
       "    </tr>\n",
       "  </thead>\n",
       "  <tbody>\n",
       "    <tr>\n",
       "      <th>0</th>\n",
       "      <td>60</td>\n",
       "      <td>RL</td>\n",
       "      <td>65.0</td>\n",
       "      <td>8450</td>\n",
       "      <td>Pave</td>\n",
       "      <td>NaN</td>\n",
       "      <td>Reg</td>\n",
       "      <td>Lvl</td>\n",
       "      <td>AllPub</td>\n",
       "      <td>Inside</td>\n",
       "      <td>...</td>\n",
       "      <td>0</td>\n",
       "      <td>0</td>\n",
       "      <td>NaN</td>\n",
       "      <td>NaN</td>\n",
       "      <td>NaN</td>\n",
       "      <td>0</td>\n",
       "      <td>2</td>\n",
       "      <td>2008</td>\n",
       "      <td>WD</td>\n",
       "      <td>Normal</td>\n",
       "    </tr>\n",
       "    <tr>\n",
       "      <th>1</th>\n",
       "      <td>20</td>\n",
       "      <td>RL</td>\n",
       "      <td>80.0</td>\n",
       "      <td>9600</td>\n",
       "      <td>Pave</td>\n",
       "      <td>NaN</td>\n",
       "      <td>Reg</td>\n",
       "      <td>Lvl</td>\n",
       "      <td>AllPub</td>\n",
       "      <td>FR2</td>\n",
       "      <td>...</td>\n",
       "      <td>0</td>\n",
       "      <td>0</td>\n",
       "      <td>NaN</td>\n",
       "      <td>NaN</td>\n",
       "      <td>NaN</td>\n",
       "      <td>0</td>\n",
       "      <td>5</td>\n",
       "      <td>2007</td>\n",
       "      <td>WD</td>\n",
       "      <td>Normal</td>\n",
       "    </tr>\n",
       "    <tr>\n",
       "      <th>2</th>\n",
       "      <td>60</td>\n",
       "      <td>RL</td>\n",
       "      <td>68.0</td>\n",
       "      <td>11250</td>\n",
       "      <td>Pave</td>\n",
       "      <td>NaN</td>\n",
       "      <td>IR1</td>\n",
       "      <td>Lvl</td>\n",
       "      <td>AllPub</td>\n",
       "      <td>Inside</td>\n",
       "      <td>...</td>\n",
       "      <td>0</td>\n",
       "      <td>0</td>\n",
       "      <td>NaN</td>\n",
       "      <td>NaN</td>\n",
       "      <td>NaN</td>\n",
       "      <td>0</td>\n",
       "      <td>9</td>\n",
       "      <td>2008</td>\n",
       "      <td>WD</td>\n",
       "      <td>Normal</td>\n",
       "    </tr>\n",
       "    <tr>\n",
       "      <th>3</th>\n",
       "      <td>70</td>\n",
       "      <td>RL</td>\n",
       "      <td>60.0</td>\n",
       "      <td>9550</td>\n",
       "      <td>Pave</td>\n",
       "      <td>NaN</td>\n",
       "      <td>IR1</td>\n",
       "      <td>Lvl</td>\n",
       "      <td>AllPub</td>\n",
       "      <td>Corner</td>\n",
       "      <td>...</td>\n",
       "      <td>0</td>\n",
       "      <td>0</td>\n",
       "      <td>NaN</td>\n",
       "      <td>NaN</td>\n",
       "      <td>NaN</td>\n",
       "      <td>0</td>\n",
       "      <td>2</td>\n",
       "      <td>2006</td>\n",
       "      <td>WD</td>\n",
       "      <td>Abnorml</td>\n",
       "    </tr>\n",
       "    <tr>\n",
       "      <th>4</th>\n",
       "      <td>60</td>\n",
       "      <td>RL</td>\n",
       "      <td>84.0</td>\n",
       "      <td>14260</td>\n",
       "      <td>Pave</td>\n",
       "      <td>NaN</td>\n",
       "      <td>IR1</td>\n",
       "      <td>Lvl</td>\n",
       "      <td>AllPub</td>\n",
       "      <td>FR2</td>\n",
       "      <td>...</td>\n",
       "      <td>0</td>\n",
       "      <td>0</td>\n",
       "      <td>NaN</td>\n",
       "      <td>NaN</td>\n",
       "      <td>NaN</td>\n",
       "      <td>0</td>\n",
       "      <td>12</td>\n",
       "      <td>2008</td>\n",
       "      <td>WD</td>\n",
       "      <td>Normal</td>\n",
       "    </tr>\n",
       "  </tbody>\n",
       "</table>\n",
       "<p>5 rows × 79 columns</p>\n",
       "</div>"
      ],
      "text/plain": [
       "   MSSubClass MSZoning  LotFrontage  LotArea Street Alley LotShape  \\\n",
       "0          60       RL         65.0     8450   Pave   NaN      Reg   \n",
       "1          20       RL         80.0     9600   Pave   NaN      Reg   \n",
       "2          60       RL         68.0    11250   Pave   NaN      IR1   \n",
       "3          70       RL         60.0     9550   Pave   NaN      IR1   \n",
       "4          60       RL         84.0    14260   Pave   NaN      IR1   \n",
       "\n",
       "  LandContour Utilities LotConfig  ... ScreenPorch PoolArea PoolQC Fence  \\\n",
       "0         Lvl    AllPub    Inside  ...           0        0    NaN   NaN   \n",
       "1         Lvl    AllPub       FR2  ...           0        0    NaN   NaN   \n",
       "2         Lvl    AllPub    Inside  ...           0        0    NaN   NaN   \n",
       "3         Lvl    AllPub    Corner  ...           0        0    NaN   NaN   \n",
       "4         Lvl    AllPub       FR2  ...           0        0    NaN   NaN   \n",
       "\n",
       "  MiscFeature MiscVal  MoSold  YrSold  SaleType  SaleCondition  \n",
       "0         NaN       0       2    2008        WD         Normal  \n",
       "1         NaN       0       5    2007        WD         Normal  \n",
       "2         NaN       0       9    2008        WD         Normal  \n",
       "3         NaN       0       2    2006        WD        Abnorml  \n",
       "4         NaN       0      12    2008        WD         Normal  \n",
       "\n",
       "[5 rows x 79 columns]"
      ]
     },
     "execution_count": 5,
     "metadata": {},
     "output_type": "execute_result"
    }
   ],
   "source": [
    "target_price = train['SalePrice']\n",
    "test_id = test['Id']\n",
    "new_train = train.drop(['Id', 'SalePrice'], axis=1)\n",
    "new_test = test.drop(['Id'], axis=1)\n",
    "data = pd.concat([new_train, new_test], axis=0)\n",
    "data.head()"
   ]
  },
  {
   "cell_type": "markdown",
   "id": "82e542b6",
   "metadata": {
    "papermill": {
     "duration": 0.042116,
     "end_time": "2022-05-03T17:10:12.703628",
     "exception": false,
     "start_time": "2022-05-03T17:10:12.661512",
     "status": "completed"
    },
    "tags": []
   },
   "source": [
    "### Fixing the datatypes"
   ]
  },
  {
   "cell_type": "code",
   "execution_count": 6,
   "id": "62f481c6",
   "metadata": {
    "execution": {
     "iopub.execute_input": "2022-05-03T17:10:12.791745Z",
     "iopub.status.busy": "2022-05-03T17:10:12.791379Z",
     "iopub.status.idle": "2022-05-03T17:10:12.807275Z",
     "shell.execute_reply": "2022-05-03T17:10:12.806320Z"
    },
    "papermill": {
     "duration": 0.062988,
     "end_time": "2022-05-03T17:10:12.810100",
     "exception": false,
     "start_time": "2022-05-03T17:10:12.747112",
     "status": "completed"
    },
    "tags": []
   },
   "outputs": [],
   "source": [
    "copy_data = data.copy()\n"
   ]
  },
  {
   "cell_type": "markdown",
   "id": "5cb2bcec",
   "metadata": {
    "papermill": {
     "duration": 0.043454,
     "end_time": "2022-05-03T17:10:12.896168",
     "exception": false,
     "start_time": "2022-05-03T17:10:12.852714",
     "status": "completed"
    },
    "tags": []
   },
   "source": [
    "### Filling categorical missing values"
   ]
  },
  {
   "cell_type": "code",
   "execution_count": 7,
   "id": "e33098b2",
   "metadata": {
    "execution": {
     "iopub.execute_input": "2022-05-03T17:10:12.985926Z",
     "iopub.status.busy": "2022-05-03T17:10:12.985235Z",
     "iopub.status.idle": "2022-05-03T17:10:13.018253Z",
     "shell.execute_reply": "2022-05-03T17:10:13.017423Z"
    },
    "papermill": {
     "duration": 0.081107,
     "end_time": "2022-05-03T17:10:13.020906",
     "exception": false,
     "start_time": "2022-05-03T17:10:12.939799",
     "status": "completed"
    },
    "tags": []
   },
   "outputs": [],
   "source": [
    "for column in ['Alley',\n",
    "               'BsmtQual',\n",
    "               'BsmtExposure', \n",
    "               'BsmtCond',\n",
    "               'BsmtFinType1',\n",
    "               'BsmtFinType2', \n",
    "               'FireplaceQu', \n",
    "              'GarageType',\n",
    "               'GarageFinish',\n",
    "               'GarageQual', \n",
    "              'GarageCond',\n",
    "               'PoolQC', \n",
    "               'Fence', \n",
    "               'MiscFeature']:\n",
    "    copy_data[column] = copy_data[column].fillna(\"None\")\n",
    "    \n",
    "for column in ['MSZoning',\n",
    "               'Utilities',\n",
    "               'Exterior1st', \n",
    "               'Exterior2nd', \n",
    "               'MasVnrType',\n",
    "             'Electrical', \n",
    "               'KitchenQual', \n",
    "               'Functional',\n",
    "               'SaleType' ]:\n",
    "    copy_data[column] = copy_data[column].fillna(copy_data[column].mode()[0])\n",
    "    "
   ]
  },
  {
   "cell_type": "code",
   "execution_count": 8,
   "id": "3aae1215",
   "metadata": {
    "execution": {
     "iopub.execute_input": "2022-05-03T17:10:13.114164Z",
     "iopub.status.busy": "2022-05-03T17:10:13.113515Z",
     "iopub.status.idle": "2022-05-03T17:10:13.167150Z",
     "shell.execute_reply": "2022-05-03T17:10:13.166168Z"
    },
    "papermill": {
     "duration": 0.102912,
     "end_time": "2022-05-03T17:10:13.169858",
     "exception": false,
     "start_time": "2022-05-03T17:10:13.066946",
     "status": "completed"
    },
    "tags": []
   },
   "outputs": [
    {
     "data": {
      "text/plain": [
       "Index([], dtype='object')"
      ]
     },
     "execution_count": 8,
     "metadata": {},
     "output_type": "execute_result"
    }
   ],
   "source": [
    "copy_data.loc[:, copy_data.isna().sum()>0].columns\n",
    "copy_data.select_dtypes('object').loc[:, copy_data.isna().sum()>0].columns"
   ]
  },
  {
   "cell_type": "code",
   "execution_count": 9,
   "id": "4556489f",
   "metadata": {
    "execution": {
     "iopub.execute_input": "2022-05-03T17:10:13.259615Z",
     "iopub.status.busy": "2022-05-03T17:10:13.259126Z",
     "iopub.status.idle": "2022-05-03T17:10:13.301288Z",
     "shell.execute_reply": "2022-05-03T17:10:13.300407Z"
    },
    "papermill": {
     "duration": 0.089244,
     "end_time": "2022-05-03T17:10:13.303489",
     "exception": false,
     "start_time": "2022-05-03T17:10:13.214245",
     "status": "completed"
    },
    "tags": []
   },
   "outputs": [
    {
     "data": {
      "text/plain": [
       "MSSubClass         0\n",
       "MSZoning           0\n",
       "LotFrontage      486\n",
       "LotArea            0\n",
       "Street             0\n",
       "                ... \n",
       "MiscVal            0\n",
       "MoSold             0\n",
       "YrSold             0\n",
       "SaleType           0\n",
       "SaleCondition      0\n",
       "Length: 79, dtype: int64"
      ]
     },
     "execution_count": 9,
     "metadata": {},
     "output_type": "execute_result"
    }
   ],
   "source": [
    "copy_data.select_dtypes('object').isna().sum()\n",
    "copy_data.isna().sum()"
   ]
  },
  {
   "cell_type": "markdown",
   "id": "3fc4b7f4",
   "metadata": {
    "papermill": {
     "duration": 0.044845,
     "end_time": "2022-05-03T17:10:13.393222",
     "exception": false,
     "start_time": "2022-05-03T17:10:13.348377",
     "status": "completed"
    },
    "tags": []
   },
   "source": [
    "#### Filling missing values in numeric columns of data"
   ]
  },
  {
   "cell_type": "code",
   "execution_count": 10,
   "id": "6f7b1ee6",
   "metadata": {
    "execution": {
     "iopub.execute_input": "2022-05-03T17:10:13.484604Z",
     "iopub.status.busy": "2022-05-03T17:10:13.484122Z",
     "iopub.status.idle": "2022-05-03T17:10:13.518186Z",
     "shell.execute_reply": "2022-05-03T17:10:13.517097Z"
    },
    "papermill": {
     "duration": 0.082042,
     "end_time": "2022-05-03T17:10:13.521052",
     "exception": false,
     "start_time": "2022-05-03T17:10:13.439010",
     "status": "completed"
    },
    "tags": []
   },
   "outputs": [],
   "source": [
    "copy_data.select_dtypes(np.number).loc[:, copy_data.isna().sum()>0].columns\n",
    "for column in ['LotFrontage', 'MasVnrArea', 'BsmtFinSF1', 'BsmtFinSF2', 'BsmtUnfSF',\n",
    "       'TotalBsmtSF', 'BsmtFullBath', 'BsmtHalfBath', 'GarageYrBlt',\n",
    "       'GarageCars', 'GarageArea']:\n",
    "    copy_data[column] = copy_data[column].fillna(copy_data[column].mode()[0])"
   ]
  },
  {
   "cell_type": "code",
   "execution_count": 11,
   "id": "710f78f9",
   "metadata": {
    "execution": {
     "iopub.execute_input": "2022-05-03T17:10:13.611945Z",
     "iopub.status.busy": "2022-05-03T17:10:13.611606Z",
     "iopub.status.idle": "2022-05-03T17:10:13.635065Z",
     "shell.execute_reply": "2022-05-03T17:10:13.634308Z"
    },
    "papermill": {
     "duration": 0.071139,
     "end_time": "2022-05-03T17:10:13.637163",
     "exception": false,
     "start_time": "2022-05-03T17:10:13.566024",
     "status": "completed"
    },
    "tags": []
   },
   "outputs": [
    {
     "data": {
      "text/plain": [
       "MSSubClass       0\n",
       "MSZoning         0\n",
       "LotFrontage      0\n",
       "LotArea          0\n",
       "Street           0\n",
       "                ..\n",
       "MiscVal          0\n",
       "MoSold           0\n",
       "YrSold           0\n",
       "SaleType         0\n",
       "SaleCondition    0\n",
       "Length: 79, dtype: int64"
      ]
     },
     "execution_count": 11,
     "metadata": {},
     "output_type": "execute_result"
    }
   ],
   "source": [
    "copy_data.isna().sum()"
   ]
  },
  {
   "cell_type": "code",
   "execution_count": 12,
   "id": "c1d2d326",
   "metadata": {
    "execution": {
     "iopub.execute_input": "2022-05-03T17:10:13.729777Z",
     "iopub.status.busy": "2022-05-03T17:10:13.728873Z",
     "iopub.status.idle": "2022-05-03T17:10:13.766794Z",
     "shell.execute_reply": "2022-05-03T17:10:13.765900Z"
    },
    "papermill": {
     "duration": 0.087158,
     "end_time": "2022-05-03T17:10:13.769590",
     "exception": false,
     "start_time": "2022-05-03T17:10:13.682432",
     "status": "completed"
    },
    "tags": []
   },
   "outputs": [
    {
     "name": "stdout",
     "output_type": "stream",
     "text": [
      "<class 'pandas.core.frame.DataFrame'>\n",
      "Int64Index: 2919 entries, 0 to 1458\n",
      "Data columns (total 79 columns):\n",
      " #   Column         Non-Null Count  Dtype  \n",
      "---  ------         --------------  -----  \n",
      " 0   MSSubClass     2919 non-null   int64  \n",
      " 1   MSZoning       2919 non-null   object \n",
      " 2   LotFrontage    2919 non-null   float64\n",
      " 3   LotArea        2919 non-null   int64  \n",
      " 4   Street         2919 non-null   object \n",
      " 5   Alley          2919 non-null   object \n",
      " 6   LotShape       2919 non-null   object \n",
      " 7   LandContour    2919 non-null   object \n",
      " 8   Utilities      2919 non-null   object \n",
      " 9   LotConfig      2919 non-null   object \n",
      " 10  LandSlope      2919 non-null   object \n",
      " 11  Neighborhood   2919 non-null   object \n",
      " 12  Condition1     2919 non-null   object \n",
      " 13  Condition2     2919 non-null   object \n",
      " 14  BldgType       2919 non-null   object \n",
      " 15  HouseStyle     2919 non-null   object \n",
      " 16  OverallQual    2919 non-null   int64  \n",
      " 17  OverallCond    2919 non-null   int64  \n",
      " 18  YearBuilt      2919 non-null   int64  \n",
      " 19  YearRemodAdd   2919 non-null   int64  \n",
      " 20  RoofStyle      2919 non-null   object \n",
      " 21  RoofMatl       2919 non-null   object \n",
      " 22  Exterior1st    2919 non-null   object \n",
      " 23  Exterior2nd    2919 non-null   object \n",
      " 24  MasVnrType     2919 non-null   object \n",
      " 25  MasVnrArea     2919 non-null   float64\n",
      " 26  ExterQual      2919 non-null   object \n",
      " 27  ExterCond      2919 non-null   object \n",
      " 28  Foundation     2919 non-null   object \n",
      " 29  BsmtQual       2919 non-null   object \n",
      " 30  BsmtCond       2919 non-null   object \n",
      " 31  BsmtExposure   2919 non-null   object \n",
      " 32  BsmtFinType1   2919 non-null   object \n",
      " 33  BsmtFinSF1     2919 non-null   float64\n",
      " 34  BsmtFinType2   2919 non-null   object \n",
      " 35  BsmtFinSF2     2919 non-null   float64\n",
      " 36  BsmtUnfSF      2919 non-null   float64\n",
      " 37  TotalBsmtSF    2919 non-null   float64\n",
      " 38  Heating        2919 non-null   object \n",
      " 39  HeatingQC      2919 non-null   object \n",
      " 40  CentralAir     2919 non-null   object \n",
      " 41  Electrical     2919 non-null   object \n",
      " 42  1stFlrSF       2919 non-null   int64  \n",
      " 43  2ndFlrSF       2919 non-null   int64  \n",
      " 44  LowQualFinSF   2919 non-null   int64  \n",
      " 45  GrLivArea      2919 non-null   int64  \n",
      " 46  BsmtFullBath   2919 non-null   float64\n",
      " 47  BsmtHalfBath   2919 non-null   float64\n",
      " 48  FullBath       2919 non-null   int64  \n",
      " 49  HalfBath       2919 non-null   int64  \n",
      " 50  BedroomAbvGr   2919 non-null   int64  \n",
      " 51  KitchenAbvGr   2919 non-null   int64  \n",
      " 52  KitchenQual    2919 non-null   object \n",
      " 53  TotRmsAbvGrd   2919 non-null   int64  \n",
      " 54  Functional     2919 non-null   object \n",
      " 55  Fireplaces     2919 non-null   int64  \n",
      " 56  FireplaceQu    2919 non-null   object \n",
      " 57  GarageType     2919 non-null   object \n",
      " 58  GarageYrBlt    2919 non-null   float64\n",
      " 59  GarageFinish   2919 non-null   object \n",
      " 60  GarageCars     2919 non-null   float64\n",
      " 61  GarageArea     2919 non-null   float64\n",
      " 62  GarageQual     2919 non-null   object \n",
      " 63  GarageCond     2919 non-null   object \n",
      " 64  PavedDrive     2919 non-null   object \n",
      " 65  WoodDeckSF     2919 non-null   int64  \n",
      " 66  OpenPorchSF    2919 non-null   int64  \n",
      " 67  EnclosedPorch  2919 non-null   int64  \n",
      " 68  3SsnPorch      2919 non-null   int64  \n",
      " 69  ScreenPorch    2919 non-null   int64  \n",
      " 70  PoolArea       2919 non-null   int64  \n",
      " 71  PoolQC         2919 non-null   object \n",
      " 72  Fence          2919 non-null   object \n",
      " 73  MiscFeature    2919 non-null   object \n",
      " 74  MiscVal        2919 non-null   int64  \n",
      " 75  MoSold         2919 non-null   int64  \n",
      " 76  YrSold         2919 non-null   int64  \n",
      " 77  SaleType       2919 non-null   object \n",
      " 78  SaleCondition  2919 non-null   object \n",
      "dtypes: float64(11), int64(25), object(43)\n",
      "memory usage: 1.8+ MB\n"
     ]
    }
   ],
   "source": [
    "copy_data.info()"
   ]
  },
  {
   "cell_type": "markdown",
   "id": "c10d57cd",
   "metadata": {
    "papermill": {
     "duration": 0.045566,
     "end_time": "2022-05-03T17:10:13.861678",
     "exception": false,
     "start_time": "2022-05-03T17:10:13.816112",
     "status": "completed"
    },
    "tags": []
   },
   "source": [
    "### We have cleaned our dataset....yayyy!!"
   ]
  },
  {
   "cell_type": "markdown",
   "id": "ad5c3338",
   "metadata": {
    "papermill": {
     "duration": 0.044883,
     "end_time": "2022-05-03T17:10:13.952800",
     "exception": false,
     "start_time": "2022-05-03T17:10:13.907917",
     "status": "completed"
    },
    "tags": []
   },
   "source": [
    "# Feature selection"
   ]
  },
  {
   "cell_type": "code",
   "execution_count": 13,
   "id": "bfb4fe85",
   "metadata": {
    "execution": {
     "iopub.execute_input": "2022-05-03T17:10:14.045578Z",
     "iopub.status.busy": "2022-05-03T17:10:14.044945Z",
     "iopub.status.idle": "2022-05-03T17:10:14.606556Z",
     "shell.execute_reply": "2022-05-03T17:10:14.605698Z"
    },
    "papermill": {
     "duration": 0.611086,
     "end_time": "2022-05-03T17:10:14.609090",
     "exception": false,
     "start_time": "2022-05-03T17:10:13.998004",
     "status": "completed"
    },
    "tags": []
   },
   "outputs": [
    {
     "data": {
      "image/png": "[encoded data removed]",
      "text/plain": [
       "<Figure size 432x288 with 2 Axes>"
      ]
     },
     "metadata": {
      "needs_background": "light"
     },
     "output_type": "display_data"
    }
   ],
   "source": [
    "data_corr = copy_data.corr()\n",
    "hm = sn.heatmap(data_corr)"
   ]
  },
  {
   "cell_type": "code",
   "execution_count": 14,
   "id": "dc73d010",
   "metadata": {
    "execution": {
     "iopub.execute_input": "2022-05-03T17:10:14.705861Z",
     "iopub.status.busy": "2022-05-03T17:10:14.705328Z",
     "iopub.status.idle": "2022-05-03T17:10:14.716169Z",
     "shell.execute_reply": "2022-05-03T17:10:14.715397Z"
    },
    "papermill": {
     "duration": 0.062671,
     "end_time": "2022-05-03T17:10:14.718714",
     "exception": false,
     "start_time": "2022-05-03T17:10:14.656043",
     "status": "completed"
    },
    "tags": []
   },
   "outputs": [],
   "source": [
    "copy_data['TotalSQFT'] = copy_data['TotalBsmtSF'] + copy_data['1stFlrSF'] + copy_data['2ndFlrSF']\n",
    "copy_data['Yearbuilt/remodelled'] = copy_data['YearBuilt'] + copy_data['YearRemodAdd']\n",
    "copy_data['BSMT'] = copy_data['1stFlrSF'] + copy_data['2ndFlrSF']\n",
    "copy_data['TotalBathrooms'] = copy_data['FullBath'] + copy_data['HalfBath'] + copy_data['BsmtFullBath'] + copy_data['BsmtHalfBath']"
   ]
  },
  {
   "cell_type": "code",
   "execution_count": 15,
   "id": "0edd0922",
   "metadata": {
    "execution": {
     "iopub.execute_input": "2022-05-03T17:10:14.813187Z",
     "iopub.status.busy": "2022-05-03T17:10:14.812479Z",
     "iopub.status.idle": "2022-05-03T17:10:14.833784Z",
     "shell.execute_reply": "2022-05-03T17:10:14.833113Z"
    },
    "papermill": {
     "duration": 0.070116,
     "end_time": "2022-05-03T17:10:14.836024",
     "exception": false,
     "start_time": "2022-05-03T17:10:14.765908",
     "status": "completed"
    },
    "tags": []
   },
   "outputs": [],
   "source": [
    "copy_data['HasPool'] = copy_data['PoolArea'].apply(lambda x : 1 if x>0 else 0)\n",
    "copy_data['Has2ndFloor'] = copy_data['2ndFlrSF'].apply(lambda x : 1 if x>0 else 0)\n",
    "copy_data['HasGarage'] = copy_data['GarageArea'].apply(lambda x : 1 if x>0 else 0)\n",
    "copy_data['HasBsmt'] = copy_data['TotalBsmtSF'].apply(lambda x : 1 if x>0 else 0)\n",
    "copy_data['HasFireplace'] = copy_data['Fireplaces'].apply(lambda x : 1 if x>0 else 0)"
   ]
  },
  {
   "cell_type": "code",
   "execution_count": 16,
   "id": "cb0cc22a",
   "metadata": {
    "execution": {
     "iopub.execute_input": "2022-05-03T17:10:14.929444Z",
     "iopub.status.busy": "2022-05-03T17:10:14.928790Z",
     "iopub.status.idle": "2022-05-03T17:10:15.008248Z",
     "shell.execute_reply": "2022-05-03T17:10:15.007407Z"
    },
    "papermill": {
     "duration": 0.12875,
     "end_time": "2022-05-03T17:10:15.010378",
     "exception": false,
     "start_time": "2022-05-03T17:10:14.881628",
     "status": "completed"
    },
    "tags": []
   },
   "outputs": [
    {
     "data": {
      "text/html": [
       "<div>\n",
       "<style scoped>\n",
       "    .dataframe tbody tr th:only-of-type {\n",
       "        vertical-align: middle;\n",
       "    }\n",
       "\n",
       "    .dataframe tbody tr th {\n",
       "        vertical-align: top;\n",
       "    }\n",
       "\n",
       "    .dataframe thead th {\n",
       "        text-align: right;\n",
       "    }\n",
       "</style>\n",
       "<table border=\"1\" class=\"dataframe\">\n",
       "  <thead>\n",
       "    <tr style=\"text-align: right;\">\n",
       "      <th></th>\n",
       "      <th>index</th>\n",
       "      <th>MSSubClass</th>\n",
       "      <th>LotFrontage</th>\n",
       "      <th>LotArea</th>\n",
       "      <th>OverallQual</th>\n",
       "      <th>OverallCond</th>\n",
       "      <th>YearBuilt</th>\n",
       "      <th>YearRemodAdd</th>\n",
       "      <th>MasVnrArea</th>\n",
       "      <th>BsmtFinSF1</th>\n",
       "      <th>...</th>\n",
       "      <th>SaleType_ConLw</th>\n",
       "      <th>SaleType_New</th>\n",
       "      <th>SaleType_Oth</th>\n",
       "      <th>SaleType_WD</th>\n",
       "      <th>SaleCondition_Abnorml</th>\n",
       "      <th>SaleCondition_AdjLand</th>\n",
       "      <th>SaleCondition_Alloca</th>\n",
       "      <th>SaleCondition_Family</th>\n",
       "      <th>SaleCondition_Normal</th>\n",
       "      <th>SaleCondition_Partial</th>\n",
       "    </tr>\n",
       "  </thead>\n",
       "  <tbody>\n",
       "    <tr>\n",
       "      <th>0</th>\n",
       "      <td>0</td>\n",
       "      <td>60</td>\n",
       "      <td>65.0</td>\n",
       "      <td>8450</td>\n",
       "      <td>7</td>\n",
       "      <td>5</td>\n",
       "      <td>2003</td>\n",
       "      <td>2003</td>\n",
       "      <td>196.0</td>\n",
       "      <td>706.0</td>\n",
       "      <td>...</td>\n",
       "      <td>0</td>\n",
       "      <td>0</td>\n",
       "      <td>0</td>\n",
       "      <td>1</td>\n",
       "      <td>0</td>\n",
       "      <td>0</td>\n",
       "      <td>0</td>\n",
       "      <td>0</td>\n",
       "      <td>1</td>\n",
       "      <td>0</td>\n",
       "    </tr>\n",
       "    <tr>\n",
       "      <th>1</th>\n",
       "      <td>1</td>\n",
       "      <td>20</td>\n",
       "      <td>80.0</td>\n",
       "      <td>9600</td>\n",
       "      <td>6</td>\n",
       "      <td>8</td>\n",
       "      <td>1976</td>\n",
       "      <td>1976</td>\n",
       "      <td>0.0</td>\n",
       "      <td>978.0</td>\n",
       "      <td>...</td>\n",
       "      <td>0</td>\n",
       "      <td>0</td>\n",
       "      <td>0</td>\n",
       "      <td>1</td>\n",
       "      <td>0</td>\n",
       "      <td>0</td>\n",
       "      <td>0</td>\n",
       "      <td>0</td>\n",
       "      <td>1</td>\n",
       "      <td>0</td>\n",
       "    </tr>\n",
       "    <tr>\n",
       "      <th>2</th>\n",
       "      <td>2</td>\n",
       "      <td>60</td>\n",
       "      <td>68.0</td>\n",
       "      <td>11250</td>\n",
       "      <td>7</td>\n",
       "      <td>5</td>\n",
       "      <td>2001</td>\n",
       "      <td>2002</td>\n",
       "      <td>162.0</td>\n",
       "      <td>486.0</td>\n",
       "      <td>...</td>\n",
       "      <td>0</td>\n",
       "      <td>0</td>\n",
       "      <td>0</td>\n",
       "      <td>1</td>\n",
       "      <td>0</td>\n",
       "      <td>0</td>\n",
       "      <td>0</td>\n",
       "      <td>0</td>\n",
       "      <td>1</td>\n",
       "      <td>0</td>\n",
       "    </tr>\n",
       "    <tr>\n",
       "      <th>3</th>\n",
       "      <td>3</td>\n",
       "      <td>70</td>\n",
       "      <td>60.0</td>\n",
       "      <td>9550</td>\n",
       "      <td>7</td>\n",
       "      <td>5</td>\n",
       "      <td>1915</td>\n",
       "      <td>1970</td>\n",
       "      <td>0.0</td>\n",
       "      <td>216.0</td>\n",
       "      <td>...</td>\n",
       "      <td>0</td>\n",
       "      <td>0</td>\n",
       "      <td>0</td>\n",
       "      <td>1</td>\n",
       "      <td>1</td>\n",
       "      <td>0</td>\n",
       "      <td>0</td>\n",
       "      <td>0</td>\n",
       "      <td>0</td>\n",
       "      <td>0</td>\n",
       "    </tr>\n",
       "    <tr>\n",
       "      <th>4</th>\n",
       "      <td>4</td>\n",
       "      <td>60</td>\n",
       "      <td>84.0</td>\n",
       "      <td>14260</td>\n",
       "      <td>8</td>\n",
       "      <td>5</td>\n",
       "      <td>2000</td>\n",
       "      <td>2000</td>\n",
       "      <td>350.0</td>\n",
       "      <td>655.0</td>\n",
       "      <td>...</td>\n",
       "      <td>0</td>\n",
       "      <td>0</td>\n",
       "      <td>0</td>\n",
       "      <td>1</td>\n",
       "      <td>0</td>\n",
       "      <td>0</td>\n",
       "      <td>0</td>\n",
       "      <td>0</td>\n",
       "      <td>1</td>\n",
       "      <td>0</td>\n",
       "    </tr>\n",
       "  </tbody>\n",
       "</table>\n",
       "<p>5 rows × 312 columns</p>\n",
       "</div>"
      ],
      "text/plain": [
       "   index  MSSubClass  LotFrontage  LotArea  OverallQual  OverallCond  \\\n",
       "0      0          60         65.0     8450            7            5   \n",
       "1      1          20         80.0     9600            6            8   \n",
       "2      2          60         68.0    11250            7            5   \n",
       "3      3          70         60.0     9550            7            5   \n",
       "4      4          60         84.0    14260            8            5   \n",
       "\n",
       "   YearBuilt  YearRemodAdd  MasVnrArea  BsmtFinSF1  ...  SaleType_ConLw  \\\n",
       "0       2003          2003       196.0       706.0  ...               0   \n",
       "1       1976          1976         0.0       978.0  ...               0   \n",
       "2       2001          2002       162.0       486.0  ...               0   \n",
       "3       1915          1970         0.0       216.0  ...               0   \n",
       "4       2000          2000       350.0       655.0  ...               0   \n",
       "\n",
       "   SaleType_New  SaleType_Oth  SaleType_WD  SaleCondition_Abnorml  \\\n",
       "0             0             0            1                      0   \n",
       "1             0             0            1                      0   \n",
       "2             0             0            1                      0   \n",
       "3             0             0            1                      1   \n",
       "4             0             0            1                      0   \n",
       "\n",
       "   SaleCondition_AdjLand  SaleCondition_Alloca  SaleCondition_Family  \\\n",
       "0                      0                     0                     0   \n",
       "1                      0                     0                     0   \n",
       "2                      0                     0                     0   \n",
       "3                      0                     0                     0   \n",
       "4                      0                     0                     0   \n",
       "\n",
       "   SaleCondition_Normal  SaleCondition_Partial  \n",
       "0                     1                      0  \n",
       "1                     1                      0  \n",
       "2                     1                      0  \n",
       "3                     0                      0  \n",
       "4                     1                      0  \n",
       "\n",
       "[5 rows x 312 columns]"
      ]
     },
     "execution_count": 16,
     "metadata": {},
     "output_type": "execute_result"
    }
   ],
   "source": [
    "copy_data.head()\n",
    "final_features = pd.get_dummies(copy_data).reset_index()\n",
    "final_features.head()"
   ]
  },
  {
   "cell_type": "markdown",
   "id": "132b53ec",
   "metadata": {
    "papermill": {
     "duration": 0.046353,
     "end_time": "2022-05-03T17:10:15.102739",
     "exception": false,
     "start_time": "2022-05-03T17:10:15.056386",
     "status": "completed"
    },
    "tags": []
   },
   "source": [
    "### Splitting the dataset for training/testing"
   ]
  },
  {
   "cell_type": "code",
   "execution_count": 17,
   "id": "b2e6bdbe",
   "metadata": {
    "execution": {
     "iopub.execute_input": "2022-05-03T17:10:15.196818Z",
     "iopub.status.busy": "2022-05-03T17:10:15.196504Z",
     "iopub.status.idle": "2022-05-03T17:10:15.200971Z",
     "shell.execute_reply": "2022-05-03T17:10:15.199894Z"
    },
    "papermill": {
     "duration": 0.054276,
     "end_time": "2022-05-03T17:10:15.203104",
     "exception": false,
     "start_time": "2022-05-03T17:10:15.148828",
     "status": "completed"
    },
    "tags": []
   },
   "outputs": [],
   "source": [
    "x_train = final_features[:1460]\n",
    "x_test = final_features[1460:]"
   ]
  },
  {
   "cell_type": "markdown",
   "id": "b4953ab1",
   "metadata": {
    "papermill": {
     "duration": 0.045528,
     "end_time": "2022-05-03T17:10:15.294406",
     "exception": false,
     "start_time": "2022-05-03T17:10:15.248878",
     "status": "completed"
    },
    "tags": []
   },
   "source": [
    "## Principal component analysis (PCA)"
   ]
  },
  {
   "cell_type": "code",
   "execution_count": 18,
   "id": "3e004368",
   "metadata": {
    "execution": {
     "iopub.execute_input": "2022-05-03T17:10:15.388450Z",
     "iopub.status.busy": "2022-05-03T17:10:15.388186Z",
     "iopub.status.idle": "2022-05-03T17:10:15.619024Z",
     "shell.execute_reply": "2022-05-03T17:10:15.617877Z"
    },
    "papermill": {
     "duration": 0.281132,
     "end_time": "2022-05-03T17:10:15.621623",
     "exception": false,
     "start_time": "2022-05-03T17:10:15.340491",
     "status": "completed"
    },
    "tags": []
   },
   "outputs": [],
   "source": [
    "from sklearn.model_selection import train_test_split\n",
    "from sklearn.preprocessing import StandardScaler\n",
    "\n",
    "sc = StandardScaler()\n",
    "x_train = sc.fit_transform(x_train)"
   ]
  },
  {
   "cell_type": "code",
   "execution_count": 19,
   "id": "1cd1ab13",
   "metadata": {
    "execution": {
     "iopub.execute_input": "2022-05-03T17:10:15.718684Z",
     "iopub.status.busy": "2022-05-03T17:10:15.717900Z",
     "iopub.status.idle": "2022-05-03T17:10:15.959454Z",
     "shell.execute_reply": "2022-05-03T17:10:15.958371Z"
    },
    "papermill": {
     "duration": 0.293766,
     "end_time": "2022-05-03T17:10:15.963054",
     "exception": false,
     "start_time": "2022-05-03T17:10:15.669288",
     "status": "completed"
    },
    "tags": []
   },
   "outputs": [],
   "source": [
    "from sklearn.decomposition import PCA\n",
    "pca_com = 250\n",
    "pca = PCA(n_components=312)\n",
    "x_train = pca.fit_transform(x_train)"
   ]
  },
  {
   "cell_type": "code",
   "execution_count": 20,
   "id": "3e6d0daa",
   "metadata": {
    "execution": {
     "iopub.execute_input": "2022-05-03T17:10:16.120932Z",
     "iopub.status.busy": "2022-05-03T17:10:16.120553Z",
     "iopub.status.idle": "2022-05-03T17:10:16.304925Z",
     "shell.execute_reply": "2022-05-03T17:10:16.303702Z"
    },
    "papermill": {
     "duration": 0.236218,
     "end_time": "2022-05-03T17:10:16.307183",
     "exception": false,
     "start_time": "2022-05-03T17:10:16.070965",
     "status": "completed"
    },
    "tags": []
   },
   "outputs": [
    {
     "data": {
      "image/png": "[encoded data removed]",
      "text/plain": [
       "<Figure size 432x288 with 1 Axes>"
      ]
     },
     "metadata": {
      "needs_background": "light"
     },
     "output_type": "display_data"
    }
   ],
   "source": [
    "explained_variance = pca.explained_variance_ratio_\n",
    "plt.figure()\n",
    "plt.plot(np.cumsum(pca.explained_variance_ratio_))\n",
    "plt.xlabel('Number of components')\n",
    "plt.ylabel('Explained variance (%)')\n",
    "plt.show()"
   ]
  },
  {
   "cell_type": "markdown",
   "id": "95f86b54",
   "metadata": {
    "papermill": {
     "duration": 0.046953,
     "end_time": "2022-05-03T17:10:16.401158",
     "exception": false,
     "start_time": "2022-05-03T17:10:16.354205",
     "status": "completed"
    },
    "tags": []
   },
   "source": [
    "### Dropping the redundant features"
   ]
  },
  {
   "cell_type": "code",
   "execution_count": 21,
   "id": "26646885",
   "metadata": {
    "execution": {
     "iopub.execute_input": "2022-05-03T17:10:16.497634Z",
     "iopub.status.busy": "2022-05-03T17:10:16.497014Z",
     "iopub.status.idle": "2022-05-03T17:10:16.526266Z",
     "shell.execute_reply": "2022-05-03T17:10:16.525532Z"
    },
    "papermill": {
     "duration": 0.079731,
     "end_time": "2022-05-03T17:10:16.528095",
     "exception": false,
     "start_time": "2022-05-03T17:10:16.448364",
     "status": "completed"
    },
    "tags": []
   },
   "outputs": [
    {
     "data": {
      "text/html": [
       "<div>\n",
       "<style scoped>\n",
       "    .dataframe tbody tr th:only-of-type {\n",
       "        vertical-align: middle;\n",
       "    }\n",
       "\n",
       "    .dataframe tbody tr th {\n",
       "        vertical-align: top;\n",
       "    }\n",
       "\n",
       "    .dataframe thead th {\n",
       "        text-align: right;\n",
       "    }\n",
       "</style>\n",
       "<table border=\"1\" class=\"dataframe\">\n",
       "  <thead>\n",
       "    <tr style=\"text-align: right;\">\n",
       "      <th></th>\n",
       "      <th>index</th>\n",
       "      <th>MSSubClass</th>\n",
       "      <th>LotFrontage</th>\n",
       "      <th>LotArea</th>\n",
       "      <th>OverallQual</th>\n",
       "      <th>OverallCond</th>\n",
       "      <th>YearBuilt</th>\n",
       "      <th>YearRemodAdd</th>\n",
       "      <th>MasVnrArea</th>\n",
       "      <th>BsmtFinSF1</th>\n",
       "      <th>...</th>\n",
       "      <th>KitchenQual_Ex</th>\n",
       "      <th>KitchenQual_Fa</th>\n",
       "      <th>KitchenQual_Gd</th>\n",
       "      <th>KitchenQual_TA</th>\n",
       "      <th>Functional_Maj1</th>\n",
       "      <th>Functional_Maj2</th>\n",
       "      <th>Functional_Min1</th>\n",
       "      <th>Functional_Min2</th>\n",
       "      <th>Functional_Mod</th>\n",
       "      <th>Functional_Sev</th>\n",
       "    </tr>\n",
       "  </thead>\n",
       "  <tbody>\n",
       "    <tr>\n",
       "      <th>0</th>\n",
       "      <td>0</td>\n",
       "      <td>60</td>\n",
       "      <td>65.0</td>\n",
       "      <td>8450</td>\n",
       "      <td>7</td>\n",
       "      <td>5</td>\n",
       "      <td>2003</td>\n",
       "      <td>2003</td>\n",
       "      <td>196.0</td>\n",
       "      <td>706.0</td>\n",
       "      <td>...</td>\n",
       "      <td>0</td>\n",
       "      <td>0</td>\n",
       "      <td>1</td>\n",
       "      <td>0</td>\n",
       "      <td>0</td>\n",
       "      <td>0</td>\n",
       "      <td>0</td>\n",
       "      <td>0</td>\n",
       "      <td>0</td>\n",
       "      <td>0</td>\n",
       "    </tr>\n",
       "    <tr>\n",
       "      <th>1</th>\n",
       "      <td>1</td>\n",
       "      <td>20</td>\n",
       "      <td>80.0</td>\n",
       "      <td>9600</td>\n",
       "      <td>6</td>\n",
       "      <td>8</td>\n",
       "      <td>1976</td>\n",
       "      <td>1976</td>\n",
       "      <td>0.0</td>\n",
       "      <td>978.0</td>\n",
       "      <td>...</td>\n",
       "      <td>0</td>\n",
       "      <td>0</td>\n",
       "      <td>0</td>\n",
       "      <td>1</td>\n",
       "      <td>0</td>\n",
       "      <td>0</td>\n",
       "      <td>0</td>\n",
       "      <td>0</td>\n",
       "      <td>0</td>\n",
       "      <td>0</td>\n",
       "    </tr>\n",
       "    <tr>\n",
       "      <th>2</th>\n",
       "      <td>2</td>\n",
       "      <td>60</td>\n",
       "      <td>68.0</td>\n",
       "      <td>11250</td>\n",
       "      <td>7</td>\n",
       "      <td>5</td>\n",
       "      <td>2001</td>\n",
       "      <td>2002</td>\n",
       "      <td>162.0</td>\n",
       "      <td>486.0</td>\n",
       "      <td>...</td>\n",
       "      <td>0</td>\n",
       "      <td>0</td>\n",
       "      <td>1</td>\n",
       "      <td>0</td>\n",
       "      <td>0</td>\n",
       "      <td>0</td>\n",
       "      <td>0</td>\n",
       "      <td>0</td>\n",
       "      <td>0</td>\n",
       "      <td>0</td>\n",
       "    </tr>\n",
       "    <tr>\n",
       "      <th>3</th>\n",
       "      <td>3</td>\n",
       "      <td>70</td>\n",
       "      <td>60.0</td>\n",
       "      <td>9550</td>\n",
       "      <td>7</td>\n",
       "      <td>5</td>\n",
       "      <td>1915</td>\n",
       "      <td>1970</td>\n",
       "      <td>0.0</td>\n",
       "      <td>216.0</td>\n",
       "      <td>...</td>\n",
       "      <td>0</td>\n",
       "      <td>0</td>\n",
       "      <td>1</td>\n",
       "      <td>0</td>\n",
       "      <td>0</td>\n",
       "      <td>0</td>\n",
       "      <td>0</td>\n",
       "      <td>0</td>\n",
       "      <td>0</td>\n",
       "      <td>0</td>\n",
       "    </tr>\n",
       "    <tr>\n",
       "      <th>4</th>\n",
       "      <td>4</td>\n",
       "      <td>60</td>\n",
       "      <td>84.0</td>\n",
       "      <td>14260</td>\n",
       "      <td>8</td>\n",
       "      <td>5</td>\n",
       "      <td>2000</td>\n",
       "      <td>2000</td>\n",
       "      <td>350.0</td>\n",
       "      <td>655.0</td>\n",
       "      <td>...</td>\n",
       "      <td>0</td>\n",
       "      <td>0</td>\n",
       "      <td>1</td>\n",
       "      <td>0</td>\n",
       "      <td>0</td>\n",
       "      <td>0</td>\n",
       "      <td>0</td>\n",
       "      <td>0</td>\n",
       "      <td>0</td>\n",
       "      <td>0</td>\n",
       "    </tr>\n",
       "  </tbody>\n",
       "</table>\n",
       "<p>5 rows × 250 columns</p>\n",
       "</div>"
      ],
      "text/plain": [
       "   index  MSSubClass  LotFrontage  LotArea  OverallQual  OverallCond  \\\n",
       "0      0          60         65.0     8450            7            5   \n",
       "1      1          20         80.0     9600            6            8   \n",
       "2      2          60         68.0    11250            7            5   \n",
       "3      3          70         60.0     9550            7            5   \n",
       "4      4          60         84.0    14260            8            5   \n",
       "\n",
       "   YearBuilt  YearRemodAdd  MasVnrArea  BsmtFinSF1  ...  KitchenQual_Ex  \\\n",
       "0       2003          2003       196.0       706.0  ...               0   \n",
       "1       1976          1976         0.0       978.0  ...               0   \n",
       "2       2001          2002       162.0       486.0  ...               0   \n",
       "3       1915          1970         0.0       216.0  ...               0   \n",
       "4       2000          2000       350.0       655.0  ...               0   \n",
       "\n",
       "   KitchenQual_Fa  KitchenQual_Gd  KitchenQual_TA  Functional_Maj1  \\\n",
       "0               0               1               0                0   \n",
       "1               0               0               1                0   \n",
       "2               0               1               0                0   \n",
       "3               0               1               0                0   \n",
       "4               0               1               0                0   \n",
       "\n",
       "   Functional_Maj2  Functional_Min1  Functional_Min2  Functional_Mod  \\\n",
       "0                0                0                0               0   \n",
       "1                0                0                0               0   \n",
       "2                0                0                0               0   \n",
       "3                0                0                0               0   \n",
       "4                0                0                0               0   \n",
       "\n",
       "   Functional_Sev  \n",
       "0               0  \n",
       "1               0  \n",
       "2               0  \n",
       "3               0  \n",
       "4               0  \n",
       "\n",
       "[5 rows x 250 columns]"
      ]
     },
     "execution_count": 21,
     "metadata": {},
     "output_type": "execute_result"
    }
   ],
   "source": [
    "var_matrix = (pd.concat([pd.DataFrame(list(final_features.columns), columns = ['Factors']),\n",
    "                         pd.DataFrame(list(explained_variance**2), columns = ['^2 variance'])], axis=1)).sort_values(by='^2 variance', ascending=False)[0:pca_com]\n",
    "\n",
    "list(var_matrix['Factors'])\n",
    "\n",
    "x_new = final_features[list(var_matrix['Factors'])]\n",
    "x_new.shape\n",
    "x_new.head()"
   ]
  },
  {
   "cell_type": "markdown",
   "id": "52d1ba9f",
   "metadata": {
    "papermill": {
     "duration": 0.047381,
     "end_time": "2022-05-03T17:10:16.622917",
     "exception": false,
     "start_time": "2022-05-03T17:10:16.575536",
     "status": "completed"
    },
    "tags": []
   },
   "source": [
    "### Resplitting the dataset into test and train"
   ]
  },
  {
   "cell_type": "code",
   "execution_count": 22,
   "id": "b536c432",
   "metadata": {
    "execution": {
     "iopub.execute_input": "2022-05-03T17:10:16.723916Z",
     "iopub.status.busy": "2022-05-03T17:10:16.723434Z",
     "iopub.status.idle": "2022-05-03T17:10:16.729475Z",
     "shell.execute_reply": "2022-05-03T17:10:16.728432Z"
    },
    "papermill": {
     "duration": 0.058273,
     "end_time": "2022-05-03T17:10:16.731669",
     "exception": false,
     "start_time": "2022-05-03T17:10:16.673396",
     "status": "completed"
    },
    "tags": []
   },
   "outputs": [],
   "source": [
    "x_train = x_new[:1460]\n",
    "x_test = x_new[1460:]"
   ]
  },
  {
   "cell_type": "markdown",
   "id": "8a6ae08a",
   "metadata": {
    "papermill": {
     "duration": 0.049589,
     "end_time": "2022-05-03T17:10:16.829353",
     "exception": false,
     "start_time": "2022-05-03T17:10:16.779764",
     "status": "completed"
    },
    "tags": []
   },
   "source": [
    "# Building a linear regression model"
   ]
  },
  {
   "cell_type": "code",
   "execution_count": 23,
   "id": "08771bc4",
   "metadata": {
    "execution": {
     "iopub.execute_input": "2022-05-03T17:10:16.930232Z",
     "iopub.status.busy": "2022-05-03T17:10:16.929531Z",
     "iopub.status.idle": "2022-05-03T17:10:16.939194Z",
     "shell.execute_reply": "2022-05-03T17:10:16.938243Z"
    },
    "papermill": {
     "duration": 0.06386,
     "end_time": "2022-05-03T17:10:16.941647",
     "exception": false,
     "start_time": "2022-05-03T17:10:16.877787",
     "status": "completed"
    },
    "tags": []
   },
   "outputs": [],
   "source": [
    "x_train_t, x_test_t, y_train_t, y_test_t = train_test_split(x_train, target_price, test_size=0.4)"
   ]
  },
  {
   "cell_type": "markdown",
   "id": "dd318c40",
   "metadata": {
    "papermill": {
     "duration": 0.048636,
     "end_time": "2022-05-03T17:10:17.041039",
     "exception": false,
     "start_time": "2022-05-03T17:10:16.992403",
     "status": "completed"
    },
    "tags": []
   },
   "source": [
    "### Training the model"
   ]
  },
  {
   "cell_type": "code",
   "execution_count": 24,
   "id": "5d389302",
   "metadata": {
    "execution": {
     "iopub.execute_input": "2022-05-03T17:10:17.141295Z",
     "iopub.status.busy": "2022-05-03T17:10:17.140455Z",
     "iopub.status.idle": "2022-05-03T17:10:17.189272Z",
     "shell.execute_reply": "2022-05-03T17:10:17.188165Z"
    },
    "papermill": {
     "duration": 0.102607,
     "end_time": "2022-05-03T17:10:17.193263",
     "exception": false,
     "start_time": "2022-05-03T17:10:17.090656",
     "status": "completed"
    },
    "tags": []
   },
   "outputs": [],
   "source": [
    "from sklearn.linear_model import LinearRegression\n",
    "LR = LinearRegression()\n",
    "\n",
    "model = LR.fit(x_train_t, y_train_t)"
   ]
  },
  {
   "cell_type": "markdown",
   "id": "163c3ad5",
   "metadata": {
    "papermill": {
     "duration": 0.056458,
     "end_time": "2022-05-03T17:10:17.337587",
     "exception": false,
     "start_time": "2022-05-03T17:10:17.281129",
     "status": "completed"
    },
    "tags": []
   },
   "source": [
    "### Running test cases"
   ]
  },
  {
   "cell_type": "code",
   "execution_count": 25,
   "id": "e7bdcf87",
   "metadata": {
    "execution": {
     "iopub.execute_input": "2022-05-03T17:10:17.439522Z",
     "iopub.status.busy": "2022-05-03T17:10:17.439213Z",
     "iopub.status.idle": "2022-05-03T17:10:17.454874Z",
     "shell.execute_reply": "2022-05-03T17:10:17.453880Z"
    },
    "papermill": {
     "duration": 0.071269,
     "end_time": "2022-05-03T17:10:17.458971",
     "exception": false,
     "start_time": "2022-05-03T17:10:17.387702",
     "status": "completed"
    },
    "tags": []
   },
   "outputs": [],
   "source": [
    "predicted_price = LR.predict(x_test_t)"
   ]
  },
  {
   "cell_type": "markdown",
   "id": "c2cdb50f",
   "metadata": {
    "papermill": {
     "duration": 0.057695,
     "end_time": "2022-05-03T17:10:17.605546",
     "exception": false,
     "start_time": "2022-05-03T17:10:17.547851",
     "status": "completed"
    },
    "tags": []
   },
   "source": [
    "### Comparison between test values and predicted values"
   ]
  },
  {
   "cell_type": "code",
   "execution_count": 26,
   "id": "6b345cc6",
   "metadata": {
    "execution": {
     "iopub.execute_input": "2022-05-03T17:10:17.705458Z",
     "iopub.status.busy": "2022-05-03T17:10:17.705062Z",
     "iopub.status.idle": "2022-05-03T17:10:17.920924Z",
     "shell.execute_reply": "2022-05-03T17:10:17.920106Z"
    },
    "papermill": {
     "duration": 0.268361,
     "end_time": "2022-05-03T17:10:17.922872",
     "exception": false,
     "start_time": "2022-05-03T17:10:17.654511",
     "status": "completed"
    },
    "tags": []
   },
   "outputs": [
    {
     "data": {
      "image/png": "[encoded data removed]",
      "text/plain": [
       "<Figure size 432x288 with 1 Axes>"
      ]
     },
     "metadata": {
      "needs_background": "light"
     },
     "output_type": "display_data"
    }
   ],
   "source": [
    "plt.scatter(y_test_t, predicted_price, color='r')\n",
    "plt.xlabel('Test values')\n",
    "plt.ylabel('Predicted values')\n",
    "plt.title('Test vs Prediction')\n",
    "plt.show()"
   ]
  },
  {
   "cell_type": "markdown",
   "id": "c2543be5",
   "metadata": {
    "papermill": {
     "duration": 0.048775,
     "end_time": "2022-05-03T17:10:18.021396",
     "exception": false,
     "start_time": "2022-05-03T17:10:17.972621",
     "status": "completed"
    },
    "tags": []
   },
   "source": [
    "# Final submission"
   ]
  },
  {
   "cell_type": "code",
   "execution_count": 27,
   "id": "4b9e917b",
   "metadata": {
    "execution": {
     "iopub.execute_input": "2022-05-03T17:10:18.126758Z",
     "iopub.status.busy": "2022-05-03T17:10:18.126270Z",
     "iopub.status.idle": "2022-05-03T17:10:18.148886Z",
     "shell.execute_reply": "2022-05-03T17:10:18.147853Z"
    },
    "papermill": {
     "duration": 0.080039,
     "end_time": "2022-05-03T17:10:18.152485",
     "exception": false,
     "start_time": "2022-05-03T17:10:18.072446",
     "status": "completed"
    },
    "tags": []
   },
   "outputs": [],
   "source": [
    "y_pred = LR.predict(x_test_t)\n",
    "prediction = pd.DataFrame(y_pred)\n",
    "\n",
    "prediction.columns = ['SalePrice']\n",
    "prediction = pd.concat([pd.DataFrame(test['Id']), prediction], axis=1)\n",
    "\n",
    "prediction['SalePrice'] = prediction['SalePrice'].fillna(prediction['SalePrice'].mode()[0])\n",
    "\n",
    "\n",
    "prediction['SalePrice'] = prediction['SalePrice'].astype(float)\n"
   ]
  },
  {
   "cell_type": "code",
   "execution_count": 28,
   "id": "71944bc9",
   "metadata": {
    "execution": {
     "iopub.execute_input": "2022-05-03T17:10:18.314912Z",
     "iopub.status.busy": "2022-05-03T17:10:18.314235Z",
     "iopub.status.idle": "2022-05-03T17:10:18.333535Z",
     "shell.execute_reply": "2022-05-03T17:10:18.332612Z"
    },
    "papermill": {
     "duration": 0.072936,
     "end_time": "2022-05-03T17:10:18.335999",
     "exception": false,
     "start_time": "2022-05-03T17:10:18.263063",
     "status": "completed"
    },
    "tags": []
   },
   "outputs": [],
   "source": [
    "prediction.to_csv('KaggleSubVideo.csv', index=False)"
   ]
  },
  {
   "cell_type": "code",
   "execution_count": 29,
   "id": "3dc04992",
   "metadata": {
    "execution": {
     "iopub.execute_input": "2022-05-03T17:10:18.441410Z",
     "iopub.status.busy": "2022-05-03T17:10:18.440612Z",
     "iopub.status.idle": "2022-05-03T17:10:18.454410Z",
     "shell.execute_reply": "2022-05-03T17:10:18.453837Z"
    },
    "papermill": {
     "duration": 0.07172,
     "end_time": "2022-05-03T17:10:18.457130",
     "exception": false,
     "start_time": "2022-05-03T17:10:18.385410",
     "status": "completed"
    },
    "tags": []
   },
   "outputs": [
    {
     "data": {
      "text/html": [
       "<div>\n",
       "<style scoped>\n",
       "    .dataframe tbody tr th:only-of-type {\n",
       "        vertical-align: middle;\n",
       "    }\n",
       "\n",
       "    .dataframe tbody tr th {\n",
       "        vertical-align: top;\n",
       "    }\n",
       "\n",
       "    .dataframe thead th {\n",
       "        text-align: right;\n",
       "    }\n",
       "</style>\n",
       "<table border=\"1\" class=\"dataframe\">\n",
       "  <thead>\n",
       "    <tr style=\"text-align: right;\">\n",
       "      <th></th>\n",
       "      <th>Id</th>\n",
       "      <th>SalePrice</th>\n",
       "    </tr>\n",
       "  </thead>\n",
       "  <tbody>\n",
       "    <tr>\n",
       "      <th>0</th>\n",
       "      <td>1461</td>\n",
       "      <td>232780.738692</td>\n",
       "    </tr>\n",
       "    <tr>\n",
       "      <th>1</th>\n",
       "      <td>1462</td>\n",
       "      <td>215462.193885</td>\n",
       "    </tr>\n",
       "    <tr>\n",
       "      <th>2</th>\n",
       "      <td>1463</td>\n",
       "      <td>126085.546259</td>\n",
       "    </tr>\n",
       "    <tr>\n",
       "      <th>3</th>\n",
       "      <td>1464</td>\n",
       "      <td>114374.021881</td>\n",
       "    </tr>\n",
       "    <tr>\n",
       "      <th>4</th>\n",
       "      <td>1465</td>\n",
       "      <td>110932.652015</td>\n",
       "    </tr>\n",
       "    <tr>\n",
       "      <th>...</th>\n",
       "      <td>...</td>\n",
       "      <td>...</td>\n",
       "    </tr>\n",
       "    <tr>\n",
       "      <th>1454</th>\n",
       "      <td>2915</td>\n",
       "      <td>-7634.268183</td>\n",
       "    </tr>\n",
       "    <tr>\n",
       "      <th>1455</th>\n",
       "      <td>2916</td>\n",
       "      <td>-7634.268183</td>\n",
       "    </tr>\n",
       "    <tr>\n",
       "      <th>1456</th>\n",
       "      <td>2917</td>\n",
       "      <td>-7634.268183</td>\n",
       "    </tr>\n",
       "    <tr>\n",
       "      <th>1457</th>\n",
       "      <td>2918</td>\n",
       "      <td>-7634.268183</td>\n",
       "    </tr>\n",
       "    <tr>\n",
       "      <th>1458</th>\n",
       "      <td>2919</td>\n",
       "      <td>-7634.268183</td>\n",
       "    </tr>\n",
       "  </tbody>\n",
       "</table>\n",
       "<p>1459 rows × 2 columns</p>\n",
       "</div>"
      ],
      "text/plain": [
       "        Id      SalePrice\n",
       "0     1461  232780.738692\n",
       "1     1462  215462.193885\n",
       "2     1463  126085.546259\n",
       "3     1464  114374.021881\n",
       "4     1465  110932.652015\n",
       "...    ...            ...\n",
       "1454  2915   -7634.268183\n",
       "1455  2916   -7634.268183\n",
       "1456  2917   -7634.268183\n",
       "1457  2918   -7634.268183\n",
       "1458  2919   -7634.268183\n",
       "\n",
       "[1459 rows x 2 columns]"
      ]
     },
     "execution_count": 29,
     "metadata": {},
     "output_type": "execute_result"
    }
   ],
   "source": [
    "prediction"
   ]
  }
 ],
 "metadata": {
  "kernelspec": {
   "display_name": "Python 3",
   "language": "python",
   "name": "python3"
  },
  "language_info": {
   "codemirror_mode": {
    "name": "ipython",
    "version": 3
   },
   "file_extension": ".py",
   "mimetype": "text/x-python",
   "name": "python",
   "nbconvert_exporter": "python",
   "pygments_lexer": "ipython3",
   "version": "3.7.12"
  },
  "papermill": {
   "default_parameters": {},
   "duration": 20.051611,
   "end_time": "2022-05-03T17:10:19.335736",
   "environment_variables": {},
   "exception": null,
   "input_path": "__notebook__.ipynb",
   "output_path": "__notebook__.ipynb",
   "parameters": {},
   "start_time": "2022-05-03T17:09:59.284125",
   "version": "2.3.4"
  }
 },
 "nbformat": 4,
 "nbformat_minor": 5
}
