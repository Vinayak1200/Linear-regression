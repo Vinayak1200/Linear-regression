{
 "cells": [
  {
   "cell_type": "code",
   "execution_count": 1,
   "id": "93c2b3a1",
   "metadata": {
    "_cell_guid": "b1076dfc-b9ad-4769-8c92-a6c4dae69d19",
    "_uuid": "8f2839f25d086af736a60e9eeb907d3b93b6e0e5",
    "execution": {
     "iopub.execute_input": "2022-05-03T14:13:36.632054Z",
     "iopub.status.busy": "2022-05-03T14:13:36.631617Z",
     "iopub.status.idle": "2022-05-03T14:13:36.647720Z",
     "shell.execute_reply": "2022-05-03T14:13:36.646853Z"
    },
    "papermill": {
     "duration": 0.062427,
     "end_time": "2022-05-03T14:13:36.650312",
     "exception": false,
     "start_time": "2022-05-03T14:13:36.587885",
     "status": "completed"
    },
    "tags": []
   },
   "outputs": [
    {
     "name": "stdout",
     "output_type": "stream",
     "text": [
      "/kaggle/input/house-prices-advanced-regression-techniques/sample_submission.csv\n",
      "/kaggle/input/house-prices-advanced-regression-techniques/data_description.txt\n",
      "/kaggle/input/house-prices-advanced-regression-techniques/train.csv\n",
      "/kaggle/input/house-prices-advanced-regression-techniques/test.csv\n"
     ]
    }
   ],
   "source": [
    "# This Python 3 environment comes with many helpful analytics libraries installed\n",
    "# It is defined by the kaggle/python Docker image: https://github.com/kaggle/docker-python\n",
    "# For example, here's several helpful packages to load\n",
    "\n",
    "import numpy as np # linear algebra\n",
    "import pandas as pd # data processing, CSV file I/O (e.g. pd.read_csv)\n",
    "\n",
    "# Input data files are available in the read-only \"../input/\" directory\n",
    "# For example, running this (by clicking run or pressing Shift+Enter) will list all files under the input directory\n",
    "\n",
    "import os\n",
    "for dirname, _, filenames in os.walk('/kaggle/input'):\n",
    "    for filename in filenames:\n",
    "        print(os.path.join(dirname, filename))\n",
    "\n",
    "# You can write up to 20GB to the current directory (/kaggle/working/) that gets preserved as output when you create a version using \"Save & Run All\" \n",
    "# You can also write temporary files to /kaggle/temp/, but they won't be saved outside of the current session"
   ]
  },
  {
   "cell_type": "markdown",
   "id": "77c9fe4a",
   "metadata": {
    "papermill": {
     "duration": 0.041689,
     "end_time": "2022-05-03T14:13:36.735638",
     "exception": false,
     "start_time": "2022-05-03T14:13:36.693949",
     "status": "completed"
    },
    "tags": []
   },
   "source": [
    "## Importing the necessary libraries "
   ]
  },
  {
   "cell_type": "markdown",
   "id": "a669fc34",
   "metadata": {
    "papermill": {
     "duration": 0.040854,
     "end_time": "2022-05-03T14:13:36.818200",
     "exception": false,
     "start_time": "2022-05-03T14:13:36.777346",
     "status": "completed"
    },
    "tags": []
   },
   "source": []
  },
  {
   "cell_type": "code",
   "execution_count": 2,
   "id": "1d0fd8bc",
   "metadata": {
    "execution": {
     "iopub.execute_input": "2022-05-03T14:13:36.904062Z",
     "iopub.status.busy": "2022-05-03T14:13:36.903756Z",
     "iopub.status.idle": "2022-05-03T14:13:38.017691Z",
     "shell.execute_reply": "2022-05-03T14:13:38.016781Z"
    },
    "papermill": {
     "duration": 1.158761,
     "end_time": "2022-05-03T14:13:38.020273",
     "exception": false,
     "start_time": "2022-05-03T14:13:36.861512",
     "status": "completed"
    },
    "tags": []
   },
   "outputs": [],
   "source": [
    "import numpy as np\n",
    "import pandas as pd\n",
    "import matplotlib.pyplot as plt\n",
    "import seaborn as sn"
   ]
  },
  {
   "cell_type": "markdown",
   "id": "116a8a28",
   "metadata": {
    "papermill": {
     "duration": 0.042696,
     "end_time": "2022-05-03T14:13:38.105591",
     "exception": false,
     "start_time": "2022-05-03T14:13:38.062895",
     "status": "completed"
    },
    "tags": []
   },
   "source": [
    "## Reading the training and testing datasets"
   ]
  },
  {
   "cell_type": "code",
   "execution_count": 3,
   "id": "5798914d",
   "metadata": {
    "execution": {
     "iopub.execute_input": "2022-05-03T14:13:38.190403Z",
     "iopub.status.busy": "2022-05-03T14:13:38.189541Z",
     "iopub.status.idle": "2022-05-03T14:13:38.309591Z",
     "shell.execute_reply": "2022-05-03T14:13:38.308913Z"
    },
    "papermill": {
     "duration": 0.164164,
     "end_time": "2022-05-03T14:13:38.311506",
     "exception": false,
     "start_time": "2022-05-03T14:13:38.147342",
     "status": "completed"
    },
    "tags": []
   },
   "outputs": [
    {
     "data": {
      "text/html": [
       "<div>\n",
       "<style scoped>\n",
       "    .dataframe tbody tr th:only-of-type {\n",
       "        vertical-align: middle;\n",
       "    }\n",
       "\n",
       "    .dataframe tbody tr th {\n",
       "        vertical-align: top;\n",
       "    }\n",
       "\n",
       "    .dataframe thead th {\n",
       "        text-align: right;\n",
       "    }\n",
       "</style>\n",
       "<table border=\"1\" class=\"dataframe\">\n",
       "  <thead>\n",
       "    <tr style=\"text-align: right;\">\n",
       "      <th></th>\n",
       "      <th>Id</th>\n",
       "      <th>MSSubClass</th>\n",
       "      <th>MSZoning</th>\n",
       "      <th>LotFrontage</th>\n",
       "      <th>LotArea</th>\n",
       "      <th>Street</th>\n",
       "      <th>Alley</th>\n",
       "      <th>LotShape</th>\n",
       "      <th>LandContour</th>\n",
       "      <th>Utilities</th>\n",
       "      <th>...</th>\n",
       "      <th>PoolArea</th>\n",
       "      <th>PoolQC</th>\n",
       "      <th>Fence</th>\n",
       "      <th>MiscFeature</th>\n",
       "      <th>MiscVal</th>\n",
       "      <th>MoSold</th>\n",
       "      <th>YrSold</th>\n",
       "      <th>SaleType</th>\n",
       "      <th>SaleCondition</th>\n",
       "      <th>SalePrice</th>\n",
       "    </tr>\n",
       "  </thead>\n",
       "  <tbody>\n",
       "    <tr>\n",
       "      <th>0</th>\n",
       "      <td>1</td>\n",
       "      <td>60</td>\n",
       "      <td>RL</td>\n",
       "      <td>65.0</td>\n",
       "      <td>8450</td>\n",
       "      <td>Pave</td>\n",
       "      <td>NaN</td>\n",
       "      <td>Reg</td>\n",
       "      <td>Lvl</td>\n",
       "      <td>AllPub</td>\n",
       "      <td>...</td>\n",
       "      <td>0</td>\n",
       "      <td>NaN</td>\n",
       "      <td>NaN</td>\n",
       "      <td>NaN</td>\n",
       "      <td>0</td>\n",
       "      <td>2</td>\n",
       "      <td>2008</td>\n",
       "      <td>WD</td>\n",
       "      <td>Normal</td>\n",
       "      <td>208500</td>\n",
       "    </tr>\n",
       "    <tr>\n",
       "      <th>1</th>\n",
       "      <td>2</td>\n",
       "      <td>20</td>\n",
       "      <td>RL</td>\n",
       "      <td>80.0</td>\n",
       "      <td>9600</td>\n",
       "      <td>Pave</td>\n",
       "      <td>NaN</td>\n",
       "      <td>Reg</td>\n",
       "      <td>Lvl</td>\n",
       "      <td>AllPub</td>\n",
       "      <td>...</td>\n",
       "      <td>0</td>\n",
       "      <td>NaN</td>\n",
       "      <td>NaN</td>\n",
       "      <td>NaN</td>\n",
       "      <td>0</td>\n",
       "      <td>5</td>\n",
       "      <td>2007</td>\n",
       "      <td>WD</td>\n",
       "      <td>Normal</td>\n",
       "      <td>181500</td>\n",
       "    </tr>\n",
       "    <tr>\n",
       "      <th>2</th>\n",
       "      <td>3</td>\n",
       "      <td>60</td>\n",
       "      <td>RL</td>\n",
       "      <td>68.0</td>\n",
       "      <td>11250</td>\n",
       "      <td>Pave</td>\n",
       "      <td>NaN</td>\n",
       "      <td>IR1</td>\n",
       "      <td>Lvl</td>\n",
       "      <td>AllPub</td>\n",
       "      <td>...</td>\n",
       "      <td>0</td>\n",
       "      <td>NaN</td>\n",
       "      <td>NaN</td>\n",
       "      <td>NaN</td>\n",
       "      <td>0</td>\n",
       "      <td>9</td>\n",
       "      <td>2008</td>\n",
       "      <td>WD</td>\n",
       "      <td>Normal</td>\n",
       "      <td>223500</td>\n",
       "    </tr>\n",
       "    <tr>\n",
       "      <th>3</th>\n",
       "      <td>4</td>\n",
       "      <td>70</td>\n",
       "      <td>RL</td>\n",
       "      <td>60.0</td>\n",
       "      <td>9550</td>\n",
       "      <td>Pave</td>\n",
       "      <td>NaN</td>\n",
       "      <td>IR1</td>\n",
       "      <td>Lvl</td>\n",
       "      <td>AllPub</td>\n",
       "      <td>...</td>\n",
       "      <td>0</td>\n",
       "      <td>NaN</td>\n",
       "      <td>NaN</td>\n",
       "      <td>NaN</td>\n",
       "      <td>0</td>\n",
       "      <td>2</td>\n",
       "      <td>2006</td>\n",
       "      <td>WD</td>\n",
       "      <td>Abnorml</td>\n",
       "      <td>140000</td>\n",
       "    </tr>\n",
       "    <tr>\n",
       "      <th>4</th>\n",
       "      <td>5</td>\n",
       "      <td>60</td>\n",
       "      <td>RL</td>\n",
       "      <td>84.0</td>\n",
       "      <td>14260</td>\n",
       "      <td>Pave</td>\n",
       "      <td>NaN</td>\n",
       "      <td>IR1</td>\n",
       "      <td>Lvl</td>\n",
       "      <td>AllPub</td>\n",
       "      <td>...</td>\n",
       "      <td>0</td>\n",
       "      <td>NaN</td>\n",
       "      <td>NaN</td>\n",
       "      <td>NaN</td>\n",
       "      <td>0</td>\n",
       "      <td>12</td>\n",
       "      <td>2008</td>\n",
       "      <td>WD</td>\n",
       "      <td>Normal</td>\n",
       "      <td>250000</td>\n",
       "    </tr>\n",
       "  </tbody>\n",
       "</table>\n",
       "<p>5 rows × 81 columns</p>\n",
       "</div>"
      ],
      "text/plain": [
       "   Id  MSSubClass MSZoning  LotFrontage  LotArea Street Alley LotShape  \\\n",
       "0   1          60       RL         65.0     8450   Pave   NaN      Reg   \n",
       "1   2          20       RL         80.0     9600   Pave   NaN      Reg   \n",
       "2   3          60       RL         68.0    11250   Pave   NaN      IR1   \n",
       "3   4          70       RL         60.0     9550   Pave   NaN      IR1   \n",
       "4   5          60       RL         84.0    14260   Pave   NaN      IR1   \n",
       "\n",
       "  LandContour Utilities  ... PoolArea PoolQC Fence MiscFeature MiscVal MoSold  \\\n",
       "0         Lvl    AllPub  ...        0    NaN   NaN         NaN       0      2   \n",
       "1         Lvl    AllPub  ...        0    NaN   NaN         NaN       0      5   \n",
       "2         Lvl    AllPub  ...        0    NaN   NaN         NaN       0      9   \n",
       "3         Lvl    AllPub  ...        0    NaN   NaN         NaN       0      2   \n",
       "4         Lvl    AllPub  ...        0    NaN   NaN         NaN       0     12   \n",
       "\n",
       "  YrSold  SaleType  SaleCondition  SalePrice  \n",
       "0   2008        WD         Normal     208500  \n",
       "1   2007        WD         Normal     181500  \n",
       "2   2008        WD         Normal     223500  \n",
       "3   2006        WD        Abnorml     140000  \n",
       "4   2008        WD         Normal     250000  \n",
       "\n",
       "[5 rows x 81 columns]"
      ]
     },
     "execution_count": 3,
     "metadata": {},
     "output_type": "execute_result"
    }
   ],
   "source": [
    "train = pd.read_csv(\"../input/house-prices-advanced-regression-techniques/train.csv\")\n",
    "test = pd.read_csv(\"../input/house-prices-advanced-regression-techniques/test.csv\")\n",
    "train.head()"
   ]
  },
  {
   "cell_type": "markdown",
   "id": "41bcf267",
   "metadata": {
    "papermill": {
     "duration": 0.042278,
     "end_time": "2022-05-03T14:13:38.395801",
     "exception": false,
     "start_time": "2022-05-03T14:13:38.353523",
     "status": "completed"
    },
    "tags": []
   },
   "source": [
    "# Cleaning the data"
   ]
  },
  {
   "cell_type": "code",
   "execution_count": 4,
   "id": "ee36d7a8",
   "metadata": {
    "execution": {
     "iopub.execute_input": "2022-05-03T14:13:38.480350Z",
     "iopub.status.busy": "2022-05-03T14:13:38.479520Z",
     "iopub.status.idle": "2022-05-03T14:13:38.500252Z",
     "shell.execute_reply": "2022-05-03T14:13:38.499484Z"
    },
    "papermill": {
     "duration": 0.065413,
     "end_time": "2022-05-03T14:13:38.502380",
     "exception": false,
     "start_time": "2022-05-03T14:13:38.436967",
     "status": "completed"
    },
    "tags": []
   },
   "outputs": [
    {
     "data": {
      "text/html": [
       "<div>\n",
       "<style scoped>\n",
       "    .dataframe tbody tr th:only-of-type {\n",
       "        vertical-align: middle;\n",
       "    }\n",
       "\n",
       "    .dataframe tbody tr th {\n",
       "        vertical-align: top;\n",
       "    }\n",
       "\n",
       "    .dataframe thead th {\n",
       "        text-align: right;\n",
       "    }\n",
       "</style>\n",
       "<table border=\"1\" class=\"dataframe\">\n",
       "  <thead>\n",
       "    <tr style=\"text-align: right;\">\n",
       "      <th></th>\n",
       "      <th>index</th>\n",
       "      <th>0</th>\n",
       "    </tr>\n",
       "  </thead>\n",
       "  <tbody>\n",
       "    <tr>\n",
       "      <th>0</th>\n",
       "      <td>Id</td>\n",
       "      <td>0</td>\n",
       "    </tr>\n",
       "    <tr>\n",
       "      <th>1</th>\n",
       "      <td>MSSubClass</td>\n",
       "      <td>0</td>\n",
       "    </tr>\n",
       "    <tr>\n",
       "      <th>2</th>\n",
       "      <td>MSZoning</td>\n",
       "      <td>0</td>\n",
       "    </tr>\n",
       "    <tr>\n",
       "      <th>3</th>\n",
       "      <td>LotFrontage</td>\n",
       "      <td>259</td>\n",
       "    </tr>\n",
       "    <tr>\n",
       "      <th>4</th>\n",
       "      <td>LotArea</td>\n",
       "      <td>0</td>\n",
       "    </tr>\n",
       "    <tr>\n",
       "      <th>...</th>\n",
       "      <td>...</td>\n",
       "      <td>...</td>\n",
       "    </tr>\n",
       "    <tr>\n",
       "      <th>76</th>\n",
       "      <td>MoSold</td>\n",
       "      <td>0</td>\n",
       "    </tr>\n",
       "    <tr>\n",
       "      <th>77</th>\n",
       "      <td>YrSold</td>\n",
       "      <td>0</td>\n",
       "    </tr>\n",
       "    <tr>\n",
       "      <th>78</th>\n",
       "      <td>SaleType</td>\n",
       "      <td>0</td>\n",
       "    </tr>\n",
       "    <tr>\n",
       "      <th>79</th>\n",
       "      <td>SaleCondition</td>\n",
       "      <td>0</td>\n",
       "    </tr>\n",
       "    <tr>\n",
       "      <th>80</th>\n",
       "      <td>SalePrice</td>\n",
       "      <td>0</td>\n",
       "    </tr>\n",
       "  </tbody>\n",
       "</table>\n",
       "<p>81 rows × 2 columns</p>\n",
       "</div>"
      ],
      "text/plain": [
       "            index    0\n",
       "0              Id    0\n",
       "1      MSSubClass    0\n",
       "2        MSZoning    0\n",
       "3     LotFrontage  259\n",
       "4         LotArea    0\n",
       "..            ...  ...\n",
       "76         MoSold    0\n",
       "77         YrSold    0\n",
       "78       SaleType    0\n",
       "79  SaleCondition    0\n",
       "80      SalePrice    0\n",
       "\n",
       "[81 rows x 2 columns]"
      ]
     },
     "execution_count": 4,
     "metadata": {},
     "output_type": "execute_result"
    }
   ],
   "source": [
    "train.isna().sum().reset_index()"
   ]
  },
  {
   "cell_type": "markdown",
   "id": "bf90fd22",
   "metadata": {
    "papermill": {
     "duration": 0.04135,
     "end_time": "2022-05-03T14:13:38.585822",
     "exception": false,
     "start_time": "2022-05-03T14:13:38.544472",
     "status": "completed"
    },
    "tags": []
   },
   "source": [
    "### Combining train and test sets"
   ]
  },
  {
   "cell_type": "code",
   "execution_count": 5,
   "id": "c6e9f5b4",
   "metadata": {
    "execution": {
     "iopub.execute_input": "2022-05-03T14:13:38.672039Z",
     "iopub.status.busy": "2022-05-03T14:13:38.671716Z",
     "iopub.status.idle": "2022-05-03T14:13:38.716348Z",
     "shell.execute_reply": "2022-05-03T14:13:38.715772Z"
    },
    "papermill": {
     "duration": 0.089281,
     "end_time": "2022-05-03T14:13:38.718079",
     "exception": false,
     "start_time": "2022-05-03T14:13:38.628798",
     "status": "completed"
    },
    "tags": []
   },
   "outputs": [
    {
     "data": {
      "text/html": [
       "<div>\n",
       "<style scoped>\n",
       "    .dataframe tbody tr th:only-of-type {\n",
       "        vertical-align: middle;\n",
       "    }\n",
       "\n",
       "    .dataframe tbody tr th {\n",
       "        vertical-align: top;\n",
       "    }\n",
       "\n",
       "    .dataframe thead th {\n",
       "        text-align: right;\n",
       "    }\n",
       "</style>\n",
       "<table border=\"1\" class=\"dataframe\">\n",
       "  <thead>\n",
       "    <tr style=\"text-align: right;\">\n",
       "      <th></th>\n",
       "      <th>MSSubClass</th>\n",
       "      <th>MSZoning</th>\n",
       "      <th>LotFrontage</th>\n",
       "      <th>LotArea</th>\n",
       "      <th>Street</th>\n",
       "      <th>Alley</th>\n",
       "      <th>LotShape</th>\n",
       "      <th>LandContour</th>\n",
       "      <th>Utilities</th>\n",
       "      <th>LotConfig</th>\n",
       "      <th>...</th>\n",
       "      <th>ScreenPorch</th>\n",
       "      <th>PoolArea</th>\n",
       "      <th>PoolQC</th>\n",
       "      <th>Fence</th>\n",
       "      <th>MiscFeature</th>\n",
       "      <th>MiscVal</th>\n",
       "      <th>MoSold</th>\n",
       "      <th>YrSold</th>\n",
       "      <th>SaleType</th>\n",
       "      <th>SaleCondition</th>\n",
       "    </tr>\n",
       "  </thead>\n",
       "  <tbody>\n",
       "    <tr>\n",
       "      <th>0</th>\n",
       "      <td>60</td>\n",
       "      <td>RL</td>\n",
       "      <td>65.0</td>\n",
       "      <td>8450</td>\n",
       "      <td>Pave</td>\n",
       "      <td>NaN</td>\n",
       "      <td>Reg</td>\n",
       "      <td>Lvl</td>\n",
       "      <td>AllPub</td>\n",
       "      <td>Inside</td>\n",
       "      <td>...</td>\n",
       "      <td>0</td>\n",
       "      <td>0</td>\n",
       "      <td>NaN</td>\n",
       "      <td>NaN</td>\n",
       "      <td>NaN</td>\n",
       "      <td>0</td>\n",
       "      <td>2</td>\n",
       "      <td>2008</td>\n",
       "      <td>WD</td>\n",
       "      <td>Normal</td>\n",
       "    </tr>\n",
       "    <tr>\n",
       "      <th>1</th>\n",
       "      <td>20</td>\n",
       "      <td>RL</td>\n",
       "      <td>80.0</td>\n",
       "      <td>9600</td>\n",
       "      <td>Pave</td>\n",
       "      <td>NaN</td>\n",
       "      <td>Reg</td>\n",
       "      <td>Lvl</td>\n",
       "      <td>AllPub</td>\n",
       "      <td>FR2</td>\n",
       "      <td>...</td>\n",
       "      <td>0</td>\n",
       "      <td>0</td>\n",
       "      <td>NaN</td>\n",
       "      <td>NaN</td>\n",
       "      <td>NaN</td>\n",
       "      <td>0</td>\n",
       "      <td>5</td>\n",
       "      <td>2007</td>\n",
       "      <td>WD</td>\n",
       "      <td>Normal</td>\n",
       "    </tr>\n",
       "    <tr>\n",
       "      <th>2</th>\n",
       "      <td>60</td>\n",
       "      <td>RL</td>\n",
       "      <td>68.0</td>\n",
       "      <td>11250</td>\n",
       "      <td>Pave</td>\n",
       "      <td>NaN</td>\n",
       "      <td>IR1</td>\n",
       "      <td>Lvl</td>\n",
       "      <td>AllPub</td>\n",
       "      <td>Inside</td>\n",
       "      <td>...</td>\n",
       "      <td>0</td>\n",
       "      <td>0</td>\n",
       "      <td>NaN</td>\n",
       "      <td>NaN</td>\n",
       "      <td>NaN</td>\n",
       "      <td>0</td>\n",
       "      <td>9</td>\n",
       "      <td>2008</td>\n",
       "      <td>WD</td>\n",
       "      <td>Normal</td>\n",
       "    </tr>\n",
       "    <tr>\n",
       "      <th>3</th>\n",
       "      <td>70</td>\n",
       "      <td>RL</td>\n",
       "      <td>60.0</td>\n",
       "      <td>9550</td>\n",
       "      <td>Pave</td>\n",
       "      <td>NaN</td>\n",
       "      <td>IR1</td>\n",
       "      <td>Lvl</td>\n",
       "      <td>AllPub</td>\n",
       "      <td>Corner</td>\n",
       "      <td>...</td>\n",
       "      <td>0</td>\n",
       "      <td>0</td>\n",
       "      <td>NaN</td>\n",
       "      <td>NaN</td>\n",
       "      <td>NaN</td>\n",
       "      <td>0</td>\n",
       "      <td>2</td>\n",
       "      <td>2006</td>\n",
       "      <td>WD</td>\n",
       "      <td>Abnorml</td>\n",
       "    </tr>\n",
       "    <tr>\n",
       "      <th>4</th>\n",
       "      <td>60</td>\n",
       "      <td>RL</td>\n",
       "      <td>84.0</td>\n",
       "      <td>14260</td>\n",
       "      <td>Pave</td>\n",
       "      <td>NaN</td>\n",
       "      <td>IR1</td>\n",
       "      <td>Lvl</td>\n",
       "      <td>AllPub</td>\n",
       "      <td>FR2</td>\n",
       "      <td>...</td>\n",
       "      <td>0</td>\n",
       "      <td>0</td>\n",
       "      <td>NaN</td>\n",
       "      <td>NaN</td>\n",
       "      <td>NaN</td>\n",
       "      <td>0</td>\n",
       "      <td>12</td>\n",
       "      <td>2008</td>\n",
       "      <td>WD</td>\n",
       "      <td>Normal</td>\n",
       "    </tr>\n",
       "  </tbody>\n",
       "</table>\n",
       "<p>5 rows × 79 columns</p>\n",
       "</div>"
      ],
      "text/plain": [
       "   MSSubClass MSZoning  LotFrontage  LotArea Street Alley LotShape  \\\n",
       "0          60       RL         65.0     8450   Pave   NaN      Reg   \n",
       "1          20       RL         80.0     9600   Pave   NaN      Reg   \n",
       "2          60       RL         68.0    11250   Pave   NaN      IR1   \n",
       "3          70       RL         60.0     9550   Pave   NaN      IR1   \n",
       "4          60       RL         84.0    14260   Pave   NaN      IR1   \n",
       "\n",
       "  LandContour Utilities LotConfig  ... ScreenPorch PoolArea PoolQC Fence  \\\n",
       "0         Lvl    AllPub    Inside  ...           0        0    NaN   NaN   \n",
       "1         Lvl    AllPub       FR2  ...           0        0    NaN   NaN   \n",
       "2         Lvl    AllPub    Inside  ...           0        0    NaN   NaN   \n",
       "3         Lvl    AllPub    Corner  ...           0        0    NaN   NaN   \n",
       "4         Lvl    AllPub       FR2  ...           0        0    NaN   NaN   \n",
       "\n",
       "  MiscFeature MiscVal  MoSold  YrSold  SaleType  SaleCondition  \n",
       "0         NaN       0       2    2008        WD         Normal  \n",
       "1         NaN       0       5    2007        WD         Normal  \n",
       "2         NaN       0       9    2008        WD         Normal  \n",
       "3         NaN       0       2    2006        WD        Abnorml  \n",
       "4         NaN       0      12    2008        WD         Normal  \n",
       "\n",
       "[5 rows x 79 columns]"
      ]
     },
     "execution_count": 5,
     "metadata": {},
     "output_type": "execute_result"
    }
   ],
   "source": [
    "target_price = train['SalePrice']\n",
    "test_id = test['Id']\n",
    "new_train = train.drop(['Id', 'SalePrice'], axis=1)\n",
    "new_test = test.drop(['Id'], axis=1)\n",
    "data = pd.concat([new_train, new_test], axis=0)\n",
    "data.head()"
   ]
  },
  {
   "cell_type": "markdown",
   "id": "cfd4598d",
   "metadata": {
    "papermill": {
     "duration": 0.041866,
     "end_time": "2022-05-03T14:13:38.802952",
     "exception": false,
     "start_time": "2022-05-03T14:13:38.761086",
     "status": "completed"
    },
    "tags": []
   },
   "source": [
    "### Fixing the datatypes"
   ]
  },
  {
   "cell_type": "code",
   "execution_count": 6,
   "id": "32b31bef",
   "metadata": {
    "execution": {
     "iopub.execute_input": "2022-05-03T14:13:38.890011Z",
     "iopub.status.busy": "2022-05-03T14:13:38.889291Z",
     "iopub.status.idle": "2022-05-03T14:13:38.901555Z",
     "shell.execute_reply": "2022-05-03T14:13:38.900646Z"
    },
    "papermill": {
     "duration": 0.058324,
     "end_time": "2022-05-03T14:13:38.904046",
     "exception": false,
     "start_time": "2022-05-03T14:13:38.845722",
     "status": "completed"
    },
    "tags": []
   },
   "outputs": [],
   "source": [
    "copy_data = data.copy()\n"
   ]
  },
  {
   "cell_type": "markdown",
   "id": "92ca6a67",
   "metadata": {
    "papermill": {
     "duration": 0.041992,
     "end_time": "2022-05-03T14:13:38.988980",
     "exception": false,
     "start_time": "2022-05-03T14:13:38.946988",
     "status": "completed"
    },
    "tags": []
   },
   "source": [
    "### Filling categorical missing values"
   ]
  },
  {
   "cell_type": "code",
   "execution_count": 7,
   "id": "21cf7e1f",
   "metadata": {
    "execution": {
     "iopub.execute_input": "2022-05-03T14:13:39.076547Z",
     "iopub.status.busy": "2022-05-03T14:13:39.076234Z",
     "iopub.status.idle": "2022-05-03T14:13:39.106882Z",
     "shell.execute_reply": "2022-05-03T14:13:39.105739Z"
    },
    "papermill": {
     "duration": 0.077567,
     "end_time": "2022-05-03T14:13:39.109323",
     "exception": false,
     "start_time": "2022-05-03T14:13:39.031756",
     "status": "completed"
    },
    "tags": []
   },
   "outputs": [],
   "source": [
    "for column in ['Alley',\n",
    "               'BsmtQual',\n",
    "               'BsmtExposure', \n",
    "               'BsmtCond',\n",
    "               'BsmtFinType1',\n",
    "               'BsmtFinType2', \n",
    "               'FireplaceQu', \n",
    "              'GarageType',\n",
    "               'GarageFinish',\n",
    "               'GarageQual', \n",
    "              'GarageCond',\n",
    "               'PoolQC', \n",
    "               'Fence', \n",
    "               'MiscFeature']:\n",
    "    copy_data[column] = copy_data[column].fillna(\"None\")\n",
    "    \n",
    "for column in ['MSZoning',\n",
    "               'Utilities',\n",
    "               'Exterior1st', \n",
    "               'Exterior2nd', \n",
    "               'MasVnrType',\n",
    "             'Electrical', \n",
    "               'KitchenQual', \n",
    "               'Functional',\n",
    "               'SaleType' ]:\n",
    "    copy_data[column] = copy_data[column].fillna(copy_data[column].mode()[0])\n",
    "    "
   ]
  },
  {
   "cell_type": "code",
   "execution_count": 8,
   "id": "7fd3c7d9",
   "metadata": {
    "execution": {
     "iopub.execute_input": "2022-05-03T14:13:39.197163Z",
     "iopub.status.busy": "2022-05-03T14:13:39.196882Z",
     "iopub.status.idle": "2022-05-03T14:13:39.241897Z",
     "shell.execute_reply": "2022-05-03T14:13:39.241075Z"
    },
    "papermill": {
     "duration": 0.092102,
     "end_time": "2022-05-03T14:13:39.243914",
     "exception": false,
     "start_time": "2022-05-03T14:13:39.151812",
     "status": "completed"
    },
    "tags": []
   },
   "outputs": [
    {
     "data": {
      "text/plain": [
       "Index([], dtype='object')"
      ]
     },
     "execution_count": 8,
     "metadata": {},
     "output_type": "execute_result"
    }
   ],
   "source": [
    "copy_data.loc[:, copy_data.isna().sum()>0].columns\n",
    "copy_data.select_dtypes('object').loc[:, copy_data.isna().sum()>0].columns"
   ]
  },
  {
   "cell_type": "code",
   "execution_count": 9,
   "id": "0f364cff",
   "metadata": {
    "execution": {
     "iopub.execute_input": "2022-05-03T14:13:39.332087Z",
     "iopub.status.busy": "2022-05-03T14:13:39.331718Z",
     "iopub.status.idle": "2022-05-03T14:13:39.372430Z",
     "shell.execute_reply": "2022-05-03T14:13:39.371594Z"
    },
    "papermill": {
     "duration": 0.087353,
     "end_time": "2022-05-03T14:13:39.374286",
     "exception": false,
     "start_time": "2022-05-03T14:13:39.286933",
     "status": "completed"
    },
    "tags": []
   },
   "outputs": [
    {
     "data": {
      "text/plain": [
       "MSSubClass         0\n",
       "MSZoning           0\n",
       "LotFrontage      486\n",
       "LotArea            0\n",
       "Street             0\n",
       "                ... \n",
       "MiscVal            0\n",
       "MoSold             0\n",
       "YrSold             0\n",
       "SaleType           0\n",
       "SaleCondition      0\n",
       "Length: 79, dtype: int64"
      ]
     },
     "execution_count": 9,
     "metadata": {},
     "output_type": "execute_result"
    }
   ],
   "source": [
    "copy_data.select_dtypes('object').isna().sum()\n",
    "copy_data.isna().sum()"
   ]
  },
  {
   "cell_type": "markdown",
   "id": "0dd95064",
   "metadata": {
    "papermill": {
     "duration": 0.042764,
     "end_time": "2022-05-03T14:13:39.460721",
     "exception": false,
     "start_time": "2022-05-03T14:13:39.417957",
     "status": "completed"
    },
    "tags": []
   },
   "source": [
    "#### Filling missing values in numeric columns of data"
   ]
  },
  {
   "cell_type": "code",
   "execution_count": 10,
   "id": "569d4e66",
   "metadata": {
    "execution": {
     "iopub.execute_input": "2022-05-03T14:13:39.548197Z",
     "iopub.status.busy": "2022-05-03T14:13:39.547933Z",
     "iopub.status.idle": "2022-05-03T14:13:39.580166Z",
     "shell.execute_reply": "2022-05-03T14:13:39.579500Z"
    },
    "papermill": {
     "duration": 0.078487,
     "end_time": "2022-05-03T14:13:39.582221",
     "exception": false,
     "start_time": "2022-05-03T14:13:39.503734",
     "status": "completed"
    },
    "tags": []
   },
   "outputs": [],
   "source": [
    "copy_data.select_dtypes(np.number).loc[:, copy_data.isna().sum()>0].columns\n",
    "for column in ['LotFrontage', 'MasVnrArea', 'BsmtFinSF1', 'BsmtFinSF2', 'BsmtUnfSF',\n",
    "       'TotalBsmtSF', 'BsmtFullBath', 'BsmtHalfBath', 'GarageYrBlt',\n",
    "       'GarageCars', 'GarageArea']:\n",
    "    copy_data[column] = copy_data[column].fillna(copy_data[column].mode()[0])"
   ]
  },
  {
   "cell_type": "code",
   "execution_count": 11,
   "id": "7225a546",
   "metadata": {
    "execution": {
     "iopub.execute_input": "2022-05-03T14:13:39.669870Z",
     "iopub.status.busy": "2022-05-03T14:13:39.669336Z",
     "iopub.status.idle": "2022-05-03T14:13:39.691654Z",
     "shell.execute_reply": "2022-05-03T14:13:39.690835Z"
    },
    "papermill": {
     "duration": 0.068626,
     "end_time": "2022-05-03T14:13:39.693784",
     "exception": false,
     "start_time": "2022-05-03T14:13:39.625158",
     "status": "completed"
    },
    "tags": []
   },
   "outputs": [
    {
     "data": {
      "text/plain": [
       "MSSubClass       0\n",
       "MSZoning         0\n",
       "LotFrontage      0\n",
       "LotArea          0\n",
       "Street           0\n",
       "                ..\n",
       "MiscVal          0\n",
       "MoSold           0\n",
       "YrSold           0\n",
       "SaleType         0\n",
       "SaleCondition    0\n",
       "Length: 79, dtype: int64"
      ]
     },
     "execution_count": 11,
     "metadata": {},
     "output_type": "execute_result"
    }
   ],
   "source": [
    "copy_data.isna().sum()"
   ]
  },
  {
   "cell_type": "code",
   "execution_count": 12,
   "id": "3742077b",
   "metadata": {
    "execution": {
     "iopub.execute_input": "2022-05-03T14:13:39.783516Z",
     "iopub.status.busy": "2022-05-03T14:13:39.783009Z",
     "iopub.status.idle": "2022-05-03T14:13:39.816529Z",
     "shell.execute_reply": "2022-05-03T14:13:39.815878Z"
    },
    "papermill": {
     "duration": 0.080967,
     "end_time": "2022-05-03T14:13:39.819098",
     "exception": false,
     "start_time": "2022-05-03T14:13:39.738131",
     "status": "completed"
    },
    "tags": []
   },
   "outputs": [
    {
     "name": "stdout",
     "output_type": "stream",
     "text": [
      "<class 'pandas.core.frame.DataFrame'>\n",
      "Int64Index: 2919 entries, 0 to 1458\n",
      "Data columns (total 79 columns):\n",
      " #   Column         Non-Null Count  Dtype  \n",
      "---  ------         --------------  -----  \n",
      " 0   MSSubClass     2919 non-null   int64  \n",
      " 1   MSZoning       2919 non-null   object \n",
      " 2   LotFrontage    2919 non-null   float64\n",
      " 3   LotArea        2919 non-null   int64  \n",
      " 4   Street         2919 non-null   object \n",
      " 5   Alley          2919 non-null   object \n",
      " 6   LotShape       2919 non-null   object \n",
      " 7   LandContour    2919 non-null   object \n",
      " 8   Utilities      2919 non-null   object \n",
      " 9   LotConfig      2919 non-null   object \n",
      " 10  LandSlope      2919 non-null   object \n",
      " 11  Neighborhood   2919 non-null   object \n",
      " 12  Condition1     2919 non-null   object \n",
      " 13  Condition2     2919 non-null   object \n",
      " 14  BldgType       2919 non-null   object \n",
      " 15  HouseStyle     2919 non-null   object \n",
      " 16  OverallQual    2919 non-null   int64  \n",
      " 17  OverallCond    2919 non-null   int64  \n",
      " 18  YearBuilt      2919 non-null   int64  \n",
      " 19  YearRemodAdd   2919 non-null   int64  \n",
      " 20  RoofStyle      2919 non-null   object \n",
      " 21  RoofMatl       2919 non-null   object \n",
      " 22  Exterior1st    2919 non-null   object \n",
      " 23  Exterior2nd    2919 non-null   object \n",
      " 24  MasVnrType     2919 non-null   object \n",
      " 25  MasVnrArea     2919 non-null   float64\n",
      " 26  ExterQual      2919 non-null   object \n",
      " 27  ExterCond      2919 non-null   object \n",
      " 28  Foundation     2919 non-null   object \n",
      " 29  BsmtQual       2919 non-null   object \n",
      " 30  BsmtCond       2919 non-null   object \n",
      " 31  BsmtExposure   2919 non-null   object \n",
      " 32  BsmtFinType1   2919 non-null   object \n",
      " 33  BsmtFinSF1     2919 non-null   float64\n",
      " 34  BsmtFinType2   2919 non-null   object \n",
      " 35  BsmtFinSF2     2919 non-null   float64\n",
      " 36  BsmtUnfSF      2919 non-null   float64\n",
      " 37  TotalBsmtSF    2919 non-null   float64\n",
      " 38  Heating        2919 non-null   object \n",
      " 39  HeatingQC      2919 non-null   object \n",
      " 40  CentralAir     2919 non-null   object \n",
      " 41  Electrical     2919 non-null   object \n",
      " 42  1stFlrSF       2919 non-null   int64  \n",
      " 43  2ndFlrSF       2919 non-null   int64  \n",
      " 44  LowQualFinSF   2919 non-null   int64  \n",
      " 45  GrLivArea      2919 non-null   int64  \n",
      " 46  BsmtFullBath   2919 non-null   float64\n",
      " 47  BsmtHalfBath   2919 non-null   float64\n",
      " 48  FullBath       2919 non-null   int64  \n",
      " 49  HalfBath       2919 non-null   int64  \n",
      " 50  BedroomAbvGr   2919 non-null   int64  \n",
      " 51  KitchenAbvGr   2919 non-null   int64  \n",
      " 52  KitchenQual    2919 non-null   object \n",
      " 53  TotRmsAbvGrd   2919 non-null   int64  \n",
      " 54  Functional     2919 non-null   object \n",
      " 55  Fireplaces     2919 non-null   int64  \n",
      " 56  FireplaceQu    2919 non-null   object \n",
      " 57  GarageType     2919 non-null   object \n",
      " 58  GarageYrBlt    2919 non-null   float64\n",
      " 59  GarageFinish   2919 non-null   object \n",
      " 60  GarageCars     2919 non-null   float64\n",
      " 61  GarageArea     2919 non-null   float64\n",
      " 62  GarageQual     2919 non-null   object \n",
      " 63  GarageCond     2919 non-null   object \n",
      " 64  PavedDrive     2919 non-null   object \n",
      " 65  WoodDeckSF     2919 non-null   int64  \n",
      " 66  OpenPorchSF    2919 non-null   int64  \n",
      " 67  EnclosedPorch  2919 non-null   int64  \n",
      " 68  3SsnPorch      2919 non-null   int64  \n",
      " 69  ScreenPorch    2919 non-null   int64  \n",
      " 70  PoolArea       2919 non-null   int64  \n",
      " 71  PoolQC         2919 non-null   object \n",
      " 72  Fence          2919 non-null   object \n",
      " 73  MiscFeature    2919 non-null   object \n",
      " 74  MiscVal        2919 non-null   int64  \n",
      " 75  MoSold         2919 non-null   int64  \n",
      " 76  YrSold         2919 non-null   int64  \n",
      " 77  SaleType       2919 non-null   object \n",
      " 78  SaleCondition  2919 non-null   object \n",
      "dtypes: float64(11), int64(25), object(43)\n",
      "memory usage: 1.8+ MB\n"
     ]
    }
   ],
   "source": [
    "copy_data.info()"
   ]
  },
  {
   "cell_type": "markdown",
   "id": "8fc4e810",
   "metadata": {
    "papermill": {
     "duration": 0.043761,
     "end_time": "2022-05-03T14:13:39.909280",
     "exception": false,
     "start_time": "2022-05-03T14:13:39.865519",
     "status": "completed"
    },
    "tags": []
   },
   "source": [
    "### We have cleaned our dataset....yayyy!!"
   ]
  },
  {
   "cell_type": "markdown",
   "id": "4dbcfa87",
   "metadata": {
    "papermill": {
     "duration": 0.043615,
     "end_time": "2022-05-03T14:13:39.998089",
     "exception": false,
     "start_time": "2022-05-03T14:13:39.954474",
     "status": "completed"
    },
    "tags": []
   },
   "source": [
    "# Feature selection"
   ]
  },
  {
   "cell_type": "code",
   "execution_count": 13,
   "id": "87afe826",
   "metadata": {
    "execution": {
     "iopub.execute_input": "2022-05-03T14:13:40.088950Z",
     "iopub.status.busy": "2022-05-03T14:13:40.088443Z",
     "iopub.status.idle": "2022-05-03T14:13:40.608856Z",
     "shell.execute_reply": "2022-05-03T14:13:40.607979Z"
    },
    "papermill": {
     "duration": 0.56857,
     "end_time": "2022-05-03T14:13:40.610798",
     "exception": false,
     "start_time": "2022-05-03T14:13:40.042228",
     "status": "completed"
    },
    "tags": []
   },
   "outputs": [
    {
     "data": {
      "image/png": "[encoded data removed]",
      "text/plain": [
       "<Figure size 432x288 with 2 Axes>"
      ]
     },
     "metadata": {
      "needs_background": "light"
     },
     "output_type": "display_data"
    }
   ],
   "source": [
    "data_corr = copy_data.corr()\n",
    "hm = sn.heatmap(data_corr)"
   ]
  },
  {
   "cell_type": "code",
   "execution_count": 14,
   "id": "9dfc8a63",
   "metadata": {
    "execution": {
     "iopub.execute_input": "2022-05-03T14:13:40.706735Z",
     "iopub.status.busy": "2022-05-03T14:13:40.706443Z",
     "iopub.status.idle": "2022-05-03T14:13:40.715308Z",
     "shell.execute_reply": "2022-05-03T14:13:40.714710Z"
    },
    "papermill": {
     "duration": 0.059175,
     "end_time": "2022-05-03T14:13:40.717157",
     "exception": false,
     "start_time": "2022-05-03T14:13:40.657982",
     "status": "completed"
    },
    "tags": []
   },
   "outputs": [],
   "source": [
    "copy_data['TotalSQFT'] = copy_data['TotalBsmtSF'] + copy_data['1stFlrSF'] + copy_data['2ndFlrSF']\n",
    "copy_data['Yearbuilt/remodelled'] = copy_data['YearBuilt'] + copy_data['YearRemodAdd']\n",
    "copy_data['BSMT'] = copy_data['1stFlrSF'] + copy_data['2ndFlrSF']\n",
    "copy_data['TotalBathrooms'] = copy_data['FullBath'] + copy_data['HalfBath'] + copy_data['BsmtFullBath'] + copy_data['BsmtHalfBath']"
   ]
  },
  {
   "cell_type": "code",
   "execution_count": 15,
   "id": "d9f22d16",
   "metadata": {
    "execution": {
     "iopub.execute_input": "2022-05-03T14:13:40.811439Z",
     "iopub.status.busy": "2022-05-03T14:13:40.810907Z",
     "iopub.status.idle": "2022-05-03T14:13:40.830863Z",
     "shell.execute_reply": "2022-05-03T14:13:40.829996Z"
    },
    "papermill": {
     "duration": 0.069327,
     "end_time": "2022-05-03T14:13:40.832967",
     "exception": false,
     "start_time": "2022-05-03T14:13:40.763640",
     "status": "completed"
    },
    "tags": []
   },
   "outputs": [],
   "source": [
    "copy_data['HasPool'] = copy_data['PoolArea'].apply(lambda x : 1 if x>0 else 0)\n",
    "copy_data['Has2ndFloor'] = copy_data['2ndFlrSF'].apply(lambda x : 1 if x>0 else 0)\n",
    "copy_data['HasGarage'] = copy_data['GarageArea'].apply(lambda x : 1 if x>0 else 0)\n",
    "copy_data['HasBsmt'] = copy_data['TotalBsmtSF'].apply(lambda x : 1 if x>0 else 0)\n",
    "copy_data['HasFireplace'] = copy_data['Fireplaces'].apply(lambda x : 1 if x>0 else 0)"
   ]
  },
  {
   "cell_type": "code",
   "execution_count": 16,
   "id": "11b0faa8",
   "metadata": {
    "execution": {
     "iopub.execute_input": "2022-05-03T14:13:40.926553Z",
     "iopub.status.busy": "2022-05-03T14:13:40.926077Z",
     "iopub.status.idle": "2022-05-03T14:13:41.004738Z",
     "shell.execute_reply": "2022-05-03T14:13:41.003924Z"
    },
    "papermill": {
     "duration": 0.127951,
     "end_time": "2022-05-03T14:13:41.006784",
     "exception": false,
     "start_time": "2022-05-03T14:13:40.878833",
     "status": "completed"
    },
    "tags": []
   },
   "outputs": [
    {
     "data": {
      "text/html": [
       "<div>\n",
       "<style scoped>\n",
       "    .dataframe tbody tr th:only-of-type {\n",
       "        vertical-align: middle;\n",
       "    }\n",
       "\n",
       "    .dataframe tbody tr th {\n",
       "        vertical-align: top;\n",
       "    }\n",
       "\n",
       "    .dataframe thead th {\n",
       "        text-align: right;\n",
       "    }\n",
       "</style>\n",
       "<table border=\"1\" class=\"dataframe\">\n",
       "  <thead>\n",
       "    <tr style=\"text-align: right;\">\n",
       "      <th></th>\n",
       "      <th>index</th>\n",
       "      <th>MSSubClass</th>\n",
       "      <th>LotFrontage</th>\n",
       "      <th>LotArea</th>\n",
       "      <th>OverallQual</th>\n",
       "      <th>OverallCond</th>\n",
       "      <th>YearBuilt</th>\n",
       "      <th>YearRemodAdd</th>\n",
       "      <th>MasVnrArea</th>\n",
       "      <th>BsmtFinSF1</th>\n",
       "      <th>...</th>\n",
       "      <th>SaleType_ConLw</th>\n",
       "      <th>SaleType_New</th>\n",
       "      <th>SaleType_Oth</th>\n",
       "      <th>SaleType_WD</th>\n",
       "      <th>SaleCondition_Abnorml</th>\n",
       "      <th>SaleCondition_AdjLand</th>\n",
       "      <th>SaleCondition_Alloca</th>\n",
       "      <th>SaleCondition_Family</th>\n",
       "      <th>SaleCondition_Normal</th>\n",
       "      <th>SaleCondition_Partial</th>\n",
       "    </tr>\n",
       "  </thead>\n",
       "  <tbody>\n",
       "    <tr>\n",
       "      <th>0</th>\n",
       "      <td>0</td>\n",
       "      <td>60</td>\n",
       "      <td>65.0</td>\n",
       "      <td>8450</td>\n",
       "      <td>7</td>\n",
       "      <td>5</td>\n",
       "      <td>2003</td>\n",
       "      <td>2003</td>\n",
       "      <td>196.0</td>\n",
       "      <td>706.0</td>\n",
       "      <td>...</td>\n",
       "      <td>0</td>\n",
       "      <td>0</td>\n",
       "      <td>0</td>\n",
       "      <td>1</td>\n",
       "      <td>0</td>\n",
       "      <td>0</td>\n",
       "      <td>0</td>\n",
       "      <td>0</td>\n",
       "      <td>1</td>\n",
       "      <td>0</td>\n",
       "    </tr>\n",
       "    <tr>\n",
       "      <th>1</th>\n",
       "      <td>1</td>\n",
       "      <td>20</td>\n",
       "      <td>80.0</td>\n",
       "      <td>9600</td>\n",
       "      <td>6</td>\n",
       "      <td>8</td>\n",
       "      <td>1976</td>\n",
       "      <td>1976</td>\n",
       "      <td>0.0</td>\n",
       "      <td>978.0</td>\n",
       "      <td>...</td>\n",
       "      <td>0</td>\n",
       "      <td>0</td>\n",
       "      <td>0</td>\n",
       "      <td>1</td>\n",
       "      <td>0</td>\n",
       "      <td>0</td>\n",
       "      <td>0</td>\n",
       "      <td>0</td>\n",
       "      <td>1</td>\n",
       "      <td>0</td>\n",
       "    </tr>\n",
       "    <tr>\n",
       "      <th>2</th>\n",
       "      <td>2</td>\n",
       "      <td>60</td>\n",
       "      <td>68.0</td>\n",
       "      <td>11250</td>\n",
       "      <td>7</td>\n",
       "      <td>5</td>\n",
       "      <td>2001</td>\n",
       "      <td>2002</td>\n",
       "      <td>162.0</td>\n",
       "      <td>486.0</td>\n",
       "      <td>...</td>\n",
       "      <td>0</td>\n",
       "      <td>0</td>\n",
       "      <td>0</td>\n",
       "      <td>1</td>\n",
       "      <td>0</td>\n",
       "      <td>0</td>\n",
       "      <td>0</td>\n",
       "      <td>0</td>\n",
       "      <td>1</td>\n",
       "      <td>0</td>\n",
       "    </tr>\n",
       "    <tr>\n",
       "      <th>3</th>\n",
       "      <td>3</td>\n",
       "      <td>70</td>\n",
       "      <td>60.0</td>\n",
       "      <td>9550</td>\n",
       "      <td>7</td>\n",
       "      <td>5</td>\n",
       "      <td>1915</td>\n",
       "      <td>1970</td>\n",
       "      <td>0.0</td>\n",
       "      <td>216.0</td>\n",
       "      <td>...</td>\n",
       "      <td>0</td>\n",
       "      <td>0</td>\n",
       "      <td>0</td>\n",
       "      <td>1</td>\n",
       "      <td>1</td>\n",
       "      <td>0</td>\n",
       "      <td>0</td>\n",
       "      <td>0</td>\n",
       "      <td>0</td>\n",
       "      <td>0</td>\n",
       "    </tr>\n",
       "    <tr>\n",
       "      <th>4</th>\n",
       "      <td>4</td>\n",
       "      <td>60</td>\n",
       "      <td>84.0</td>\n",
       "      <td>14260</td>\n",
       "      <td>8</td>\n",
       "      <td>5</td>\n",
       "      <td>2000</td>\n",
       "      <td>2000</td>\n",
       "      <td>350.0</td>\n",
       "      <td>655.0</td>\n",
       "      <td>...</td>\n",
       "      <td>0</td>\n",
       "      <td>0</td>\n",
       "      <td>0</td>\n",
       "      <td>1</td>\n",
       "      <td>0</td>\n",
       "      <td>0</td>\n",
       "      <td>0</td>\n",
       "      <td>0</td>\n",
       "      <td>1</td>\n",
       "      <td>0</td>\n",
       "    </tr>\n",
       "  </tbody>\n",
       "</table>\n",
       "<p>5 rows × 312 columns</p>\n",
       "</div>"
      ],
      "text/plain": [
       "   index  MSSubClass  LotFrontage  LotArea  OverallQual  OverallCond  \\\n",
       "0      0          60         65.0     8450            7            5   \n",
       "1      1          20         80.0     9600            6            8   \n",
       "2      2          60         68.0    11250            7            5   \n",
       "3      3          70         60.0     9550            7            5   \n",
       "4      4          60         84.0    14260            8            5   \n",
       "\n",
       "   YearBuilt  YearRemodAdd  MasVnrArea  BsmtFinSF1  ...  SaleType_ConLw  \\\n",
       "0       2003          2003       196.0       706.0  ...               0   \n",
       "1       1976          1976         0.0       978.0  ...               0   \n",
       "2       2001          2002       162.0       486.0  ...               0   \n",
       "3       1915          1970         0.0       216.0  ...               0   \n",
       "4       2000          2000       350.0       655.0  ...               0   \n",
       "\n",
       "   SaleType_New  SaleType_Oth  SaleType_WD  SaleCondition_Abnorml  \\\n",
       "0             0             0            1                      0   \n",
       "1             0             0            1                      0   \n",
       "2             0             0            1                      0   \n",
       "3             0             0            1                      1   \n",
       "4             0             0            1                      0   \n",
       "\n",
       "   SaleCondition_AdjLand  SaleCondition_Alloca  SaleCondition_Family  \\\n",
       "0                      0                     0                     0   \n",
       "1                      0                     0                     0   \n",
       "2                      0                     0                     0   \n",
       "3                      0                     0                     0   \n",
       "4                      0                     0                     0   \n",
       "\n",
       "   SaleCondition_Normal  SaleCondition_Partial  \n",
       "0                     1                      0  \n",
       "1                     1                      0  \n",
       "2                     1                      0  \n",
       "3                     0                      0  \n",
       "4                     1                      0  \n",
       "\n",
       "[5 rows x 312 columns]"
      ]
     },
     "execution_count": 16,
     "metadata": {},
     "output_type": "execute_result"
    }
   ],
   "source": [
    "copy_data.head()\n",
    "final_features = pd.get_dummies(copy_data).reset_index()\n",
    "final_features.head()"
   ]
  },
  {
   "cell_type": "markdown",
   "id": "c8cffeba",
   "metadata": {
    "papermill": {
     "duration": 0.047082,
     "end_time": "2022-05-03T14:13:41.101531",
     "exception": false,
     "start_time": "2022-05-03T14:13:41.054449",
     "status": "completed"
    },
    "tags": []
   },
   "source": [
    "### Splitting the dataset for training/testing"
   ]
  },
  {
   "cell_type": "code",
   "execution_count": 17,
   "id": "23103502",
   "metadata": {
    "execution": {
     "iopub.execute_input": "2022-05-03T14:13:41.198582Z",
     "iopub.status.busy": "2022-05-03T14:13:41.198064Z",
     "iopub.status.idle": "2022-05-03T14:13:41.201812Z",
     "shell.execute_reply": "2022-05-03T14:13:41.201143Z"
    },
    "papermill": {
     "duration": 0.054978,
     "end_time": "2022-05-03T14:13:41.203637",
     "exception": false,
     "start_time": "2022-05-03T14:13:41.148659",
     "status": "completed"
    },
    "tags": []
   },
   "outputs": [],
   "source": [
    "x_train = final_features[:1460]\n",
    "x_test = final_features[1460:]"
   ]
  },
  {
   "cell_type": "markdown",
   "id": "359cab11",
   "metadata": {
    "papermill": {
     "duration": 0.046193,
     "end_time": "2022-05-03T14:13:41.296393",
     "exception": false,
     "start_time": "2022-05-03T14:13:41.250200",
     "status": "completed"
    },
    "tags": []
   },
   "source": [
    "## Principal component analysis (PCA)"
   ]
  },
  {
   "cell_type": "code",
   "execution_count": 18,
   "id": "775e79d3",
   "metadata": {
    "execution": {
     "iopub.execute_input": "2022-05-03T14:13:41.390861Z",
     "iopub.status.busy": "2022-05-03T14:13:41.390298Z",
     "iopub.status.idle": "2022-05-03T14:13:41.608220Z",
     "shell.execute_reply": "2022-05-03T14:13:41.607503Z"
    },
    "papermill": {
     "duration": 0.267767,
     "end_time": "2022-05-03T14:13:41.610392",
     "exception": false,
     "start_time": "2022-05-03T14:13:41.342625",
     "status": "completed"
    },
    "tags": []
   },
   "outputs": [],
   "source": [
    "from sklearn.model_selection import train_test_split\n",
    "from sklearn.preprocessing import StandardScaler\n",
    "\n",
    "sc = StandardScaler()\n",
    "x_train = sc.fit_transform(x_train)"
   ]
  },
  {
   "cell_type": "code",
   "execution_count": 19,
   "id": "2c9d82f2",
   "metadata": {
    "execution": {
     "iopub.execute_input": "2022-05-03T14:13:41.705454Z",
     "iopub.status.busy": "2022-05-03T14:13:41.704926Z",
     "iopub.status.idle": "2022-05-03T14:13:41.907042Z",
     "shell.execute_reply": "2022-05-03T14:13:41.906002Z"
    },
    "papermill": {
     "duration": 0.253463,
     "end_time": "2022-05-03T14:13:41.910507",
     "exception": false,
     "start_time": "2022-05-03T14:13:41.657044",
     "status": "completed"
    },
    "tags": []
   },
   "outputs": [],
   "source": [
    "from sklearn.decomposition import PCA\n",
    "pca_com = 250\n",
    "pca = PCA(n_components=312)\n",
    "x_train = pca.fit_transform(x_train)"
   ]
  },
  {
   "cell_type": "code",
   "execution_count": 20,
   "id": "5e41782f",
   "metadata": {
    "execution": {
     "iopub.execute_input": "2022-05-03T14:13:42.057735Z",
     "iopub.status.busy": "2022-05-03T14:13:42.057473Z",
     "iopub.status.idle": "2022-05-03T14:13:42.231980Z",
     "shell.execute_reply": "2022-05-03T14:13:42.231127Z"
    },
    "papermill": {
     "duration": 0.236492,
     "end_time": "2022-05-03T14:13:42.234215",
     "exception": false,
     "start_time": "2022-05-03T14:13:41.997723",
     "status": "completed"
    },
    "tags": []
   },
   "outputs": [
    {
     "data": {
      "image/png": "[encoded data removed]",
      "text/plain": [
       "<Figure size 432x288 with 1 Axes>"
      ]
     },
     "metadata": {
      "needs_background": "light"
     },
     "output_type": "display_data"
    }
   ],
   "source": [
    "explained_variance = pca.explained_variance_ratio_\n",
    "plt.figure()\n",
    "plt.plot(np.cumsum(pca.explained_variance_ratio_))\n",
    "plt.xlabel('Number of components')\n",
    "plt.ylabel('Explained variance (%)')\n",
    "plt.show()"
   ]
  },
  {
   "cell_type": "markdown",
   "id": "d4879abd",
   "metadata": {
    "papermill": {
     "duration": 0.047081,
     "end_time": "2022-05-03T14:13:42.328699",
     "exception": false,
     "start_time": "2022-05-03T14:13:42.281618",
     "status": "completed"
    },
    "tags": []
   },
   "source": [
    "### Dropping the redundant features"
   ]
  },
  {
   "cell_type": "code",
   "execution_count": 21,
   "id": "bb1ecddb",
   "metadata": {
    "execution": {
     "iopub.execute_input": "2022-05-03T14:13:42.426044Z",
     "iopub.status.busy": "2022-05-03T14:13:42.425541Z",
     "iopub.status.idle": "2022-05-03T14:13:42.451927Z",
     "shell.execute_reply": "2022-05-03T14:13:42.451276Z"
    },
    "papermill": {
     "duration": 0.077876,
     "end_time": "2022-05-03T14:13:42.453750",
     "exception": false,
     "start_time": "2022-05-03T14:13:42.375874",
     "status": "completed"
    },
    "tags": []
   },
   "outputs": [
    {
     "data": {
      "text/html": [
       "<div>\n",
       "<style scoped>\n",
       "    .dataframe tbody tr th:only-of-type {\n",
       "        vertical-align: middle;\n",
       "    }\n",
       "\n",
       "    .dataframe tbody tr th {\n",
       "        vertical-align: top;\n",
       "    }\n",
       "\n",
       "    .dataframe thead th {\n",
       "        text-align: right;\n",
       "    }\n",
       "</style>\n",
       "<table border=\"1\" class=\"dataframe\">\n",
       "  <thead>\n",
       "    <tr style=\"text-align: right;\">\n",
       "      <th></th>\n",
       "      <th>index</th>\n",
       "      <th>MSSubClass</th>\n",
       "      <th>LotFrontage</th>\n",
       "      <th>LotArea</th>\n",
       "      <th>OverallQual</th>\n",
       "      <th>OverallCond</th>\n",
       "      <th>YearBuilt</th>\n",
       "      <th>YearRemodAdd</th>\n",
       "      <th>MasVnrArea</th>\n",
       "      <th>BsmtFinSF1</th>\n",
       "      <th>...</th>\n",
       "      <th>KitchenQual_Ex</th>\n",
       "      <th>KitchenQual_Fa</th>\n",
       "      <th>KitchenQual_Gd</th>\n",
       "      <th>KitchenQual_TA</th>\n",
       "      <th>Functional_Maj1</th>\n",
       "      <th>Functional_Maj2</th>\n",
       "      <th>Functional_Min1</th>\n",
       "      <th>Functional_Min2</th>\n",
       "      <th>Functional_Mod</th>\n",
       "      <th>Functional_Sev</th>\n",
       "    </tr>\n",
       "  </thead>\n",
       "  <tbody>\n",
       "    <tr>\n",
       "      <th>0</th>\n",
       "      <td>0</td>\n",
       "      <td>60</td>\n",
       "      <td>65.0</td>\n",
       "      <td>8450</td>\n",
       "      <td>7</td>\n",
       "      <td>5</td>\n",
       "      <td>2003</td>\n",
       "      <td>2003</td>\n",
       "      <td>196.0</td>\n",
       "      <td>706.0</td>\n",
       "      <td>...</td>\n",
       "      <td>0</td>\n",
       "      <td>0</td>\n",
       "      <td>1</td>\n",
       "      <td>0</td>\n",
       "      <td>0</td>\n",
       "      <td>0</td>\n",
       "      <td>0</td>\n",
       "      <td>0</td>\n",
       "      <td>0</td>\n",
       "      <td>0</td>\n",
       "    </tr>\n",
       "    <tr>\n",
       "      <th>1</th>\n",
       "      <td>1</td>\n",
       "      <td>20</td>\n",
       "      <td>80.0</td>\n",
       "      <td>9600</td>\n",
       "      <td>6</td>\n",
       "      <td>8</td>\n",
       "      <td>1976</td>\n",
       "      <td>1976</td>\n",
       "      <td>0.0</td>\n",
       "      <td>978.0</td>\n",
       "      <td>...</td>\n",
       "      <td>0</td>\n",
       "      <td>0</td>\n",
       "      <td>0</td>\n",
       "      <td>1</td>\n",
       "      <td>0</td>\n",
       "      <td>0</td>\n",
       "      <td>0</td>\n",
       "      <td>0</td>\n",
       "      <td>0</td>\n",
       "      <td>0</td>\n",
       "    </tr>\n",
       "    <tr>\n",
       "      <th>2</th>\n",
       "      <td>2</td>\n",
       "      <td>60</td>\n",
       "      <td>68.0</td>\n",
       "      <td>11250</td>\n",
       "      <td>7</td>\n",
       "      <td>5</td>\n",
       "      <td>2001</td>\n",
       "      <td>2002</td>\n",
       "      <td>162.0</td>\n",
       "      <td>486.0</td>\n",
       "      <td>...</td>\n",
       "      <td>0</td>\n",
       "      <td>0</td>\n",
       "      <td>1</td>\n",
       "      <td>0</td>\n",
       "      <td>0</td>\n",
       "      <td>0</td>\n",
       "      <td>0</td>\n",
       "      <td>0</td>\n",
       "      <td>0</td>\n",
       "      <td>0</td>\n",
       "    </tr>\n",
       "    <tr>\n",
       "      <th>3</th>\n",
       "      <td>3</td>\n",
       "      <td>70</td>\n",
       "      <td>60.0</td>\n",
       "      <td>9550</td>\n",
       "      <td>7</td>\n",
       "      <td>5</td>\n",
       "      <td>1915</td>\n",
       "      <td>1970</td>\n",
       "      <td>0.0</td>\n",
       "      <td>216.0</td>\n",
       "      <td>...</td>\n",
       "      <td>0</td>\n",
       "      <td>0</td>\n",
       "      <td>1</td>\n",
       "      <td>0</td>\n",
       "      <td>0</td>\n",
       "      <td>0</td>\n",
       "      <td>0</td>\n",
       "      <td>0</td>\n",
       "      <td>0</td>\n",
       "      <td>0</td>\n",
       "    </tr>\n",
       "    <tr>\n",
       "      <th>4</th>\n",
       "      <td>4</td>\n",
       "      <td>60</td>\n",
       "      <td>84.0</td>\n",
       "      <td>14260</td>\n",
       "      <td>8</td>\n",
       "      <td>5</td>\n",
       "      <td>2000</td>\n",
       "      <td>2000</td>\n",
       "      <td>350.0</td>\n",
       "      <td>655.0</td>\n",
       "      <td>...</td>\n",
       "      <td>0</td>\n",
       "      <td>0</td>\n",
       "      <td>1</td>\n",
       "      <td>0</td>\n",
       "      <td>0</td>\n",
       "      <td>0</td>\n",
       "      <td>0</td>\n",
       "      <td>0</td>\n",
       "      <td>0</td>\n",
       "      <td>0</td>\n",
       "    </tr>\n",
       "  </tbody>\n",
       "</table>\n",
       "<p>5 rows × 250 columns</p>\n",
       "</div>"
      ],
      "text/plain": [
       "   index  MSSubClass  LotFrontage  LotArea  OverallQual  OverallCond  \\\n",
       "0      0          60         65.0     8450            7            5   \n",
       "1      1          20         80.0     9600            6            8   \n",
       "2      2          60         68.0    11250            7            5   \n",
       "3      3          70         60.0     9550            7            5   \n",
       "4      4          60         84.0    14260            8            5   \n",
       "\n",
       "   YearBuilt  YearRemodAdd  MasVnrArea  BsmtFinSF1  ...  KitchenQual_Ex  \\\n",
       "0       2003          2003       196.0       706.0  ...               0   \n",
       "1       1976          1976         0.0       978.0  ...               0   \n",
       "2       2001          2002       162.0       486.0  ...               0   \n",
       "3       1915          1970         0.0       216.0  ...               0   \n",
       "4       2000          2000       350.0       655.0  ...               0   \n",
       "\n",
       "   KitchenQual_Fa  KitchenQual_Gd  KitchenQual_TA  Functional_Maj1  \\\n",
       "0               0               1               0                0   \n",
       "1               0               0               1                0   \n",
       "2               0               1               0                0   \n",
       "3               0               1               0                0   \n",
       "4               0               1               0                0   \n",
       "\n",
       "   Functional_Maj2  Functional_Min1  Functional_Min2  Functional_Mod  \\\n",
       "0                0                0                0               0   \n",
       "1                0                0                0               0   \n",
       "2                0                0                0               0   \n",
       "3                0                0                0               0   \n",
       "4                0                0                0               0   \n",
       "\n",
       "   Functional_Sev  \n",
       "0               0  \n",
       "1               0  \n",
       "2               0  \n",
       "3               0  \n",
       "4               0  \n",
       "\n",
       "[5 rows x 250 columns]"
      ]
     },
     "execution_count": 21,
     "metadata": {},
     "output_type": "execute_result"
    }
   ],
   "source": [
    "var_matrix = (pd.concat([pd.DataFrame(list(final_features.columns), columns = ['Factors']),\n",
    "                         pd.DataFrame(list(explained_variance**2), columns = ['^2 variance'])], axis=1)).sort_values(by='^2 variance', ascending=False)[0:pca_com]\n",
    "\n",
    "list(var_matrix['Factors'])\n",
    "\n",
    "x_new = final_features[list(var_matrix['Factors'])]\n",
    "x_new.shape\n",
    "x_new.head()"
   ]
  },
  {
   "cell_type": "markdown",
   "id": "e51e49b6",
   "metadata": {
    "papermill": {
     "duration": 0.047622,
     "end_time": "2022-05-03T14:13:42.549289",
     "exception": false,
     "start_time": "2022-05-03T14:13:42.501667",
     "status": "completed"
    },
    "tags": []
   },
   "source": [
    "### Resplitting the dataset into test and train"
   ]
  },
  {
   "cell_type": "code",
   "execution_count": 22,
   "id": "9ec82fc2",
   "metadata": {
    "execution": {
     "iopub.execute_input": "2022-05-03T14:13:42.647978Z",
     "iopub.status.busy": "2022-05-03T14:13:42.647455Z",
     "iopub.status.idle": "2022-05-03T14:13:42.652170Z",
     "shell.execute_reply": "2022-05-03T14:13:42.651589Z"
    },
    "papermill": {
     "duration": 0.056436,
     "end_time": "2022-05-03T14:13:42.654066",
     "exception": false,
     "start_time": "2022-05-03T14:13:42.597630",
     "status": "completed"
    },
    "tags": []
   },
   "outputs": [],
   "source": [
    "x_train = x_new[:1460]\n",
    "x_test = x_new[1460:]"
   ]
  },
  {
   "cell_type": "markdown",
   "id": "60d21e4a",
   "metadata": {
    "papermill": {
     "duration": 0.048185,
     "end_time": "2022-05-03T14:13:42.750591",
     "exception": false,
     "start_time": "2022-05-03T14:13:42.702406",
     "status": "completed"
    },
    "tags": []
   },
   "source": [
    "# Building a linear regression model"
   ]
  },
  {
   "cell_type": "code",
   "execution_count": 23,
   "id": "bb7c63cb",
   "metadata": {
    "execution": {
     "iopub.execute_input": "2022-05-03T14:13:42.849448Z",
     "iopub.status.busy": "2022-05-03T14:13:42.848913Z",
     "iopub.status.idle": "2022-05-03T14:13:42.857120Z",
     "shell.execute_reply": "2022-05-03T14:13:42.856469Z"
    },
    "papermill": {
     "duration": 0.060304,
     "end_time": "2022-05-03T14:13:42.859109",
     "exception": false,
     "start_time": "2022-05-03T14:13:42.798805",
     "status": "completed"
    },
    "tags": []
   },
   "outputs": [],
   "source": [
    "x_train_t, x_test_t, y_train_t, y_test_t = train_test_split(x_train, target_price, test_size=0.4)"
   ]
  },
  {
   "cell_type": "markdown",
   "id": "032033b0",
   "metadata": {
    "papermill": {
     "duration": 0.04838,
     "end_time": "2022-05-03T14:13:42.955605",
     "exception": false,
     "start_time": "2022-05-03T14:13:42.907225",
     "status": "completed"
    },
    "tags": []
   },
   "source": [
    "### Training the model"
   ]
  },
  {
   "cell_type": "code",
   "execution_count": 24,
   "id": "2649e5e4",
   "metadata": {
    "execution": {
     "iopub.execute_input": "2022-05-03T14:13:43.055157Z",
     "iopub.status.busy": "2022-05-03T14:13:43.054618Z",
     "iopub.status.idle": "2022-05-03T14:13:43.101936Z",
     "shell.execute_reply": "2022-05-03T14:13:43.100669Z"
    },
    "papermill": {
     "duration": 0.101326,
     "end_time": "2022-05-03T14:13:43.105348",
     "exception": false,
     "start_time": "2022-05-03T14:13:43.004022",
     "status": "completed"
    },
    "tags": []
   },
   "outputs": [],
   "source": [
    "from sklearn.linear_model import LinearRegression\n",
    "LR = LinearRegression()\n",
    "\n",
    "model = LR.fit(x_train_t, y_train_t)"
   ]
  },
  {
   "cell_type": "markdown",
   "id": "c37621f9",
   "metadata": {
    "papermill": {
     "duration": 0.059342,
     "end_time": "2022-05-03T14:13:43.255599",
     "exception": false,
     "start_time": "2022-05-03T14:13:43.196257",
     "status": "completed"
    },
    "tags": []
   },
   "source": [
    "### Running test cases"
   ]
  },
  {
   "cell_type": "code",
   "execution_count": 25,
   "id": "d188e50f",
   "metadata": {
    "execution": {
     "iopub.execute_input": "2022-05-03T14:13:43.355066Z",
     "iopub.status.busy": "2022-05-03T14:13:43.354798Z",
     "iopub.status.idle": "2022-05-03T14:13:43.369346Z",
     "shell.execute_reply": "2022-05-03T14:13:43.368309Z"
    },
    "papermill": {
     "duration": 0.067696,
     "end_time": "2022-05-03T14:13:43.372666",
     "exception": false,
     "start_time": "2022-05-03T14:13:43.304970",
     "status": "completed"
    },
    "tags": []
   },
   "outputs": [],
   "source": [
    "predicted_price = LR.predict(x_test_t)"
   ]
  },
  {
   "cell_type": "markdown",
   "id": "6ed04bad",
   "metadata": {
    "papermill": {
     "duration": 0.060459,
     "end_time": "2022-05-03T14:13:43.525446",
     "exception": false,
     "start_time": "2022-05-03T14:13:43.464987",
     "status": "completed"
    },
    "tags": []
   },
   "source": [
    "### Comparison between test values and predicted values"
   ]
  },
  {
   "cell_type": "code",
   "execution_count": 26,
   "id": "935cd54f",
   "metadata": {
    "execution": {
     "iopub.execute_input": "2022-05-03T14:13:43.622408Z",
     "iopub.status.busy": "2022-05-03T14:13:43.622138Z",
     "iopub.status.idle": "2022-05-03T14:13:43.831546Z",
     "shell.execute_reply": "2022-05-03T14:13:43.830686Z"
    },
    "papermill": {
     "duration": 0.260238,
     "end_time": "2022-05-03T14:13:43.833601",
     "exception": false,
     "start_time": "2022-05-03T14:13:43.573363",
     "status": "completed"
    },
    "tags": []
   },
   "outputs": [
    {
     "data": {
      "image/png": "[encoded data removed]",
      "text/plain": [
       "<Figure size 432x288 with 1 Axes>"
      ]
     },
     "metadata": {
      "needs_background": "light"
     },
     "output_type": "display_data"
    }
   ],
   "source": [
    "plt.scatter(y_test_t, predicted_price, color='r')\n",
    "plt.xlabel('Test values')\n",
    "plt.ylabel('Predicted values')\n",
    "plt.title('Test vs Prediction')\n",
    "plt.show()"
   ]
  },
  {
   "cell_type": "markdown",
   "id": "3efedbec",
   "metadata": {
    "papermill": {
     "duration": 0.049094,
     "end_time": "2022-05-03T14:13:43.931358",
     "exception": false,
     "start_time": "2022-05-03T14:13:43.882264",
     "status": "completed"
    },
    "tags": []
   },
   "source": [
    "# Final submission"
   ]
  },
  {
   "cell_type": "code",
   "execution_count": 27,
   "id": "02ca4d99",
   "metadata": {
    "execution": {
     "iopub.execute_input": "2022-05-03T14:13:44.034732Z",
     "iopub.status.busy": "2022-05-03T14:13:44.033986Z",
     "iopub.status.idle": "2022-05-03T14:13:44.050833Z",
     "shell.execute_reply": "2022-05-03T14:13:44.049819Z"
    },
    "papermill": {
     "duration": 0.073497,
     "end_time": "2022-05-03T14:13:44.054259",
     "exception": false,
     "start_time": "2022-05-03T14:13:43.980762",
     "status": "completed"
    },
    "tags": []
   },
   "outputs": [],
   "source": [
    "y_pred = model.predict(x_test_t)\n",
    "prediction = pd.DataFrame(y_pred)\n",
    "\n",
    "prediction.columns = ['SalePrice']\n",
    "id_data = pd.DataFrame(test['Id'])\n",
    "prediction = pd.concat([id_data, prediction], axis=1)\n",
    "\n",
    "prediction['SalePrice'] = prediction['SalePrice'].fillna(prediction['SalePrice'].mode()[1])\n",
    "\n",
    "\n",
    "prediction['SalePrice'] = prediction['SalePrice'].astype(float)\n"
   ]
  },
  {
   "cell_type": "code",
   "execution_count": 28,
   "id": "7d438dd7",
   "metadata": {
    "execution": {
     "iopub.execute_input": "2022-05-03T14:13:44.205070Z",
     "iopub.status.busy": "2022-05-03T14:13:44.204790Z",
     "iopub.status.idle": "2022-05-03T14:13:44.216428Z",
     "shell.execute_reply": "2022-05-03T14:13:44.215746Z"
    },
    "papermill": {
     "duration": 0.072444,
     "end_time": "2022-05-03T14:13:44.218721",
     "exception": false,
     "start_time": "2022-05-03T14:13:44.146277",
     "status": "completed"
    },
    "tags": []
   },
   "outputs": [],
   "source": [
    "prediction.to_csv('KaggleSubVideo.csv', index=False)"
   ]
  },
  {
   "cell_type": "code",
   "execution_count": 29,
   "id": "5b6acf3c",
   "metadata": {
    "execution": {
     "iopub.execute_input": "2022-05-03T14:13:44.317523Z",
     "iopub.status.busy": "2022-05-03T14:13:44.317079Z",
     "iopub.status.idle": "2022-05-03T14:13:44.328401Z",
     "shell.execute_reply": "2022-05-03T14:13:44.327776Z"
    },
    "papermill": {
     "duration": 0.062759,
     "end_time": "2022-05-03T14:13:44.330305",
     "exception": false,
     "start_time": "2022-05-03T14:13:44.267546",
     "status": "completed"
    },
    "tags": []
   },
   "outputs": [
    {
     "data": {
      "text/html": [
       "<div>\n",
       "<style scoped>\n",
       "    .dataframe tbody tr th:only-of-type {\n",
       "        vertical-align: middle;\n",
       "    }\n",
       "\n",
       "    .dataframe tbody tr th {\n",
       "        vertical-align: top;\n",
       "    }\n",
       "\n",
       "    .dataframe thead th {\n",
       "        text-align: right;\n",
       "    }\n",
       "</style>\n",
       "<table border=\"1\" class=\"dataframe\">\n",
       "  <thead>\n",
       "    <tr style=\"text-align: right;\">\n",
       "      <th></th>\n",
       "      <th>Id</th>\n",
       "      <th>SalePrice</th>\n",
       "    </tr>\n",
       "  </thead>\n",
       "  <tbody>\n",
       "    <tr>\n",
       "      <th>0</th>\n",
       "      <td>1461</td>\n",
       "      <td>190952.036650</td>\n",
       "    </tr>\n",
       "    <tr>\n",
       "      <th>1</th>\n",
       "      <td>1462</td>\n",
       "      <td>185273.050063</td>\n",
       "    </tr>\n",
       "    <tr>\n",
       "      <th>2</th>\n",
       "      <td>1463</td>\n",
       "      <td>167834.792430</td>\n",
       "    </tr>\n",
       "    <tr>\n",
       "      <th>3</th>\n",
       "      <td>1464</td>\n",
       "      <td>109787.386926</td>\n",
       "    </tr>\n",
       "    <tr>\n",
       "      <th>4</th>\n",
       "      <td>1465</td>\n",
       "      <td>152096.804594</td>\n",
       "    </tr>\n",
       "    <tr>\n",
       "      <th>...</th>\n",
       "      <td>...</td>\n",
       "      <td>...</td>\n",
       "    </tr>\n",
       "    <tr>\n",
       "      <th>1454</th>\n",
       "      <td>2915</td>\n",
       "      <td>27074.777716</td>\n",
       "    </tr>\n",
       "    <tr>\n",
       "      <th>1455</th>\n",
       "      <td>2916</td>\n",
       "      <td>27074.777716</td>\n",
       "    </tr>\n",
       "    <tr>\n",
       "      <th>1456</th>\n",
       "      <td>2917</td>\n",
       "      <td>27074.777716</td>\n",
       "    </tr>\n",
       "    <tr>\n",
       "      <th>1457</th>\n",
       "      <td>2918</td>\n",
       "      <td>27074.777716</td>\n",
       "    </tr>\n",
       "    <tr>\n",
       "      <th>1458</th>\n",
       "      <td>2919</td>\n",
       "      <td>27074.777716</td>\n",
       "    </tr>\n",
       "  </tbody>\n",
       "</table>\n",
       "<p>1459 rows × 2 columns</p>\n",
       "</div>"
      ],
      "text/plain": [
       "        Id      SalePrice\n",
       "0     1461  190952.036650\n",
       "1     1462  185273.050063\n",
       "2     1463  167834.792430\n",
       "3     1464  109787.386926\n",
       "4     1465  152096.804594\n",
       "...    ...            ...\n",
       "1454  2915   27074.777716\n",
       "1455  2916   27074.777716\n",
       "1456  2917   27074.777716\n",
       "1457  2918   27074.777716\n",
       "1458  2919   27074.777716\n",
       "\n",
       "[1459 rows x 2 columns]"
      ]
     },
     "execution_count": 29,
     "metadata": {},
     "output_type": "execute_result"
    }
   ],
   "source": [
    "prediction"
   ]
  }
 ],
 "metadata": {
  "kernelspec": {
   "display_name": "Python 3",
   "language": "python",
   "name": "python3"
  },
  "language_info": {
   "codemirror_mode": {
    "name": "ipython",
    "version": 3
   },
   "file_extension": ".py",
   "mimetype": "text/x-python",
   "name": "python",
   "nbconvert_exporter": "python",
   "pygments_lexer": "ipython3",
   "version": "3.7.12"
  },
  "papermill": {
   "default_parameters": {},
   "duration": 18.617585,
   "end_time": "2022-05-03T14:13:45.100093",
   "environment_variables": {},
   "exception": null,
   "input_path": "__notebook__.ipynb",
   "output_path": "__notebook__.ipynb",
   "parameters": {},
   "start_time": "2022-05-03T14:13:26.482508",
   "version": "2.3.4"
  }
 },
 "nbformat": 4,
 "nbformat_minor": 5
}
