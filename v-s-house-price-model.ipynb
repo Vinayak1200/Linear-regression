{
 "cells": [
  {
   "cell_type": "code",
   "execution_count": 1,
   "id": "77e9221b",
   "metadata": {
    "_cell_guid": "b1076dfc-b9ad-4769-8c92-a6c4dae69d19",
    "_uuid": "8f2839f25d086af736a60e9eeb907d3b93b6e0e5",
    "execution": {
     "iopub.execute_input": "2022-05-01T05:49:08.236306Z",
     "iopub.status.busy": "2022-05-01T05:49:08.235913Z",
     "iopub.status.idle": "2022-05-01T05:49:08.251222Z",
     "shell.execute_reply": "2022-05-01T05:49:08.250026Z"
    },
    "papermill": {
     "duration": 0.064669,
     "end_time": "2022-05-01T05:49:08.254282",
     "exception": false,
     "start_time": "2022-05-01T05:49:08.189613",
     "status": "completed"
    },
    "tags": []
   },
   "outputs": [
    {
     "name": "stdout",
     "output_type": "stream",
     "text": [
      "/kaggle/input/house-prices-advanced-regression-techniques/sample_submission.csv\n",
      "/kaggle/input/house-prices-advanced-regression-techniques/data_description.txt\n",
      "/kaggle/input/house-prices-advanced-regression-techniques/train.csv\n",
      "/kaggle/input/house-prices-advanced-regression-techniques/test.csv\n"
     ]
    }
   ],
   "source": [
    "# This Python 3 environment comes with many helpful analytics libraries installed\n",
    "# It is defined by the kaggle/python Docker image: https://github.com/kaggle/docker-python\n",
    "# For example, here's several helpful packages to load\n",
    "\n",
    "import numpy as np # linear algebra\n",
    "import pandas as pd # data processing, CSV file I/O (e.g. pd.read_csv)\n",
    "\n",
    "# Input data files are available in the read-only \"../input/\" directory\n",
    "# For example, running this (by clicking run or pressing Shift+Enter) will list all files under the input directory\n",
    "\n",
    "import os\n",
    "for dirname, _, filenames in os.walk('/kaggle/input'):\n",
    "    for filename in filenames:\n",
    "        print(os.path.join(dirname, filename))\n",
    "\n",
    "# You can write up to 20GB to the current directory (/kaggle/working/) that gets preserved as output when you create a version using \"Save & Run All\" \n",
    "# You can also write temporary files to /kaggle/temp/, but they won't be saved outside of the current session"
   ]
  },
  {
   "cell_type": "markdown",
   "id": "74ab2252",
   "metadata": {
    "papermill": {
     "duration": 0.040256,
     "end_time": "2022-05-01T05:49:08.337894",
     "exception": false,
     "start_time": "2022-05-01T05:49:08.297638",
     "status": "completed"
    },
    "tags": []
   },
   "source": [
    "## Importing the necessary libraries "
   ]
  },
  {
   "cell_type": "code",
   "execution_count": 2,
   "id": "dcd30c10",
   "metadata": {
    "execution": {
     "iopub.execute_input": "2022-05-01T05:49:08.421421Z",
     "iopub.status.busy": "2022-05-01T05:49:08.421124Z",
     "iopub.status.idle": "2022-05-01T05:49:09.711693Z",
     "shell.execute_reply": "2022-05-01T05:49:09.710702Z"
    },
    "papermill": {
     "duration": 1.334844,
     "end_time": "2022-05-01T05:49:09.714376",
     "exception": false,
     "start_time": "2022-05-01T05:49:08.379532",
     "status": "completed"
    },
    "tags": []
   },
   "outputs": [],
   "source": [
    "import numpy as np\n",
    "import pandas as pd\n",
    "import matplotlib.pyplot as plt\n",
    "import seaborn as sn"
   ]
  },
  {
   "cell_type": "markdown",
   "id": "294aaf15",
   "metadata": {
    "papermill": {
     "duration": 0.042012,
     "end_time": "2022-05-01T05:49:09.801609",
     "exception": false,
     "start_time": "2022-05-01T05:49:09.759597",
     "status": "completed"
    },
    "tags": []
   },
   "source": [
    "## Reading the training and testing datasets"
   ]
  },
  {
   "cell_type": "code",
   "execution_count": 3,
   "id": "33c53edf",
   "metadata": {
    "execution": {
     "iopub.execute_input": "2022-05-01T05:49:09.888443Z",
     "iopub.status.busy": "2022-05-01T05:49:09.887656Z",
     "iopub.status.idle": "2022-05-01T05:49:10.005977Z",
     "shell.execute_reply": "2022-05-01T05:49:10.005001Z"
    },
    "papermill": {
     "duration": 0.165711,
     "end_time": "2022-05-01T05:49:10.008835",
     "exception": false,
     "start_time": "2022-05-01T05:49:09.843124",
     "status": "completed"
    },
    "tags": []
   },
   "outputs": [
    {
     "data": {
      "text/html": [
       "<div>\n",
       "<style scoped>\n",
       "    .dataframe tbody tr th:only-of-type {\n",
       "        vertical-align: middle;\n",
       "    }\n",
       "\n",
       "    .dataframe tbody tr th {\n",
       "        vertical-align: top;\n",
       "    }\n",
       "\n",
       "    .dataframe thead th {\n",
       "        text-align: right;\n",
       "    }\n",
       "</style>\n",
       "<table border=\"1\" class=\"dataframe\">\n",
       "  <thead>\n",
       "    <tr style=\"text-align: right;\">\n",
       "      <th></th>\n",
       "      <th>Id</th>\n",
       "      <th>MSSubClass</th>\n",
       "      <th>MSZoning</th>\n",
       "      <th>LotFrontage</th>\n",
       "      <th>LotArea</th>\n",
       "      <th>Street</th>\n",
       "      <th>Alley</th>\n",
       "      <th>LotShape</th>\n",
       "      <th>LandContour</th>\n",
       "      <th>Utilities</th>\n",
       "      <th>...</th>\n",
       "      <th>PoolArea</th>\n",
       "      <th>PoolQC</th>\n",
       "      <th>Fence</th>\n",
       "      <th>MiscFeature</th>\n",
       "      <th>MiscVal</th>\n",
       "      <th>MoSold</th>\n",
       "      <th>YrSold</th>\n",
       "      <th>SaleType</th>\n",
       "      <th>SaleCondition</th>\n",
       "      <th>SalePrice</th>\n",
       "    </tr>\n",
       "  </thead>\n",
       "  <tbody>\n",
       "    <tr>\n",
       "      <th>0</th>\n",
       "      <td>1</td>\n",
       "      <td>60</td>\n",
       "      <td>RL</td>\n",
       "      <td>65.0</td>\n",
       "      <td>8450</td>\n",
       "      <td>Pave</td>\n",
       "      <td>NaN</td>\n",
       "      <td>Reg</td>\n",
       "      <td>Lvl</td>\n",
       "      <td>AllPub</td>\n",
       "      <td>...</td>\n",
       "      <td>0</td>\n",
       "      <td>NaN</td>\n",
       "      <td>NaN</td>\n",
       "      <td>NaN</td>\n",
       "      <td>0</td>\n",
       "      <td>2</td>\n",
       "      <td>2008</td>\n",
       "      <td>WD</td>\n",
       "      <td>Normal</td>\n",
       "      <td>208500</td>\n",
       "    </tr>\n",
       "    <tr>\n",
       "      <th>1</th>\n",
       "      <td>2</td>\n",
       "      <td>20</td>\n",
       "      <td>RL</td>\n",
       "      <td>80.0</td>\n",
       "      <td>9600</td>\n",
       "      <td>Pave</td>\n",
       "      <td>NaN</td>\n",
       "      <td>Reg</td>\n",
       "      <td>Lvl</td>\n",
       "      <td>AllPub</td>\n",
       "      <td>...</td>\n",
       "      <td>0</td>\n",
       "      <td>NaN</td>\n",
       "      <td>NaN</td>\n",
       "      <td>NaN</td>\n",
       "      <td>0</td>\n",
       "      <td>5</td>\n",
       "      <td>2007</td>\n",
       "      <td>WD</td>\n",
       "      <td>Normal</td>\n",
       "      <td>181500</td>\n",
       "    </tr>\n",
       "    <tr>\n",
       "      <th>2</th>\n",
       "      <td>3</td>\n",
       "      <td>60</td>\n",
       "      <td>RL</td>\n",
       "      <td>68.0</td>\n",
       "      <td>11250</td>\n",
       "      <td>Pave</td>\n",
       "      <td>NaN</td>\n",
       "      <td>IR1</td>\n",
       "      <td>Lvl</td>\n",
       "      <td>AllPub</td>\n",
       "      <td>...</td>\n",
       "      <td>0</td>\n",
       "      <td>NaN</td>\n",
       "      <td>NaN</td>\n",
       "      <td>NaN</td>\n",
       "      <td>0</td>\n",
       "      <td>9</td>\n",
       "      <td>2008</td>\n",
       "      <td>WD</td>\n",
       "      <td>Normal</td>\n",
       "      <td>223500</td>\n",
       "    </tr>\n",
       "    <tr>\n",
       "      <th>3</th>\n",
       "      <td>4</td>\n",
       "      <td>70</td>\n",
       "      <td>RL</td>\n",
       "      <td>60.0</td>\n",
       "      <td>9550</td>\n",
       "      <td>Pave</td>\n",
       "      <td>NaN</td>\n",
       "      <td>IR1</td>\n",
       "      <td>Lvl</td>\n",
       "      <td>AllPub</td>\n",
       "      <td>...</td>\n",
       "      <td>0</td>\n",
       "      <td>NaN</td>\n",
       "      <td>NaN</td>\n",
       "      <td>NaN</td>\n",
       "      <td>0</td>\n",
       "      <td>2</td>\n",
       "      <td>2006</td>\n",
       "      <td>WD</td>\n",
       "      <td>Abnorml</td>\n",
       "      <td>140000</td>\n",
       "    </tr>\n",
       "    <tr>\n",
       "      <th>4</th>\n",
       "      <td>5</td>\n",
       "      <td>60</td>\n",
       "      <td>RL</td>\n",
       "      <td>84.0</td>\n",
       "      <td>14260</td>\n",
       "      <td>Pave</td>\n",
       "      <td>NaN</td>\n",
       "      <td>IR1</td>\n",
       "      <td>Lvl</td>\n",
       "      <td>AllPub</td>\n",
       "      <td>...</td>\n",
       "      <td>0</td>\n",
       "      <td>NaN</td>\n",
       "      <td>NaN</td>\n",
       "      <td>NaN</td>\n",
       "      <td>0</td>\n",
       "      <td>12</td>\n",
       "      <td>2008</td>\n",
       "      <td>WD</td>\n",
       "      <td>Normal</td>\n",
       "      <td>250000</td>\n",
       "    </tr>\n",
       "  </tbody>\n",
       "</table>\n",
       "<p>5 rows × 81 columns</p>\n",
       "</div>"
      ],
      "text/plain": [
       "   Id  MSSubClass MSZoning  LotFrontage  LotArea Street Alley LotShape  \\\n",
       "0   1          60       RL         65.0     8450   Pave   NaN      Reg   \n",
       "1   2          20       RL         80.0     9600   Pave   NaN      Reg   \n",
       "2   3          60       RL         68.0    11250   Pave   NaN      IR1   \n",
       "3   4          70       RL         60.0     9550   Pave   NaN      IR1   \n",
       "4   5          60       RL         84.0    14260   Pave   NaN      IR1   \n",
       "\n",
       "  LandContour Utilities  ... PoolArea PoolQC Fence MiscFeature MiscVal MoSold  \\\n",
       "0         Lvl    AllPub  ...        0    NaN   NaN         NaN       0      2   \n",
       "1         Lvl    AllPub  ...        0    NaN   NaN         NaN       0      5   \n",
       "2         Lvl    AllPub  ...        0    NaN   NaN         NaN       0      9   \n",
       "3         Lvl    AllPub  ...        0    NaN   NaN         NaN       0      2   \n",
       "4         Lvl    AllPub  ...        0    NaN   NaN         NaN       0     12   \n",
       "\n",
       "  YrSold  SaleType  SaleCondition  SalePrice  \n",
       "0   2008        WD         Normal     208500  \n",
       "1   2007        WD         Normal     181500  \n",
       "2   2008        WD         Normal     223500  \n",
       "3   2006        WD        Abnorml     140000  \n",
       "4   2008        WD         Normal     250000  \n",
       "\n",
       "[5 rows x 81 columns]"
      ]
     },
     "execution_count": 3,
     "metadata": {},
     "output_type": "execute_result"
    }
   ],
   "source": [
    "train = pd.read_csv(\"../input/house-prices-advanced-regression-techniques/train.csv\")\n",
    "test = pd.read_csv(\"../input/house-prices-advanced-regression-techniques/test.csv\")\n",
    "train.head()"
   ]
  },
  {
   "cell_type": "markdown",
   "id": "6cbad1dc",
   "metadata": {
    "papermill": {
     "duration": 0.044436,
     "end_time": "2022-05-01T05:49:10.096932",
     "exception": false,
     "start_time": "2022-05-01T05:49:10.052496",
     "status": "completed"
    },
    "tags": []
   },
   "source": [
    "# Cleaning the data"
   ]
  },
  {
   "cell_type": "code",
   "execution_count": 4,
   "id": "ae3c9a4f",
   "metadata": {
    "execution": {
     "iopub.execute_input": "2022-05-01T05:49:10.184100Z",
     "iopub.status.busy": "2022-05-01T05:49:10.183799Z",
     "iopub.status.idle": "2022-05-01T05:49:10.208898Z",
     "shell.execute_reply": "2022-05-01T05:49:10.208070Z"
    },
    "papermill": {
     "duration": 0.071653,
     "end_time": "2022-05-01T05:49:10.211012",
     "exception": false,
     "start_time": "2022-05-01T05:49:10.139359",
     "status": "completed"
    },
    "tags": []
   },
   "outputs": [
    {
     "data": {
      "text/html": [
       "<div>\n",
       "<style scoped>\n",
       "    .dataframe tbody tr th:only-of-type {\n",
       "        vertical-align: middle;\n",
       "    }\n",
       "\n",
       "    .dataframe tbody tr th {\n",
       "        vertical-align: top;\n",
       "    }\n",
       "\n",
       "    .dataframe thead th {\n",
       "        text-align: right;\n",
       "    }\n",
       "</style>\n",
       "<table border=\"1\" class=\"dataframe\">\n",
       "  <thead>\n",
       "    <tr style=\"text-align: right;\">\n",
       "      <th></th>\n",
       "      <th>index</th>\n",
       "      <th>0</th>\n",
       "    </tr>\n",
       "  </thead>\n",
       "  <tbody>\n",
       "    <tr>\n",
       "      <th>0</th>\n",
       "      <td>Id</td>\n",
       "      <td>0</td>\n",
       "    </tr>\n",
       "    <tr>\n",
       "      <th>1</th>\n",
       "      <td>MSSubClass</td>\n",
       "      <td>0</td>\n",
       "    </tr>\n",
       "    <tr>\n",
       "      <th>2</th>\n",
       "      <td>MSZoning</td>\n",
       "      <td>0</td>\n",
       "    </tr>\n",
       "    <tr>\n",
       "      <th>3</th>\n",
       "      <td>LotFrontage</td>\n",
       "      <td>259</td>\n",
       "    </tr>\n",
       "    <tr>\n",
       "      <th>4</th>\n",
       "      <td>LotArea</td>\n",
       "      <td>0</td>\n",
       "    </tr>\n",
       "    <tr>\n",
       "      <th>...</th>\n",
       "      <td>...</td>\n",
       "      <td>...</td>\n",
       "    </tr>\n",
       "    <tr>\n",
       "      <th>76</th>\n",
       "      <td>MoSold</td>\n",
       "      <td>0</td>\n",
       "    </tr>\n",
       "    <tr>\n",
       "      <th>77</th>\n",
       "      <td>YrSold</td>\n",
       "      <td>0</td>\n",
       "    </tr>\n",
       "    <tr>\n",
       "      <th>78</th>\n",
       "      <td>SaleType</td>\n",
       "      <td>0</td>\n",
       "    </tr>\n",
       "    <tr>\n",
       "      <th>79</th>\n",
       "      <td>SaleCondition</td>\n",
       "      <td>0</td>\n",
       "    </tr>\n",
       "    <tr>\n",
       "      <th>80</th>\n",
       "      <td>SalePrice</td>\n",
       "      <td>0</td>\n",
       "    </tr>\n",
       "  </tbody>\n",
       "</table>\n",
       "<p>81 rows × 2 columns</p>\n",
       "</div>"
      ],
      "text/plain": [
       "            index    0\n",
       "0              Id    0\n",
       "1      MSSubClass    0\n",
       "2        MSZoning    0\n",
       "3     LotFrontage  259\n",
       "4         LotArea    0\n",
       "..            ...  ...\n",
       "76         MoSold    0\n",
       "77         YrSold    0\n",
       "78       SaleType    0\n",
       "79  SaleCondition    0\n",
       "80      SalePrice    0\n",
       "\n",
       "[81 rows x 2 columns]"
      ]
     },
     "execution_count": 4,
     "metadata": {},
     "output_type": "execute_result"
    }
   ],
   "source": [
    "train.isna().sum().reset_index()"
   ]
  },
  {
   "cell_type": "markdown",
   "id": "1eff2572",
   "metadata": {
    "papermill": {
     "duration": 0.041674,
     "end_time": "2022-05-01T05:49:10.297198",
     "exception": false,
     "start_time": "2022-05-01T05:49:10.255524",
     "status": "completed"
    },
    "tags": []
   },
   "source": [
    "### Combining train and test sets"
   ]
  },
  {
   "cell_type": "code",
   "execution_count": 5,
   "id": "daa3c2e3",
   "metadata": {
    "execution": {
     "iopub.execute_input": "2022-05-01T05:49:10.382359Z",
     "iopub.status.busy": "2022-05-01T05:49:10.381572Z",
     "iopub.status.idle": "2022-05-01T05:49:10.430003Z",
     "shell.execute_reply": "2022-05-01T05:49:10.428739Z"
    },
    "papermill": {
     "duration": 0.094369,
     "end_time": "2022-05-01T05:49:10.432542",
     "exception": false,
     "start_time": "2022-05-01T05:49:10.338173",
     "status": "completed"
    },
    "tags": []
   },
   "outputs": [
    {
     "data": {
      "text/html": [
       "<div>\n",
       "<style scoped>\n",
       "    .dataframe tbody tr th:only-of-type {\n",
       "        vertical-align: middle;\n",
       "    }\n",
       "\n",
       "    .dataframe tbody tr th {\n",
       "        vertical-align: top;\n",
       "    }\n",
       "\n",
       "    .dataframe thead th {\n",
       "        text-align: right;\n",
       "    }\n",
       "</style>\n",
       "<table border=\"1\" class=\"dataframe\">\n",
       "  <thead>\n",
       "    <tr style=\"text-align: right;\">\n",
       "      <th></th>\n",
       "      <th>MSSubClass</th>\n",
       "      <th>MSZoning</th>\n",
       "      <th>LotFrontage</th>\n",
       "      <th>LotArea</th>\n",
       "      <th>Street</th>\n",
       "      <th>Alley</th>\n",
       "      <th>LotShape</th>\n",
       "      <th>LandContour</th>\n",
       "      <th>Utilities</th>\n",
       "      <th>LotConfig</th>\n",
       "      <th>...</th>\n",
       "      <th>ScreenPorch</th>\n",
       "      <th>PoolArea</th>\n",
       "      <th>PoolQC</th>\n",
       "      <th>Fence</th>\n",
       "      <th>MiscFeature</th>\n",
       "      <th>MiscVal</th>\n",
       "      <th>MoSold</th>\n",
       "      <th>YrSold</th>\n",
       "      <th>SaleType</th>\n",
       "      <th>SaleCondition</th>\n",
       "    </tr>\n",
       "  </thead>\n",
       "  <tbody>\n",
       "    <tr>\n",
       "      <th>0</th>\n",
       "      <td>60</td>\n",
       "      <td>RL</td>\n",
       "      <td>65.0</td>\n",
       "      <td>8450</td>\n",
       "      <td>Pave</td>\n",
       "      <td>NaN</td>\n",
       "      <td>Reg</td>\n",
       "      <td>Lvl</td>\n",
       "      <td>AllPub</td>\n",
       "      <td>Inside</td>\n",
       "      <td>...</td>\n",
       "      <td>0</td>\n",
       "      <td>0</td>\n",
       "      <td>NaN</td>\n",
       "      <td>NaN</td>\n",
       "      <td>NaN</td>\n",
       "      <td>0</td>\n",
       "      <td>2</td>\n",
       "      <td>2008</td>\n",
       "      <td>WD</td>\n",
       "      <td>Normal</td>\n",
       "    </tr>\n",
       "    <tr>\n",
       "      <th>1</th>\n",
       "      <td>20</td>\n",
       "      <td>RL</td>\n",
       "      <td>80.0</td>\n",
       "      <td>9600</td>\n",
       "      <td>Pave</td>\n",
       "      <td>NaN</td>\n",
       "      <td>Reg</td>\n",
       "      <td>Lvl</td>\n",
       "      <td>AllPub</td>\n",
       "      <td>FR2</td>\n",
       "      <td>...</td>\n",
       "      <td>0</td>\n",
       "      <td>0</td>\n",
       "      <td>NaN</td>\n",
       "      <td>NaN</td>\n",
       "      <td>NaN</td>\n",
       "      <td>0</td>\n",
       "      <td>5</td>\n",
       "      <td>2007</td>\n",
       "      <td>WD</td>\n",
       "      <td>Normal</td>\n",
       "    </tr>\n",
       "    <tr>\n",
       "      <th>2</th>\n",
       "      <td>60</td>\n",
       "      <td>RL</td>\n",
       "      <td>68.0</td>\n",
       "      <td>11250</td>\n",
       "      <td>Pave</td>\n",
       "      <td>NaN</td>\n",
       "      <td>IR1</td>\n",
       "      <td>Lvl</td>\n",
       "      <td>AllPub</td>\n",
       "      <td>Inside</td>\n",
       "      <td>...</td>\n",
       "      <td>0</td>\n",
       "      <td>0</td>\n",
       "      <td>NaN</td>\n",
       "      <td>NaN</td>\n",
       "      <td>NaN</td>\n",
       "      <td>0</td>\n",
       "      <td>9</td>\n",
       "      <td>2008</td>\n",
       "      <td>WD</td>\n",
       "      <td>Normal</td>\n",
       "    </tr>\n",
       "    <tr>\n",
       "      <th>3</th>\n",
       "      <td>70</td>\n",
       "      <td>RL</td>\n",
       "      <td>60.0</td>\n",
       "      <td>9550</td>\n",
       "      <td>Pave</td>\n",
       "      <td>NaN</td>\n",
       "      <td>IR1</td>\n",
       "      <td>Lvl</td>\n",
       "      <td>AllPub</td>\n",
       "      <td>Corner</td>\n",
       "      <td>...</td>\n",
       "      <td>0</td>\n",
       "      <td>0</td>\n",
       "      <td>NaN</td>\n",
       "      <td>NaN</td>\n",
       "      <td>NaN</td>\n",
       "      <td>0</td>\n",
       "      <td>2</td>\n",
       "      <td>2006</td>\n",
       "      <td>WD</td>\n",
       "      <td>Abnorml</td>\n",
       "    </tr>\n",
       "    <tr>\n",
       "      <th>4</th>\n",
       "      <td>60</td>\n",
       "      <td>RL</td>\n",
       "      <td>84.0</td>\n",
       "      <td>14260</td>\n",
       "      <td>Pave</td>\n",
       "      <td>NaN</td>\n",
       "      <td>IR1</td>\n",
       "      <td>Lvl</td>\n",
       "      <td>AllPub</td>\n",
       "      <td>FR2</td>\n",
       "      <td>...</td>\n",
       "      <td>0</td>\n",
       "      <td>0</td>\n",
       "      <td>NaN</td>\n",
       "      <td>NaN</td>\n",
       "      <td>NaN</td>\n",
       "      <td>0</td>\n",
       "      <td>12</td>\n",
       "      <td>2008</td>\n",
       "      <td>WD</td>\n",
       "      <td>Normal</td>\n",
       "    </tr>\n",
       "  </tbody>\n",
       "</table>\n",
       "<p>5 rows × 79 columns</p>\n",
       "</div>"
      ],
      "text/plain": [
       "   MSSubClass MSZoning  LotFrontage  LotArea Street Alley LotShape  \\\n",
       "0          60       RL         65.0     8450   Pave   NaN      Reg   \n",
       "1          20       RL         80.0     9600   Pave   NaN      Reg   \n",
       "2          60       RL         68.0    11250   Pave   NaN      IR1   \n",
       "3          70       RL         60.0     9550   Pave   NaN      IR1   \n",
       "4          60       RL         84.0    14260   Pave   NaN      IR1   \n",
       "\n",
       "  LandContour Utilities LotConfig  ... ScreenPorch PoolArea PoolQC Fence  \\\n",
       "0         Lvl    AllPub    Inside  ...           0        0    NaN   NaN   \n",
       "1         Lvl    AllPub       FR2  ...           0        0    NaN   NaN   \n",
       "2         Lvl    AllPub    Inside  ...           0        0    NaN   NaN   \n",
       "3         Lvl    AllPub    Corner  ...           0        0    NaN   NaN   \n",
       "4         Lvl    AllPub       FR2  ...           0        0    NaN   NaN   \n",
       "\n",
       "  MiscFeature MiscVal  MoSold  YrSold  SaleType  SaleCondition  \n",
       "0         NaN       0       2    2008        WD         Normal  \n",
       "1         NaN       0       5    2007        WD         Normal  \n",
       "2         NaN       0       9    2008        WD         Normal  \n",
       "3         NaN       0       2    2006        WD        Abnorml  \n",
       "4         NaN       0      12    2008        WD         Normal  \n",
       "\n",
       "[5 rows x 79 columns]"
      ]
     },
     "execution_count": 5,
     "metadata": {},
     "output_type": "execute_result"
    }
   ],
   "source": [
    "target_price = train['SalePrice']\n",
    "test_id = test['Id']\n",
    "new_train = train.drop(['Id', 'SalePrice'], axis=1)\n",
    "new_test = test.drop(['Id'], axis=1)\n",
    "data = pd.concat([new_train, new_test], axis=0)\n",
    "data.head()"
   ]
  },
  {
   "cell_type": "markdown",
   "id": "0ce5eaf8",
   "metadata": {
    "papermill": {
     "duration": 0.041691,
     "end_time": "2022-05-01T05:49:10.520980",
     "exception": false,
     "start_time": "2022-05-01T05:49:10.479289",
     "status": "completed"
    },
    "tags": []
   },
   "source": [
    "### Fixing the datatypes"
   ]
  },
  {
   "cell_type": "code",
   "execution_count": 6,
   "id": "079f9338",
   "metadata": {
    "execution": {
     "iopub.execute_input": "2022-05-01T05:49:10.611739Z",
     "iopub.status.busy": "2022-05-01T05:49:10.611228Z",
     "iopub.status.idle": "2022-05-01T05:49:10.624403Z",
     "shell.execute_reply": "2022-05-01T05:49:10.623231Z"
    },
    "papermill": {
     "duration": 0.061407,
     "end_time": "2022-05-01T05:49:10.626947",
     "exception": false,
     "start_time": "2022-05-01T05:49:10.565540",
     "status": "completed"
    },
    "tags": []
   },
   "outputs": [],
   "source": [
    "copy_data = data.copy()\n"
   ]
  },
  {
   "cell_type": "markdown",
   "id": "bc50de04",
   "metadata": {
    "papermill": {
     "duration": 0.041775,
     "end_time": "2022-05-01T05:49:10.712361",
     "exception": false,
     "start_time": "2022-05-01T05:49:10.670586",
     "status": "completed"
    },
    "tags": []
   },
   "source": [
    "### Filling categorical missing values"
   ]
  },
  {
   "cell_type": "code",
   "execution_count": 7,
   "id": "68821613",
   "metadata": {
    "execution": {
     "iopub.execute_input": "2022-05-01T05:49:10.798200Z",
     "iopub.status.busy": "2022-05-01T05:49:10.797875Z",
     "iopub.status.idle": "2022-05-01T05:49:10.828487Z",
     "shell.execute_reply": "2022-05-01T05:49:10.827624Z"
    },
    "papermill": {
     "duration": 0.076016,
     "end_time": "2022-05-01T05:49:10.830775",
     "exception": false,
     "start_time": "2022-05-01T05:49:10.754759",
     "status": "completed"
    },
    "tags": []
   },
   "outputs": [],
   "source": [
    "for column in ['Alley',\n",
    "               'BsmtQual',\n",
    "               'BsmtExposure', \n",
    "               'BsmtCond',\n",
    "               'BsmtFinType1',\n",
    "               'BsmtFinType2', \n",
    "               'FireplaceQu', \n",
    "              'GarageType',\n",
    "               'GarageFinish',\n",
    "               'GarageQual', \n",
    "              'GarageCond',\n",
    "               'PoolQC', \n",
    "               'Fence', \n",
    "               'MiscFeature']:\n",
    "    copy_data[column] = copy_data[column].fillna(\"None\")\n",
    "    \n",
    "for column in ['MSZoning',\n",
    "               'Utilities',\n",
    "               'Exterior1st', \n",
    "               'Exterior2nd', \n",
    "               'MasVnrType',\n",
    "             'Electrical', \n",
    "               'KitchenQual', \n",
    "               'Functional',\n",
    "               'SaleType' ]:\n",
    "    copy_data[column] = copy_data[column].fillna(copy_data[column].mode()[0])\n",
    "    "
   ]
  },
  {
   "cell_type": "code",
   "execution_count": 8,
   "id": "e2806d28",
   "metadata": {
    "execution": {
     "iopub.execute_input": "2022-05-01T05:49:10.918080Z",
     "iopub.status.busy": "2022-05-01T05:49:10.917098Z",
     "iopub.status.idle": "2022-05-01T05:49:10.966360Z",
     "shell.execute_reply": "2022-05-01T05:49:10.965564Z"
    },
    "papermill": {
     "duration": 0.095743,
     "end_time": "2022-05-01T05:49:10.968789",
     "exception": false,
     "start_time": "2022-05-01T05:49:10.873046",
     "status": "completed"
    },
    "tags": []
   },
   "outputs": [
    {
     "data": {
      "text/plain": [
       "Index([], dtype='object')"
      ]
     },
     "execution_count": 8,
     "metadata": {},
     "output_type": "execute_result"
    }
   ],
   "source": [
    "copy_data.loc[:, copy_data.isna().sum()>0].columns\n",
    "copy_data.select_dtypes('object').loc[:, copy_data.isna().sum()>0].columns"
   ]
  },
  {
   "cell_type": "code",
   "execution_count": 9,
   "id": "c6899204",
   "metadata": {
    "execution": {
     "iopub.execute_input": "2022-05-01T05:49:11.062856Z",
     "iopub.status.busy": "2022-05-01T05:49:11.062567Z",
     "iopub.status.idle": "2022-05-01T05:49:11.102144Z",
     "shell.execute_reply": "2022-05-01T05:49:11.101362Z"
    },
    "papermill": {
     "duration": 0.090437,
     "end_time": "2022-05-01T05:49:11.104304",
     "exception": false,
     "start_time": "2022-05-01T05:49:11.013867",
     "status": "completed"
    },
    "tags": []
   },
   "outputs": [
    {
     "data": {
      "text/plain": [
       "MSSubClass         0\n",
       "MSZoning           0\n",
       "LotFrontage      486\n",
       "LotArea            0\n",
       "Street             0\n",
       "                ... \n",
       "MiscVal            0\n",
       "MoSold             0\n",
       "YrSold             0\n",
       "SaleType           0\n",
       "SaleCondition      0\n",
       "Length: 79, dtype: int64"
      ]
     },
     "execution_count": 9,
     "metadata": {},
     "output_type": "execute_result"
    }
   ],
   "source": [
    "copy_data.select_dtypes('object').isna().sum()\n",
    "copy_data.isna().sum()"
   ]
  },
  {
   "cell_type": "markdown",
   "id": "1258e002",
   "metadata": {
    "papermill": {
     "duration": 0.045923,
     "end_time": "2022-05-01T05:49:11.194505",
     "exception": false,
     "start_time": "2022-05-01T05:49:11.148582",
     "status": "completed"
    },
    "tags": []
   },
   "source": [
    "#### Filling missing values in numeric columns of data"
   ]
  },
  {
   "cell_type": "code",
   "execution_count": 10,
   "id": "98888521",
   "metadata": {
    "execution": {
     "iopub.execute_input": "2022-05-01T05:49:11.287600Z",
     "iopub.status.busy": "2022-05-01T05:49:11.287024Z",
     "iopub.status.idle": "2022-05-01T05:49:11.320166Z",
     "shell.execute_reply": "2022-05-01T05:49:11.319341Z"
    },
    "papermill": {
     "duration": 0.082277,
     "end_time": "2022-05-01T05:49:11.322505",
     "exception": false,
     "start_time": "2022-05-01T05:49:11.240228",
     "status": "completed"
    },
    "tags": []
   },
   "outputs": [],
   "source": [
    "copy_data.select_dtypes(np.number).loc[:, copy_data.isna().sum()>0].columns\n",
    "for column in ['LotFrontage', 'MasVnrArea', 'BsmtFinSF1', 'BsmtFinSF2', 'BsmtUnfSF',\n",
    "       'TotalBsmtSF', 'BsmtFullBath', 'BsmtHalfBath', 'GarageYrBlt',\n",
    "       'GarageCars', 'GarageArea']:\n",
    "    copy_data[column] = copy_data[column].fillna(copy_data[column].mode()[0])"
   ]
  },
  {
   "cell_type": "code",
   "execution_count": 11,
   "id": "a1af9735",
   "metadata": {
    "execution": {
     "iopub.execute_input": "2022-05-01T05:49:11.411762Z",
     "iopub.status.busy": "2022-05-01T05:49:11.411219Z",
     "iopub.status.idle": "2022-05-01T05:49:11.433746Z",
     "shell.execute_reply": "2022-05-01T05:49:11.433092Z"
    },
    "papermill": {
     "duration": 0.069351,
     "end_time": "2022-05-01T05:49:11.435838",
     "exception": false,
     "start_time": "2022-05-01T05:49:11.366487",
     "status": "completed"
    },
    "tags": []
   },
   "outputs": [
    {
     "data": {
      "text/plain": [
       "MSSubClass       0\n",
       "MSZoning         0\n",
       "LotFrontage      0\n",
       "LotArea          0\n",
       "Street           0\n",
       "                ..\n",
       "MiscVal          0\n",
       "MoSold           0\n",
       "YrSold           0\n",
       "SaleType         0\n",
       "SaleCondition    0\n",
       "Length: 79, dtype: int64"
      ]
     },
     "execution_count": 11,
     "metadata": {},
     "output_type": "execute_result"
    }
   ],
   "source": [
    "copy_data.isna().sum()"
   ]
  },
  {
   "cell_type": "code",
   "execution_count": 12,
   "id": "e23b829c",
   "metadata": {
    "execution": {
     "iopub.execute_input": "2022-05-01T05:49:11.530276Z",
     "iopub.status.busy": "2022-05-01T05:49:11.529738Z",
     "iopub.status.idle": "2022-05-01T05:49:11.565052Z",
     "shell.execute_reply": "2022-05-01T05:49:11.563917Z"
    },
    "papermill": {
     "duration": 0.085449,
     "end_time": "2022-05-01T05:49:11.568708",
     "exception": false,
     "start_time": "2022-05-01T05:49:11.483259",
     "status": "completed"
    },
    "tags": []
   },
   "outputs": [
    {
     "name": "stdout",
     "output_type": "stream",
     "text": [
      "<class 'pandas.core.frame.DataFrame'>\n",
      "Int64Index: 2919 entries, 0 to 1458\n",
      "Data columns (total 79 columns):\n",
      " #   Column         Non-Null Count  Dtype  \n",
      "---  ------         --------------  -----  \n",
      " 0   MSSubClass     2919 non-null   int64  \n",
      " 1   MSZoning       2919 non-null   object \n",
      " 2   LotFrontage    2919 non-null   float64\n",
      " 3   LotArea        2919 non-null   int64  \n",
      " 4   Street         2919 non-null   object \n",
      " 5   Alley          2919 non-null   object \n",
      " 6   LotShape       2919 non-null   object \n",
      " 7   LandContour    2919 non-null   object \n",
      " 8   Utilities      2919 non-null   object \n",
      " 9   LotConfig      2919 non-null   object \n",
      " 10  LandSlope      2919 non-null   object \n",
      " 11  Neighborhood   2919 non-null   object \n",
      " 12  Condition1     2919 non-null   object \n",
      " 13  Condition2     2919 non-null   object \n",
      " 14  BldgType       2919 non-null   object \n",
      " 15  HouseStyle     2919 non-null   object \n",
      " 16  OverallQual    2919 non-null   int64  \n",
      " 17  OverallCond    2919 non-null   int64  \n",
      " 18  YearBuilt      2919 non-null   int64  \n",
      " 19  YearRemodAdd   2919 non-null   int64  \n",
      " 20  RoofStyle      2919 non-null   object \n",
      " 21  RoofMatl       2919 non-null   object \n",
      " 22  Exterior1st    2919 non-null   object \n",
      " 23  Exterior2nd    2919 non-null   object \n",
      " 24  MasVnrType     2919 non-null   object \n",
      " 25  MasVnrArea     2919 non-null   float64\n",
      " 26  ExterQual      2919 non-null   object \n",
      " 27  ExterCond      2919 non-null   object \n",
      " 28  Foundation     2919 non-null   object \n",
      " 29  BsmtQual       2919 non-null   object \n",
      " 30  BsmtCond       2919 non-null   object \n",
      " 31  BsmtExposure   2919 non-null   object \n",
      " 32  BsmtFinType1   2919 non-null   object \n",
      " 33  BsmtFinSF1     2919 non-null   float64\n",
      " 34  BsmtFinType2   2919 non-null   object \n",
      " 35  BsmtFinSF2     2919 non-null   float64\n",
      " 36  BsmtUnfSF      2919 non-null   float64\n",
      " 37  TotalBsmtSF    2919 non-null   float64\n",
      " 38  Heating        2919 non-null   object \n",
      " 39  HeatingQC      2919 non-null   object \n",
      " 40  CentralAir     2919 non-null   object \n",
      " 41  Electrical     2919 non-null   object \n",
      " 42  1stFlrSF       2919 non-null   int64  \n",
      " 43  2ndFlrSF       2919 non-null   int64  \n",
      " 44  LowQualFinSF   2919 non-null   int64  \n",
      " 45  GrLivArea      2919 non-null   int64  \n",
      " 46  BsmtFullBath   2919 non-null   float64\n",
      " 47  BsmtHalfBath   2919 non-null   float64\n",
      " 48  FullBath       2919 non-null   int64  \n",
      " 49  HalfBath       2919 non-null   int64  \n",
      " 50  BedroomAbvGr   2919 non-null   int64  \n",
      " 51  KitchenAbvGr   2919 non-null   int64  \n",
      " 52  KitchenQual    2919 non-null   object \n",
      " 53  TotRmsAbvGrd   2919 non-null   int64  \n",
      " 54  Functional     2919 non-null   object \n",
      " 55  Fireplaces     2919 non-null   int64  \n",
      " 56  FireplaceQu    2919 non-null   object \n",
      " 57  GarageType     2919 non-null   object \n",
      " 58  GarageYrBlt    2919 non-null   float64\n",
      " 59  GarageFinish   2919 non-null   object \n",
      " 60  GarageCars     2919 non-null   float64\n",
      " 61  GarageArea     2919 non-null   float64\n",
      " 62  GarageQual     2919 non-null   object \n",
      " 63  GarageCond     2919 non-null   object \n",
      " 64  PavedDrive     2919 non-null   object \n",
      " 65  WoodDeckSF     2919 non-null   int64  \n",
      " 66  OpenPorchSF    2919 non-null   int64  \n",
      " 67  EnclosedPorch  2919 non-null   int64  \n",
      " 68  3SsnPorch      2919 non-null   int64  \n",
      " 69  ScreenPorch    2919 non-null   int64  \n",
      " 70  PoolArea       2919 non-null   int64  \n",
      " 71  PoolQC         2919 non-null   object \n",
      " 72  Fence          2919 non-null   object \n",
      " 73  MiscFeature    2919 non-null   object \n",
      " 74  MiscVal        2919 non-null   int64  \n",
      " 75  MoSold         2919 non-null   int64  \n",
      " 76  YrSold         2919 non-null   int64  \n",
      " 77  SaleType       2919 non-null   object \n",
      " 78  SaleCondition  2919 non-null   object \n",
      "dtypes: float64(11), int64(25), object(43)\n",
      "memory usage: 1.8+ MB\n"
     ]
    }
   ],
   "source": [
    "copy_data.info()"
   ]
  },
  {
   "cell_type": "markdown",
   "id": "648fe6f7",
   "metadata": {
    "papermill": {
     "duration": 0.043955,
     "end_time": "2022-05-01T05:49:11.658619",
     "exception": false,
     "start_time": "2022-05-01T05:49:11.614664",
     "status": "completed"
    },
    "tags": []
   },
   "source": [
    "### We have cleaned our dataset....yayyy!!"
   ]
  },
  {
   "cell_type": "markdown",
   "id": "a1b469ad",
   "metadata": {
    "papermill": {
     "duration": 0.04627,
     "end_time": "2022-05-01T05:49:11.751547",
     "exception": false,
     "start_time": "2022-05-01T05:49:11.705277",
     "status": "completed"
    },
    "tags": []
   },
   "source": [
    "# Feature selection"
   ]
  },
  {
   "cell_type": "code",
   "execution_count": 13,
   "id": "2f0fa069",
   "metadata": {
    "execution": {
     "iopub.execute_input": "2022-05-01T05:49:11.845306Z",
     "iopub.status.busy": "2022-05-01T05:49:11.845016Z",
     "iopub.status.idle": "2022-05-01T05:49:12.370464Z",
     "shell.execute_reply": "2022-05-01T05:49:12.369383Z"
    },
    "papermill": {
     "duration": 0.576827,
     "end_time": "2022-05-01T05:49:12.374220",
     "exception": false,
     "start_time": "2022-05-01T05:49:11.797393",
     "status": "completed"
    },
    "tags": []
   },
   "outputs": [
    {
     "data": {
      "image/png": "[encoded data removed]",
      "text/plain": [
       "<Figure size 432x288 with 2 Axes>"
      ]
     },
     "metadata": {
      "needs_background": "light"
     },
     "output_type": "display_data"
    }
   ],
   "source": [
    "data_corr = copy_data.corr()\n",
    "hm = sn.heatmap(data_corr)"
   ]
  },
  {
   "cell_type": "code",
   "execution_count": 14,
   "id": "79b460ca",
   "metadata": {
    "execution": {
     "iopub.execute_input": "2022-05-01T05:49:12.472916Z",
     "iopub.status.busy": "2022-05-01T05:49:12.472608Z",
     "iopub.status.idle": "2022-05-01T05:49:12.483806Z",
     "shell.execute_reply": "2022-05-01T05:49:12.482693Z"
    },
    "papermill": {
     "duration": 0.061819,
     "end_time": "2022-05-01T05:49:12.486081",
     "exception": false,
     "start_time": "2022-05-01T05:49:12.424262",
     "status": "completed"
    },
    "tags": []
   },
   "outputs": [],
   "source": [
    "copy_data['TotalSQFT'] = copy_data['TotalBsmtSF'] + copy_data['1stFlrSF'] + copy_data['2ndFlrSF']\n",
    "copy_data['Yearbuilt/remodelled'] = copy_data['YearBuilt'] + copy_data['YearRemodAdd']\n",
    "copy_data['BSMT'] = copy_data['1stFlrSF'] + copy_data['2ndFlrSF']\n",
    "copy_data['TotalBathrooms'] = copy_data['FullBath'] + copy_data['HalfBath'] + copy_data['BsmtFullBath'] + copy_data['BsmtHalfBath']"
   ]
  },
  {
   "cell_type": "code",
   "execution_count": 15,
   "id": "f3510377",
   "metadata": {
    "execution": {
     "iopub.execute_input": "2022-05-01T05:49:12.580125Z",
     "iopub.status.busy": "2022-05-01T05:49:12.579839Z",
     "iopub.status.idle": "2022-05-01T05:49:12.603316Z",
     "shell.execute_reply": "2022-05-01T05:49:12.602319Z"
    },
    "papermill": {
     "duration": 0.071811,
     "end_time": "2022-05-01T05:49:12.605640",
     "exception": false,
     "start_time": "2022-05-01T05:49:12.533829",
     "status": "completed"
    },
    "tags": []
   },
   "outputs": [],
   "source": [
    "copy_data['HasPool'] = copy_data['PoolArea'].apply(lambda x : 1 if x>0 else 0)\n",
    "copy_data['Has2ndFloor'] = copy_data['2ndFlrSF'].apply(lambda x : 1 if x>0 else 0)\n",
    "copy_data['HasGarage'] = copy_data['GarageArea'].apply(lambda x : 1 if x>0 else 0)\n",
    "copy_data['HasBsmt'] = copy_data['TotalBsmtSF'].apply(lambda x : 1 if x>0 else 0)\n",
    "copy_data['HasFireplace'] = copy_data['Fireplaces'].apply(lambda x : 1 if x>0 else 0)"
   ]
  },
  {
   "cell_type": "code",
   "execution_count": 16,
   "id": "70a53ebf",
   "metadata": {
    "execution": {
     "iopub.execute_input": "2022-05-01T05:49:12.698380Z",
     "iopub.status.busy": "2022-05-01T05:49:12.697464Z",
     "iopub.status.idle": "2022-05-01T05:49:12.778665Z",
     "shell.execute_reply": "2022-05-01T05:49:12.777650Z"
    },
    "papermill": {
     "duration": 0.130116,
     "end_time": "2022-05-01T05:49:12.781007",
     "exception": false,
     "start_time": "2022-05-01T05:49:12.650891",
     "status": "completed"
    },
    "tags": []
   },
   "outputs": [
    {
     "data": {
      "text/html": [
       "<div>\n",
       "<style scoped>\n",
       "    .dataframe tbody tr th:only-of-type {\n",
       "        vertical-align: middle;\n",
       "    }\n",
       "\n",
       "    .dataframe tbody tr th {\n",
       "        vertical-align: top;\n",
       "    }\n",
       "\n",
       "    .dataframe thead th {\n",
       "        text-align: right;\n",
       "    }\n",
       "</style>\n",
       "<table border=\"1\" class=\"dataframe\">\n",
       "  <thead>\n",
       "    <tr style=\"text-align: right;\">\n",
       "      <th></th>\n",
       "      <th>index</th>\n",
       "      <th>MSSubClass</th>\n",
       "      <th>LotFrontage</th>\n",
       "      <th>LotArea</th>\n",
       "      <th>OverallQual</th>\n",
       "      <th>OverallCond</th>\n",
       "      <th>YearBuilt</th>\n",
       "      <th>YearRemodAdd</th>\n",
       "      <th>MasVnrArea</th>\n",
       "      <th>BsmtFinSF1</th>\n",
       "      <th>...</th>\n",
       "      <th>SaleType_ConLw</th>\n",
       "      <th>SaleType_New</th>\n",
       "      <th>SaleType_Oth</th>\n",
       "      <th>SaleType_WD</th>\n",
       "      <th>SaleCondition_Abnorml</th>\n",
       "      <th>SaleCondition_AdjLand</th>\n",
       "      <th>SaleCondition_Alloca</th>\n",
       "      <th>SaleCondition_Family</th>\n",
       "      <th>SaleCondition_Normal</th>\n",
       "      <th>SaleCondition_Partial</th>\n",
       "    </tr>\n",
       "  </thead>\n",
       "  <tbody>\n",
       "    <tr>\n",
       "      <th>0</th>\n",
       "      <td>0</td>\n",
       "      <td>60</td>\n",
       "      <td>65.0</td>\n",
       "      <td>8450</td>\n",
       "      <td>7</td>\n",
       "      <td>5</td>\n",
       "      <td>2003</td>\n",
       "      <td>2003</td>\n",
       "      <td>196.0</td>\n",
       "      <td>706.0</td>\n",
       "      <td>...</td>\n",
       "      <td>0</td>\n",
       "      <td>0</td>\n",
       "      <td>0</td>\n",
       "      <td>1</td>\n",
       "      <td>0</td>\n",
       "      <td>0</td>\n",
       "      <td>0</td>\n",
       "      <td>0</td>\n",
       "      <td>1</td>\n",
       "      <td>0</td>\n",
       "    </tr>\n",
       "    <tr>\n",
       "      <th>1</th>\n",
       "      <td>1</td>\n",
       "      <td>20</td>\n",
       "      <td>80.0</td>\n",
       "      <td>9600</td>\n",
       "      <td>6</td>\n",
       "      <td>8</td>\n",
       "      <td>1976</td>\n",
       "      <td>1976</td>\n",
       "      <td>0.0</td>\n",
       "      <td>978.0</td>\n",
       "      <td>...</td>\n",
       "      <td>0</td>\n",
       "      <td>0</td>\n",
       "      <td>0</td>\n",
       "      <td>1</td>\n",
       "      <td>0</td>\n",
       "      <td>0</td>\n",
       "      <td>0</td>\n",
       "      <td>0</td>\n",
       "      <td>1</td>\n",
       "      <td>0</td>\n",
       "    </tr>\n",
       "    <tr>\n",
       "      <th>2</th>\n",
       "      <td>2</td>\n",
       "      <td>60</td>\n",
       "      <td>68.0</td>\n",
       "      <td>11250</td>\n",
       "      <td>7</td>\n",
       "      <td>5</td>\n",
       "      <td>2001</td>\n",
       "      <td>2002</td>\n",
       "      <td>162.0</td>\n",
       "      <td>486.0</td>\n",
       "      <td>...</td>\n",
       "      <td>0</td>\n",
       "      <td>0</td>\n",
       "      <td>0</td>\n",
       "      <td>1</td>\n",
       "      <td>0</td>\n",
       "      <td>0</td>\n",
       "      <td>0</td>\n",
       "      <td>0</td>\n",
       "      <td>1</td>\n",
       "      <td>0</td>\n",
       "    </tr>\n",
       "    <tr>\n",
       "      <th>3</th>\n",
       "      <td>3</td>\n",
       "      <td>70</td>\n",
       "      <td>60.0</td>\n",
       "      <td>9550</td>\n",
       "      <td>7</td>\n",
       "      <td>5</td>\n",
       "      <td>1915</td>\n",
       "      <td>1970</td>\n",
       "      <td>0.0</td>\n",
       "      <td>216.0</td>\n",
       "      <td>...</td>\n",
       "      <td>0</td>\n",
       "      <td>0</td>\n",
       "      <td>0</td>\n",
       "      <td>1</td>\n",
       "      <td>1</td>\n",
       "      <td>0</td>\n",
       "      <td>0</td>\n",
       "      <td>0</td>\n",
       "      <td>0</td>\n",
       "      <td>0</td>\n",
       "    </tr>\n",
       "    <tr>\n",
       "      <th>4</th>\n",
       "      <td>4</td>\n",
       "      <td>60</td>\n",
       "      <td>84.0</td>\n",
       "      <td>14260</td>\n",
       "      <td>8</td>\n",
       "      <td>5</td>\n",
       "      <td>2000</td>\n",
       "      <td>2000</td>\n",
       "      <td>350.0</td>\n",
       "      <td>655.0</td>\n",
       "      <td>...</td>\n",
       "      <td>0</td>\n",
       "      <td>0</td>\n",
       "      <td>0</td>\n",
       "      <td>1</td>\n",
       "      <td>0</td>\n",
       "      <td>0</td>\n",
       "      <td>0</td>\n",
       "      <td>0</td>\n",
       "      <td>1</td>\n",
       "      <td>0</td>\n",
       "    </tr>\n",
       "  </tbody>\n",
       "</table>\n",
       "<p>5 rows × 312 columns</p>\n",
       "</div>"
      ],
      "text/plain": [
       "   index  MSSubClass  LotFrontage  LotArea  OverallQual  OverallCond  \\\n",
       "0      0          60         65.0     8450            7            5   \n",
       "1      1          20         80.0     9600            6            8   \n",
       "2      2          60         68.0    11250            7            5   \n",
       "3      3          70         60.0     9550            7            5   \n",
       "4      4          60         84.0    14260            8            5   \n",
       "\n",
       "   YearBuilt  YearRemodAdd  MasVnrArea  BsmtFinSF1  ...  SaleType_ConLw  \\\n",
       "0       2003          2003       196.0       706.0  ...               0   \n",
       "1       1976          1976         0.0       978.0  ...               0   \n",
       "2       2001          2002       162.0       486.0  ...               0   \n",
       "3       1915          1970         0.0       216.0  ...               0   \n",
       "4       2000          2000       350.0       655.0  ...               0   \n",
       "\n",
       "   SaleType_New  SaleType_Oth  SaleType_WD  SaleCondition_Abnorml  \\\n",
       "0             0             0            1                      0   \n",
       "1             0             0            1                      0   \n",
       "2             0             0            1                      0   \n",
       "3             0             0            1                      1   \n",
       "4             0             0            1                      0   \n",
       "\n",
       "   SaleCondition_AdjLand  SaleCondition_Alloca  SaleCondition_Family  \\\n",
       "0                      0                     0                     0   \n",
       "1                      0                     0                     0   \n",
       "2                      0                     0                     0   \n",
       "3                      0                     0                     0   \n",
       "4                      0                     0                     0   \n",
       "\n",
       "   SaleCondition_Normal  SaleCondition_Partial  \n",
       "0                     1                      0  \n",
       "1                     1                      0  \n",
       "2                     1                      0  \n",
       "3                     0                      0  \n",
       "4                     1                      0  \n",
       "\n",
       "[5 rows x 312 columns]"
      ]
     },
     "execution_count": 16,
     "metadata": {},
     "output_type": "execute_result"
    }
   ],
   "source": [
    "copy_data.head()\n",
    "final_features = pd.get_dummies(copy_data).reset_index()\n",
    "final_features.head()"
   ]
  },
  {
   "cell_type": "markdown",
   "id": "acbbaab6",
   "metadata": {
    "papermill": {
     "duration": 0.047609,
     "end_time": "2022-05-01T05:49:12.876862",
     "exception": false,
     "start_time": "2022-05-01T05:49:12.829253",
     "status": "completed"
    },
    "tags": []
   },
   "source": [
    "### Splitting the dataset for training/testing"
   ]
  },
  {
   "cell_type": "code",
   "execution_count": 17,
   "id": "791c7c10",
   "metadata": {
    "execution": {
     "iopub.execute_input": "2022-05-01T05:49:12.979373Z",
     "iopub.status.busy": "2022-05-01T05:49:12.979067Z",
     "iopub.status.idle": "2022-05-01T05:49:12.984641Z",
     "shell.execute_reply": "2022-05-01T05:49:12.983082Z"
    },
    "papermill": {
     "duration": 0.061283,
     "end_time": "2022-05-01T05:49:12.987384",
     "exception": false,
     "start_time": "2022-05-01T05:49:12.926101",
     "status": "completed"
    },
    "tags": []
   },
   "outputs": [],
   "source": [
    "x_train = final_features[:1460]\n",
    "x_test = final_features[1460:]"
   ]
  },
  {
   "cell_type": "markdown",
   "id": "d604475b",
   "metadata": {
    "papermill": {
     "duration": 0.048606,
     "end_time": "2022-05-01T05:49:13.084710",
     "exception": false,
     "start_time": "2022-05-01T05:49:13.036104",
     "status": "completed"
    },
    "tags": []
   },
   "source": [
    "## Principal component analysis (PCA)"
   ]
  },
  {
   "cell_type": "code",
   "execution_count": 18,
   "id": "dc1e3816",
   "metadata": {
    "execution": {
     "iopub.execute_input": "2022-05-01T05:49:13.180850Z",
     "iopub.status.busy": "2022-05-01T05:49:13.180559Z",
     "iopub.status.idle": "2022-05-01T05:49:13.426280Z",
     "shell.execute_reply": "2022-05-01T05:49:13.425362Z"
    },
    "papermill": {
     "duration": 0.296268,
     "end_time": "2022-05-01T05:49:13.428809",
     "exception": false,
     "start_time": "2022-05-01T05:49:13.132541",
     "status": "completed"
    },
    "tags": []
   },
   "outputs": [],
   "source": [
    "from sklearn.model_selection import train_test_split\n",
    "from sklearn.preprocessing import StandardScaler\n",
    "\n",
    "sc = StandardScaler()\n",
    "x_train = sc.fit_transform(x_train)"
   ]
  },
  {
   "cell_type": "code",
   "execution_count": 19,
   "id": "5a2281ee",
   "metadata": {
    "execution": {
     "iopub.execute_input": "2022-05-01T05:49:13.531170Z",
     "iopub.status.busy": "2022-05-01T05:49:13.530847Z",
     "iopub.status.idle": "2022-05-01T05:49:13.751618Z",
     "shell.execute_reply": "2022-05-01T05:49:13.750550Z"
    },
    "papermill": {
     "duration": 0.277315,
     "end_time": "2022-05-01T05:49:13.754974",
     "exception": false,
     "start_time": "2022-05-01T05:49:13.477659",
     "status": "completed"
    },
    "tags": []
   },
   "outputs": [],
   "source": [
    "from sklearn.decomposition import PCA\n",
    "pca_com = 250\n",
    "pca = PCA(n_components=312)\n",
    "x_train = pca.fit_transform(x_train)"
   ]
  },
  {
   "cell_type": "code",
   "execution_count": 20,
   "id": "132ac2b6",
   "metadata": {
    "execution": {
     "iopub.execute_input": "2022-05-01T05:49:13.903283Z",
     "iopub.status.busy": "2022-05-01T05:49:13.902966Z",
     "iopub.status.idle": "2022-05-01T05:49:14.045969Z",
     "shell.execute_reply": "2022-05-01T05:49:14.045045Z"
    },
    "papermill": {
     "duration": 0.203683,
     "end_time": "2022-05-01T05:49:14.048356",
     "exception": false,
     "start_time": "2022-05-01T05:49:13.844673",
     "status": "completed"
    },
    "tags": []
   },
   "outputs": [
    {
     "data": {
      "image/png": "[encoded data removed]",
      "text/plain": [
       "<Figure size 432x288 with 1 Axes>"
      ]
     },
     "metadata": {
      "needs_background": "light"
     },
     "output_type": "display_data"
    }
   ],
   "source": [
    "explained_variance = pca.explained_variance_ratio_\n",
    "plt.figure()\n",
    "plt.plot(np.cumsum(pca.explained_variance_ratio_))\n",
    "plt.xlabel('Number of components')\n",
    "plt.ylabel('Explained variance (%)')\n",
    "plt.show()"
   ]
  },
  {
   "cell_type": "markdown",
   "id": "671765de",
   "metadata": {
    "papermill": {
     "duration": 0.047787,
     "end_time": "2022-05-01T05:49:14.149192",
     "exception": false,
     "start_time": "2022-05-01T05:49:14.101405",
     "status": "completed"
    },
    "tags": []
   },
   "source": [
    "### Dropping the redundant features"
   ]
  },
  {
   "cell_type": "code",
   "execution_count": 21,
   "id": "6c14a919",
   "metadata": {
    "execution": {
     "iopub.execute_input": "2022-05-01T05:49:14.247084Z",
     "iopub.status.busy": "2022-05-01T05:49:14.246276Z",
     "iopub.status.idle": "2022-05-01T05:49:14.274959Z",
     "shell.execute_reply": "2022-05-01T05:49:14.274012Z"
    },
    "papermill": {
     "duration": 0.079751,
     "end_time": "2022-05-01T05:49:14.277064",
     "exception": false,
     "start_time": "2022-05-01T05:49:14.197313",
     "status": "completed"
    },
    "tags": []
   },
   "outputs": [
    {
     "data": {
      "text/html": [
       "<div>\n",
       "<style scoped>\n",
       "    .dataframe tbody tr th:only-of-type {\n",
       "        vertical-align: middle;\n",
       "    }\n",
       "\n",
       "    .dataframe tbody tr th {\n",
       "        vertical-align: top;\n",
       "    }\n",
       "\n",
       "    .dataframe thead th {\n",
       "        text-align: right;\n",
       "    }\n",
       "</style>\n",
       "<table border=\"1\" class=\"dataframe\">\n",
       "  <thead>\n",
       "    <tr style=\"text-align: right;\">\n",
       "      <th></th>\n",
       "      <th>index</th>\n",
       "      <th>MSSubClass</th>\n",
       "      <th>LotFrontage</th>\n",
       "      <th>LotArea</th>\n",
       "      <th>OverallQual</th>\n",
       "      <th>OverallCond</th>\n",
       "      <th>YearBuilt</th>\n",
       "      <th>YearRemodAdd</th>\n",
       "      <th>MasVnrArea</th>\n",
       "      <th>BsmtFinSF1</th>\n",
       "      <th>...</th>\n",
       "      <th>KitchenQual_Ex</th>\n",
       "      <th>KitchenQual_Fa</th>\n",
       "      <th>KitchenQual_Gd</th>\n",
       "      <th>KitchenQual_TA</th>\n",
       "      <th>Functional_Maj1</th>\n",
       "      <th>Functional_Maj2</th>\n",
       "      <th>Functional_Min1</th>\n",
       "      <th>Functional_Min2</th>\n",
       "      <th>Functional_Mod</th>\n",
       "      <th>Functional_Sev</th>\n",
       "    </tr>\n",
       "  </thead>\n",
       "  <tbody>\n",
       "    <tr>\n",
       "      <th>0</th>\n",
       "      <td>0</td>\n",
       "      <td>60</td>\n",
       "      <td>65.0</td>\n",
       "      <td>8450</td>\n",
       "      <td>7</td>\n",
       "      <td>5</td>\n",
       "      <td>2003</td>\n",
       "      <td>2003</td>\n",
       "      <td>196.0</td>\n",
       "      <td>706.0</td>\n",
       "      <td>...</td>\n",
       "      <td>0</td>\n",
       "      <td>0</td>\n",
       "      <td>1</td>\n",
       "      <td>0</td>\n",
       "      <td>0</td>\n",
       "      <td>0</td>\n",
       "      <td>0</td>\n",
       "      <td>0</td>\n",
       "      <td>0</td>\n",
       "      <td>0</td>\n",
       "    </tr>\n",
       "    <tr>\n",
       "      <th>1</th>\n",
       "      <td>1</td>\n",
       "      <td>20</td>\n",
       "      <td>80.0</td>\n",
       "      <td>9600</td>\n",
       "      <td>6</td>\n",
       "      <td>8</td>\n",
       "      <td>1976</td>\n",
       "      <td>1976</td>\n",
       "      <td>0.0</td>\n",
       "      <td>978.0</td>\n",
       "      <td>...</td>\n",
       "      <td>0</td>\n",
       "      <td>0</td>\n",
       "      <td>0</td>\n",
       "      <td>1</td>\n",
       "      <td>0</td>\n",
       "      <td>0</td>\n",
       "      <td>0</td>\n",
       "      <td>0</td>\n",
       "      <td>0</td>\n",
       "      <td>0</td>\n",
       "    </tr>\n",
       "    <tr>\n",
       "      <th>2</th>\n",
       "      <td>2</td>\n",
       "      <td>60</td>\n",
       "      <td>68.0</td>\n",
       "      <td>11250</td>\n",
       "      <td>7</td>\n",
       "      <td>5</td>\n",
       "      <td>2001</td>\n",
       "      <td>2002</td>\n",
       "      <td>162.0</td>\n",
       "      <td>486.0</td>\n",
       "      <td>...</td>\n",
       "      <td>0</td>\n",
       "      <td>0</td>\n",
       "      <td>1</td>\n",
       "      <td>0</td>\n",
       "      <td>0</td>\n",
       "      <td>0</td>\n",
       "      <td>0</td>\n",
       "      <td>0</td>\n",
       "      <td>0</td>\n",
       "      <td>0</td>\n",
       "    </tr>\n",
       "    <tr>\n",
       "      <th>3</th>\n",
       "      <td>3</td>\n",
       "      <td>70</td>\n",
       "      <td>60.0</td>\n",
       "      <td>9550</td>\n",
       "      <td>7</td>\n",
       "      <td>5</td>\n",
       "      <td>1915</td>\n",
       "      <td>1970</td>\n",
       "      <td>0.0</td>\n",
       "      <td>216.0</td>\n",
       "      <td>...</td>\n",
       "      <td>0</td>\n",
       "      <td>0</td>\n",
       "      <td>1</td>\n",
       "      <td>0</td>\n",
       "      <td>0</td>\n",
       "      <td>0</td>\n",
       "      <td>0</td>\n",
       "      <td>0</td>\n",
       "      <td>0</td>\n",
       "      <td>0</td>\n",
       "    </tr>\n",
       "    <tr>\n",
       "      <th>4</th>\n",
       "      <td>4</td>\n",
       "      <td>60</td>\n",
       "      <td>84.0</td>\n",
       "      <td>14260</td>\n",
       "      <td>8</td>\n",
       "      <td>5</td>\n",
       "      <td>2000</td>\n",
       "      <td>2000</td>\n",
       "      <td>350.0</td>\n",
       "      <td>655.0</td>\n",
       "      <td>...</td>\n",
       "      <td>0</td>\n",
       "      <td>0</td>\n",
       "      <td>1</td>\n",
       "      <td>0</td>\n",
       "      <td>0</td>\n",
       "      <td>0</td>\n",
       "      <td>0</td>\n",
       "      <td>0</td>\n",
       "      <td>0</td>\n",
       "      <td>0</td>\n",
       "    </tr>\n",
       "  </tbody>\n",
       "</table>\n",
       "<p>5 rows × 250 columns</p>\n",
       "</div>"
      ],
      "text/plain": [
       "   index  MSSubClass  LotFrontage  LotArea  OverallQual  OverallCond  \\\n",
       "0      0          60         65.0     8450            7            5   \n",
       "1      1          20         80.0     9600            6            8   \n",
       "2      2          60         68.0    11250            7            5   \n",
       "3      3          70         60.0     9550            7            5   \n",
       "4      4          60         84.0    14260            8            5   \n",
       "\n",
       "   YearBuilt  YearRemodAdd  MasVnrArea  BsmtFinSF1  ...  KitchenQual_Ex  \\\n",
       "0       2003          2003       196.0       706.0  ...               0   \n",
       "1       1976          1976         0.0       978.0  ...               0   \n",
       "2       2001          2002       162.0       486.0  ...               0   \n",
       "3       1915          1970         0.0       216.0  ...               0   \n",
       "4       2000          2000       350.0       655.0  ...               0   \n",
       "\n",
       "   KitchenQual_Fa  KitchenQual_Gd  KitchenQual_TA  Functional_Maj1  \\\n",
       "0               0               1               0                0   \n",
       "1               0               0               1                0   \n",
       "2               0               1               0                0   \n",
       "3               0               1               0                0   \n",
       "4               0               1               0                0   \n",
       "\n",
       "   Functional_Maj2  Functional_Min1  Functional_Min2  Functional_Mod  \\\n",
       "0                0                0                0               0   \n",
       "1                0                0                0               0   \n",
       "2                0                0                0               0   \n",
       "3                0                0                0               0   \n",
       "4                0                0                0               0   \n",
       "\n",
       "   Functional_Sev  \n",
       "0               0  \n",
       "1               0  \n",
       "2               0  \n",
       "3               0  \n",
       "4               0  \n",
       "\n",
       "[5 rows x 250 columns]"
      ]
     },
     "execution_count": 21,
     "metadata": {},
     "output_type": "execute_result"
    }
   ],
   "source": [
    "var_matrix = (pd.concat([pd.DataFrame(list(final_features.columns), columns = ['Factors']),\n",
    "                         pd.DataFrame(list(explained_variance**2), columns = ['^2 variance'])], axis=1)).sort_values(by='^2 variance', ascending=False)[0:pca_com]\n",
    "\n",
    "list(var_matrix['Factors'])\n",
    "\n",
    "x_new = final_features[list(var_matrix['Factors'])]\n",
    "x_new.shape\n",
    "x_new.head()"
   ]
  },
  {
   "cell_type": "markdown",
   "id": "167ff7bd",
   "metadata": {
    "papermill": {
     "duration": 0.049131,
     "end_time": "2022-05-01T05:49:14.375513",
     "exception": false,
     "start_time": "2022-05-01T05:49:14.326382",
     "status": "completed"
    },
    "tags": []
   },
   "source": [
    "### Resplitting the dataset into test and train"
   ]
  },
  {
   "cell_type": "code",
   "execution_count": 22,
   "id": "3bb1d78c",
   "metadata": {
    "execution": {
     "iopub.execute_input": "2022-05-01T05:49:14.474297Z",
     "iopub.status.busy": "2022-05-01T05:49:14.473827Z",
     "iopub.status.idle": "2022-05-01T05:49:14.478902Z",
     "shell.execute_reply": "2022-05-01T05:49:14.478247Z"
    },
    "papermill": {
     "duration": 0.056978,
     "end_time": "2022-05-01T05:49:14.481324",
     "exception": false,
     "start_time": "2022-05-01T05:49:14.424346",
     "status": "completed"
    },
    "tags": []
   },
   "outputs": [],
   "source": [
    "x_train = x_new[:1460]\n",
    "x_test = x_new[1460:]"
   ]
  },
  {
   "cell_type": "markdown",
   "id": "5c2c11b6",
   "metadata": {
    "papermill": {
     "duration": 0.050905,
     "end_time": "2022-05-01T05:49:14.582524",
     "exception": false,
     "start_time": "2022-05-01T05:49:14.531619",
     "status": "completed"
    },
    "tags": []
   },
   "source": [
    "# Building a linear regression model"
   ]
  },
  {
   "cell_type": "code",
   "execution_count": 23,
   "id": "bbad89eb",
   "metadata": {
    "execution": {
     "iopub.execute_input": "2022-05-01T05:49:14.688089Z",
     "iopub.status.busy": "2022-05-01T05:49:14.687522Z",
     "iopub.status.idle": "2022-05-01T05:49:14.698572Z",
     "shell.execute_reply": "2022-05-01T05:49:14.697362Z"
    },
    "papermill": {
     "duration": 0.067817,
     "end_time": "2022-05-01T05:49:14.701663",
     "exception": false,
     "start_time": "2022-05-01T05:49:14.633846",
     "status": "completed"
    },
    "tags": []
   },
   "outputs": [
    {
     "name": "stdout",
     "output_type": "stream",
     "text": [
      "[(876, 250), (584, 250)]\n",
      "[(876,), (584,)]\n"
     ]
    }
   ],
   "source": [
    "x_train_t, x_test_t, y_train_t, y_test_t = train_test_split(x_train, target_price, test_size=0.4)\n",
    "x_shape = [x_train_t.shape, x_test_t.shape]\n",
    "y_shape = [y_train_t.shape, y_test_t.shape]\n",
    "print(x_shape)\n",
    "print(y_shape)"
   ]
  },
  {
   "cell_type": "markdown",
   "id": "88871e43",
   "metadata": {
    "papermill": {
     "duration": 0.048061,
     "end_time": "2022-05-01T05:49:14.800482",
     "exception": false,
     "start_time": "2022-05-01T05:49:14.752421",
     "status": "completed"
    },
    "tags": []
   },
   "source": [
    "### Training the model"
   ]
  },
  {
   "cell_type": "code",
   "execution_count": 24,
   "id": "c88f86b9",
   "metadata": {
    "execution": {
     "iopub.execute_input": "2022-05-01T05:49:14.908834Z",
     "iopub.status.busy": "2022-05-01T05:49:14.908238Z",
     "iopub.status.idle": "2022-05-01T05:49:14.952239Z",
     "shell.execute_reply": "2022-05-01T05:49:14.951066Z"
    },
    "papermill": {
     "duration": 0.103689,
     "end_time": "2022-05-01T05:49:14.956767",
     "exception": false,
     "start_time": "2022-05-01T05:49:14.853078",
     "status": "completed"
    },
    "tags": []
   },
   "outputs": [],
   "source": [
    "from sklearn.linear_model import LinearRegression\n",
    "LR = LinearRegression()\n",
    "\n",
    "model = LR.fit(x_train_t, y_train_t)"
   ]
  },
  {
   "cell_type": "markdown",
   "id": "004961b4",
   "metadata": {
    "papermill": {
     "duration": 0.058311,
     "end_time": "2022-05-01T05:49:15.110802",
     "exception": false,
     "start_time": "2022-05-01T05:49:15.052491",
     "status": "completed"
    },
    "tags": []
   },
   "source": [
    "### Running test cases"
   ]
  },
  {
   "cell_type": "code",
   "execution_count": 25,
   "id": "9d1e27b8",
   "metadata": {
    "execution": {
     "iopub.execute_input": "2022-05-01T05:49:15.218420Z",
     "iopub.status.busy": "2022-05-01T05:49:15.218070Z",
     "iopub.status.idle": "2022-05-01T05:49:15.235330Z",
     "shell.execute_reply": "2022-05-01T05:49:15.233889Z"
    },
    "papermill": {
     "duration": 0.074768,
     "end_time": "2022-05-01T05:49:15.238257",
     "exception": false,
     "start_time": "2022-05-01T05:49:15.163489",
     "status": "completed"
    },
    "tags": []
   },
   "outputs": [],
   "source": [
    "predicted_price = LR.predict(x_test_t)"
   ]
  },
  {
   "cell_type": "markdown",
   "id": "eb78dd6f",
   "metadata": {
    "papermill": {
     "duration": 0.059779,
     "end_time": "2022-05-01T05:49:15.392415",
     "exception": false,
     "start_time": "2022-05-01T05:49:15.332636",
     "status": "completed"
    },
    "tags": []
   },
   "source": [
    "### Comparison between test values and predicted values"
   ]
  },
  {
   "cell_type": "code",
   "execution_count": 26,
   "id": "d7fec2b9",
   "metadata": {
    "execution": {
     "iopub.execute_input": "2022-05-01T05:49:15.496472Z",
     "iopub.status.busy": "2022-05-01T05:49:15.496192Z",
     "iopub.status.idle": "2022-05-01T05:49:15.681250Z",
     "shell.execute_reply": "2022-05-01T05:49:15.680215Z"
    },
    "papermill": {
     "duration": 0.242011,
     "end_time": "2022-05-01T05:49:15.683492",
     "exception": false,
     "start_time": "2022-05-01T05:49:15.441481",
     "status": "completed"
    },
    "tags": []
   },
   "outputs": [
    {
     "data": {
      "image/png": "[encoded data removed]",
      "text/plain": [
       "<Figure size 432x288 with 1 Axes>"
      ]
     },
     "metadata": {
      "needs_background": "light"
     },
     "output_type": "display_data"
    }
   ],
   "source": [
    "plt.scatter(y_test_t, predicted_price, color='r')\n",
    "plt.xlabel('Test values')\n",
    "plt.ylabel('Predicted values')\n",
    "plt.title('Test vs Prediction')\n",
    "plt.show()"
   ]
  },
  {
   "cell_type": "markdown",
   "id": "9e5d4e27",
   "metadata": {
    "papermill": {
     "duration": 0.048907,
     "end_time": "2022-05-01T05:49:15.781526",
     "exception": false,
     "start_time": "2022-05-01T05:49:15.732619",
     "status": "completed"
    },
    "tags": []
   },
   "source": [
    "# Final submission"
   ]
  },
  {
   "cell_type": "code",
   "execution_count": 27,
   "id": "3570ad11",
   "metadata": {
    "execution": {
     "iopub.execute_input": "2022-05-01T05:49:15.883594Z",
     "iopub.status.busy": "2022-05-01T05:49:15.882799Z",
     "iopub.status.idle": "2022-05-01T05:49:15.900280Z",
     "shell.execute_reply": "2022-05-01T05:49:15.899148Z"
    },
    "papermill": {
     "duration": 0.07127,
     "end_time": "2022-05-01T05:49:15.904011",
     "exception": false,
     "start_time": "2022-05-01T05:49:15.832741",
     "status": "completed"
    },
    "tags": []
   },
   "outputs": [],
   "source": [
    "y_pred = model.predict(x_test_t)\n",
    "prediction = pd.DataFrame(y_pred)\n",
    "\n",
    "prediction.columns = ['SalePrice']\n",
    "id_data = pd.DataFrame(test['Id'])\n",
    "prediction = pd.concat([id_data, prediction], axis=1)\n",
    "\n",
    "prediction['SalePrice'] = prediction['SalePrice'].fillna(prediction['SalePrice'].mode()[1])\n",
    "\n",
    "prediction['SalePrice'] = prediction['SalePrice'].astype(float)\n"
   ]
  },
  {
   "cell_type": "code",
   "execution_count": 28,
   "id": "a01f80f9",
   "metadata": {
    "execution": {
     "iopub.execute_input": "2022-05-01T05:49:16.060299Z",
     "iopub.status.busy": "2022-05-01T05:49:16.060006Z",
     "iopub.status.idle": "2022-05-01T05:49:16.072110Z",
     "shell.execute_reply": "2022-05-01T05:49:16.070980Z"
    },
    "papermill": {
     "duration": 0.073801,
     "end_time": "2022-05-01T05:49:16.074553",
     "exception": false,
     "start_time": "2022-05-01T05:49:16.000752",
     "status": "completed"
    },
    "tags": []
   },
   "outputs": [],
   "source": [
    "prediction.to_csv('KaggleSubVideo.csv', index=False)"
   ]
  },
  {
   "cell_type": "code",
   "execution_count": 29,
   "id": "683aefd2",
   "metadata": {
    "execution": {
     "iopub.execute_input": "2022-05-01T05:49:16.177338Z",
     "iopub.status.busy": "2022-05-01T05:49:16.176844Z",
     "iopub.status.idle": "2022-05-01T05:49:16.187322Z",
     "shell.execute_reply": "2022-05-01T05:49:16.186624Z"
    },
    "papermill": {
     "duration": 0.063416,
     "end_time": "2022-05-01T05:49:16.189454",
     "exception": false,
     "start_time": "2022-05-01T05:49:16.126038",
     "status": "completed"
    },
    "tags": []
   },
   "outputs": [
    {
     "data": {
      "text/html": [
       "<div>\n",
       "<style scoped>\n",
       "    .dataframe tbody tr th:only-of-type {\n",
       "        vertical-align: middle;\n",
       "    }\n",
       "\n",
       "    .dataframe tbody tr th {\n",
       "        vertical-align: top;\n",
       "    }\n",
       "\n",
       "    .dataframe thead th {\n",
       "        text-align: right;\n",
       "    }\n",
       "</style>\n",
       "<table border=\"1\" class=\"dataframe\">\n",
       "  <thead>\n",
       "    <tr style=\"text-align: right;\">\n",
       "      <th></th>\n",
       "      <th>Id</th>\n",
       "      <th>SalePrice</th>\n",
       "    </tr>\n",
       "  </thead>\n",
       "  <tbody>\n",
       "    <tr>\n",
       "      <th>0</th>\n",
       "      <td>1461</td>\n",
       "      <td>206622.007946</td>\n",
       "    </tr>\n",
       "    <tr>\n",
       "      <th>1</th>\n",
       "      <td>1462</td>\n",
       "      <td>155685.106710</td>\n",
       "    </tr>\n",
       "    <tr>\n",
       "      <th>2</th>\n",
       "      <td>1463</td>\n",
       "      <td>89909.576467</td>\n",
       "    </tr>\n",
       "    <tr>\n",
       "      <th>3</th>\n",
       "      <td>1464</td>\n",
       "      <td>208744.159065</td>\n",
       "    </tr>\n",
       "    <tr>\n",
       "      <th>4</th>\n",
       "      <td>1465</td>\n",
       "      <td>265919.416527</td>\n",
       "    </tr>\n",
       "    <tr>\n",
       "      <th>...</th>\n",
       "      <td>...</td>\n",
       "      <td>...</td>\n",
       "    </tr>\n",
       "    <tr>\n",
       "      <th>1454</th>\n",
       "      <td>2915</td>\n",
       "      <td>27600.516979</td>\n",
       "    </tr>\n",
       "    <tr>\n",
       "      <th>1455</th>\n",
       "      <td>2916</td>\n",
       "      <td>27600.516979</td>\n",
       "    </tr>\n",
       "    <tr>\n",
       "      <th>1456</th>\n",
       "      <td>2917</td>\n",
       "      <td>27600.516979</td>\n",
       "    </tr>\n",
       "    <tr>\n",
       "      <th>1457</th>\n",
       "      <td>2918</td>\n",
       "      <td>27600.516979</td>\n",
       "    </tr>\n",
       "    <tr>\n",
       "      <th>1458</th>\n",
       "      <td>2919</td>\n",
       "      <td>27600.516979</td>\n",
       "    </tr>\n",
       "  </tbody>\n",
       "</table>\n",
       "<p>1459 rows × 2 columns</p>\n",
       "</div>"
      ],
      "text/plain": [
       "        Id      SalePrice\n",
       "0     1461  206622.007946\n",
       "1     1462  155685.106710\n",
       "2     1463   89909.576467\n",
       "3     1464  208744.159065\n",
       "4     1465  265919.416527\n",
       "...    ...            ...\n",
       "1454  2915   27600.516979\n",
       "1455  2916   27600.516979\n",
       "1456  2917   27600.516979\n",
       "1457  2918   27600.516979\n",
       "1458  2919   27600.516979\n",
       "\n",
       "[1459 rows x 2 columns]"
      ]
     },
     "execution_count": 29,
     "metadata": {},
     "output_type": "execute_result"
    }
   ],
   "source": [
    "prediction"
   ]
  }
 ],
 "metadata": {
  "kernelspec": {
   "display_name": "Python 3",
   "language": "python",
   "name": "python3"
  },
  "language_info": {
   "codemirror_mode": {
    "name": "ipython",
    "version": 3
   },
   "file_extension": ".py",
   "mimetype": "text/x-python",
   "name": "python",
   "nbconvert_exporter": "python",
   "pygments_lexer": "ipython3",
   "version": "3.7.12"
  },
  "papermill": {
   "default_parameters": {},
   "duration": 20.957186,
   "end_time": "2022-05-01T05:49:17.061755",
   "environment_variables": {},
   "exception": null,
   "input_path": "__notebook__.ipynb",
   "output_path": "__notebook__.ipynb",
   "parameters": {},
   "start_time": "2022-05-01T05:48:56.104569",
   "version": "2.3.4"
  }
 },
 "nbformat": 4,
 "nbformat_minor": 5
}
