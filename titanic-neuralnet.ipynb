{
 "cells": [
  {
   "cell_type": "code",
   "execution_count": 1,
   "id": "5beb2bcc",
   "metadata": {
    "_cell_guid": "b1076dfc-b9ad-4769-8c92-a6c4dae69d19",
    "_uuid": "8f2839f25d086af736a60e9eeb907d3b93b6e0e5",
    "execution": {
     "iopub.execute_input": "2022-07-24T13:00:22.567825Z",
     "iopub.status.busy": "2022-07-24T13:00:22.567066Z",
     "iopub.status.idle": "2022-07-24T13:00:22.582277Z",
     "shell.execute_reply": "2022-07-24T13:00:22.581143Z"
    },
    "papermill": {
     "duration": 0.035749,
     "end_time": "2022-07-24T13:00:22.584875",
     "exception": false,
     "start_time": "2022-07-24T13:00:22.549126",
     "status": "completed"
    },
    "tags": []
   },
   "outputs": [
    {
     "name": "stdout",
     "output_type": "stream",
     "text": [
      "/kaggle/input/titanic/train.csv\n",
      "/kaggle/input/titanic/test.csv\n",
      "/kaggle/input/titanic/gender_submission.csv\n"
     ]
    }
   ],
   "source": [
    "# This Python 3 environment comes with many helpful analytics libraries installed\n",
    "# It is defined by the kaggle/python Docker image: https://github.com/kaggle/docker-python\n",
    "# For example, here's several helpful packages to load\n",
    "\n",
    "import numpy as np # linear algebra\n",
    "import pandas as pd # data processing, CSV file I/O (e.g. pd.read_csv)\n",
    "\n",
    "# Input data files are available in the read-only \"../input/\" directory\n",
    "# For example, running this (by clicking run or pressing Shift+Enter) will list all files under the input directory\n",
    "\n",
    "import os\n",
    "for dirname, _, filenames in os.walk('/kaggle/input'):\n",
    "    for filename in filenames:\n",
    "        print(os.path.join(dirname, filename))\n",
    "\n",
    "# You can write up to 20GB to the current directory (/kaggle/working/) that gets preserved as output when you create a version using \"Save & Run All\" \n",
    "# You can also write temporary files to /kaggle/temp/, but they won't be saved outside of the current session"
   ]
  },
  {
   "cell_type": "code",
   "execution_count": 2,
   "id": "abe53a76",
   "metadata": {
    "execution": {
     "iopub.execute_input": "2022-07-24T13:00:22.616929Z",
     "iopub.status.busy": "2022-07-24T13:00:22.616537Z",
     "iopub.status.idle": "2022-07-24T13:00:22.642693Z",
     "shell.execute_reply": "2022-07-24T13:00:22.641674Z"
    },
    "papermill": {
     "duration": 0.044992,
     "end_time": "2022-07-24T13:00:22.645170",
     "exception": false,
     "start_time": "2022-07-24T13:00:22.600178",
     "status": "completed"
    },
    "tags": []
   },
   "outputs": [],
   "source": [
    "train = pd.read_csv('../input/titanic/train.csv')\n",
    "test = pd.read_csv('../input/titanic/test.csv')"
   ]
  },
  {
   "cell_type": "code",
   "execution_count": 3,
   "id": "7e5b161d",
   "metadata": {
    "execution": {
     "iopub.execute_input": "2022-07-24T13:00:22.678658Z",
     "iopub.status.busy": "2022-07-24T13:00:22.677944Z",
     "iopub.status.idle": "2022-07-24T13:00:22.701525Z",
     "shell.execute_reply": "2022-07-24T13:00:22.700644Z"
    },
    "papermill": {
     "duration": 0.043336,
     "end_time": "2022-07-24T13:00:22.703649",
     "exception": false,
     "start_time": "2022-07-24T13:00:22.660313",
     "status": "completed"
    },
    "tags": []
   },
   "outputs": [
    {
     "data": {
      "text/html": [
       "<div>\n",
       "<style scoped>\n",
       "    .dataframe tbody tr th:only-of-type {\n",
       "        vertical-align: middle;\n",
       "    }\n",
       "\n",
       "    .dataframe tbody tr th {\n",
       "        vertical-align: top;\n",
       "    }\n",
       "\n",
       "    .dataframe thead th {\n",
       "        text-align: right;\n",
       "    }\n",
       "</style>\n",
       "<table border=\"1\" class=\"dataframe\">\n",
       "  <thead>\n",
       "    <tr style=\"text-align: right;\">\n",
       "      <th></th>\n",
       "      <th>PassengerId</th>\n",
       "      <th>Survived</th>\n",
       "      <th>Pclass</th>\n",
       "      <th>Name</th>\n",
       "      <th>Sex</th>\n",
       "      <th>Age</th>\n",
       "      <th>SibSp</th>\n",
       "      <th>Parch</th>\n",
       "      <th>Ticket</th>\n",
       "      <th>Fare</th>\n",
       "      <th>Cabin</th>\n",
       "      <th>Embarked</th>\n",
       "    </tr>\n",
       "  </thead>\n",
       "  <tbody>\n",
       "    <tr>\n",
       "      <th>0</th>\n",
       "      <td>1</td>\n",
       "      <td>0</td>\n",
       "      <td>3</td>\n",
       "      <td>Braund, Mr. Owen Harris</td>\n",
       "      <td>male</td>\n",
       "      <td>22.0</td>\n",
       "      <td>1</td>\n",
       "      <td>0</td>\n",
       "      <td>A/5 21171</td>\n",
       "      <td>7.2500</td>\n",
       "      <td>NaN</td>\n",
       "      <td>S</td>\n",
       "    </tr>\n",
       "    <tr>\n",
       "      <th>1</th>\n",
       "      <td>2</td>\n",
       "      <td>1</td>\n",
       "      <td>1</td>\n",
       "      <td>Cumings, Mrs. John Bradley (Florence Briggs Th...</td>\n",
       "      <td>female</td>\n",
       "      <td>38.0</td>\n",
       "      <td>1</td>\n",
       "      <td>0</td>\n",
       "      <td>PC 17599</td>\n",
       "      <td>71.2833</td>\n",
       "      <td>C85</td>\n",
       "      <td>C</td>\n",
       "    </tr>\n",
       "    <tr>\n",
       "      <th>2</th>\n",
       "      <td>3</td>\n",
       "      <td>1</td>\n",
       "      <td>3</td>\n",
       "      <td>Heikkinen, Miss. Laina</td>\n",
       "      <td>female</td>\n",
       "      <td>26.0</td>\n",
       "      <td>0</td>\n",
       "      <td>0</td>\n",
       "      <td>STON/O2. 3101282</td>\n",
       "      <td>7.9250</td>\n",
       "      <td>NaN</td>\n",
       "      <td>S</td>\n",
       "    </tr>\n",
       "    <tr>\n",
       "      <th>3</th>\n",
       "      <td>4</td>\n",
       "      <td>1</td>\n",
       "      <td>1</td>\n",
       "      <td>Futrelle, Mrs. Jacques Heath (Lily May Peel)</td>\n",
       "      <td>female</td>\n",
       "      <td>35.0</td>\n",
       "      <td>1</td>\n",
       "      <td>0</td>\n",
       "      <td>113803</td>\n",
       "      <td>53.1000</td>\n",
       "      <td>C123</td>\n",
       "      <td>S</td>\n",
       "    </tr>\n",
       "    <tr>\n",
       "      <th>4</th>\n",
       "      <td>5</td>\n",
       "      <td>0</td>\n",
       "      <td>3</td>\n",
       "      <td>Allen, Mr. William Henry</td>\n",
       "      <td>male</td>\n",
       "      <td>35.0</td>\n",
       "      <td>0</td>\n",
       "      <td>0</td>\n",
       "      <td>373450</td>\n",
       "      <td>8.0500</td>\n",
       "      <td>NaN</td>\n",
       "      <td>S</td>\n",
       "    </tr>\n",
       "  </tbody>\n",
       "</table>\n",
       "</div>"
      ],
      "text/plain": [
       "   PassengerId  Survived  Pclass  \\\n",
       "0            1         0       3   \n",
       "1            2         1       1   \n",
       "2            3         1       3   \n",
       "3            4         1       1   \n",
       "4            5         0       3   \n",
       "\n",
       "                                                Name     Sex   Age  SibSp  \\\n",
       "0                            Braund, Mr. Owen Harris    male  22.0      1   \n",
       "1  Cumings, Mrs. John Bradley (Florence Briggs Th...  female  38.0      1   \n",
       "2                             Heikkinen, Miss. Laina  female  26.0      0   \n",
       "3       Futrelle, Mrs. Jacques Heath (Lily May Peel)  female  35.0      1   \n",
       "4                           Allen, Mr. William Henry    male  35.0      0   \n",
       "\n",
       "   Parch            Ticket     Fare Cabin Embarked  \n",
       "0      0         A/5 21171   7.2500   NaN        S  \n",
       "1      0          PC 17599  71.2833   C85        C  \n",
       "2      0  STON/O2. 3101282   7.9250   NaN        S  \n",
       "3      0            113803  53.1000  C123        S  \n",
       "4      0            373450   8.0500   NaN        S  "
      ]
     },
     "execution_count": 3,
     "metadata": {},
     "output_type": "execute_result"
    }
   ],
   "source": [
    "train.head()"
   ]
  },
  {
   "cell_type": "code",
   "execution_count": 4,
   "id": "52eec74e",
   "metadata": {
    "execution": {
     "iopub.execute_input": "2022-07-24T13:00:22.736221Z",
     "iopub.status.busy": "2022-07-24T13:00:22.735524Z",
     "iopub.status.idle": "2022-07-24T13:00:22.750363Z",
     "shell.execute_reply": "2022-07-24T13:00:22.749615Z"
    },
    "papermill": {
     "duration": 0.033558,
     "end_time": "2022-07-24T13:00:22.752451",
     "exception": false,
     "start_time": "2022-07-24T13:00:22.718893",
     "status": "completed"
    },
    "tags": []
   },
   "outputs": [
    {
     "data": {
      "text/html": [
       "<div>\n",
       "<style scoped>\n",
       "    .dataframe tbody tr th:only-of-type {\n",
       "        vertical-align: middle;\n",
       "    }\n",
       "\n",
       "    .dataframe tbody tr th {\n",
       "        vertical-align: top;\n",
       "    }\n",
       "\n",
       "    .dataframe thead th {\n",
       "        text-align: right;\n",
       "    }\n",
       "</style>\n",
       "<table border=\"1\" class=\"dataframe\">\n",
       "  <thead>\n",
       "    <tr style=\"text-align: right;\">\n",
       "      <th></th>\n",
       "      <th>PassengerId</th>\n",
       "      <th>Pclass</th>\n",
       "      <th>Name</th>\n",
       "      <th>Sex</th>\n",
       "      <th>Age</th>\n",
       "      <th>SibSp</th>\n",
       "      <th>Parch</th>\n",
       "      <th>Ticket</th>\n",
       "      <th>Fare</th>\n",
       "      <th>Cabin</th>\n",
       "      <th>Embarked</th>\n",
       "    </tr>\n",
       "  </thead>\n",
       "  <tbody>\n",
       "    <tr>\n",
       "      <th>0</th>\n",
       "      <td>892</td>\n",
       "      <td>3</td>\n",
       "      <td>Kelly, Mr. James</td>\n",
       "      <td>male</td>\n",
       "      <td>34.5</td>\n",
       "      <td>0</td>\n",
       "      <td>0</td>\n",
       "      <td>330911</td>\n",
       "      <td>7.8292</td>\n",
       "      <td>NaN</td>\n",
       "      <td>Q</td>\n",
       "    </tr>\n",
       "    <tr>\n",
       "      <th>1</th>\n",
       "      <td>893</td>\n",
       "      <td>3</td>\n",
       "      <td>Wilkes, Mrs. James (Ellen Needs)</td>\n",
       "      <td>female</td>\n",
       "      <td>47.0</td>\n",
       "      <td>1</td>\n",
       "      <td>0</td>\n",
       "      <td>363272</td>\n",
       "      <td>7.0000</td>\n",
       "      <td>NaN</td>\n",
       "      <td>S</td>\n",
       "    </tr>\n",
       "    <tr>\n",
       "      <th>2</th>\n",
       "      <td>894</td>\n",
       "      <td>2</td>\n",
       "      <td>Myles, Mr. Thomas Francis</td>\n",
       "      <td>male</td>\n",
       "      <td>62.0</td>\n",
       "      <td>0</td>\n",
       "      <td>0</td>\n",
       "      <td>240276</td>\n",
       "      <td>9.6875</td>\n",
       "      <td>NaN</td>\n",
       "      <td>Q</td>\n",
       "    </tr>\n",
       "    <tr>\n",
       "      <th>3</th>\n",
       "      <td>895</td>\n",
       "      <td>3</td>\n",
       "      <td>Wirz, Mr. Albert</td>\n",
       "      <td>male</td>\n",
       "      <td>27.0</td>\n",
       "      <td>0</td>\n",
       "      <td>0</td>\n",
       "      <td>315154</td>\n",
       "      <td>8.6625</td>\n",
       "      <td>NaN</td>\n",
       "      <td>S</td>\n",
       "    </tr>\n",
       "    <tr>\n",
       "      <th>4</th>\n",
       "      <td>896</td>\n",
       "      <td>3</td>\n",
       "      <td>Hirvonen, Mrs. Alexander (Helga E Lindqvist)</td>\n",
       "      <td>female</td>\n",
       "      <td>22.0</td>\n",
       "      <td>1</td>\n",
       "      <td>1</td>\n",
       "      <td>3101298</td>\n",
       "      <td>12.2875</td>\n",
       "      <td>NaN</td>\n",
       "      <td>S</td>\n",
       "    </tr>\n",
       "  </tbody>\n",
       "</table>\n",
       "</div>"
      ],
      "text/plain": [
       "   PassengerId  Pclass                                          Name     Sex  \\\n",
       "0          892       3                              Kelly, Mr. James    male   \n",
       "1          893       3              Wilkes, Mrs. James (Ellen Needs)  female   \n",
       "2          894       2                     Myles, Mr. Thomas Francis    male   \n",
       "3          895       3                              Wirz, Mr. Albert    male   \n",
       "4          896       3  Hirvonen, Mrs. Alexander (Helga E Lindqvist)  female   \n",
       "\n",
       "    Age  SibSp  Parch   Ticket     Fare Cabin Embarked  \n",
       "0  34.5      0      0   330911   7.8292   NaN        Q  \n",
       "1  47.0      1      0   363272   7.0000   NaN        S  \n",
       "2  62.0      0      0   240276   9.6875   NaN        Q  \n",
       "3  27.0      0      0   315154   8.6625   NaN        S  \n",
       "4  22.0      1      1  3101298  12.2875   NaN        S  "
      ]
     },
     "execution_count": 4,
     "metadata": {},
     "output_type": "execute_result"
    }
   ],
   "source": [
    "test.head()"
   ]
  },
  {
   "cell_type": "code",
   "execution_count": 5,
   "id": "494073ed",
   "metadata": {
    "execution": {
     "iopub.execute_input": "2022-07-24T13:00:22.786059Z",
     "iopub.status.busy": "2022-07-24T13:00:22.785386Z",
     "iopub.status.idle": "2022-07-24T13:00:22.794003Z",
     "shell.execute_reply": "2022-07-24T13:00:22.792989Z"
    },
    "papermill": {
     "duration": 0.028223,
     "end_time": "2022-07-24T13:00:22.796181",
     "exception": false,
     "start_time": "2022-07-24T13:00:22.767958",
     "status": "completed"
    },
    "tags": []
   },
   "outputs": [
    {
     "data": {
      "text/plain": [
       "PassengerId      0\n",
       "Survived         0\n",
       "Pclass           0\n",
       "Name             0\n",
       "Sex              0\n",
       "Age            177\n",
       "SibSp            0\n",
       "Parch            0\n",
       "Ticket           0\n",
       "Fare             0\n",
       "Cabin          687\n",
       "Embarked         2\n",
       "dtype: int64"
      ]
     },
     "execution_count": 5,
     "metadata": {},
     "output_type": "execute_result"
    }
   ],
   "source": [
    "train.isna().sum()"
   ]
  },
  {
   "cell_type": "code",
   "execution_count": 6,
   "id": "128055d6",
   "metadata": {
    "execution": {
     "iopub.execute_input": "2022-07-24T13:00:22.830311Z",
     "iopub.status.busy": "2022-07-24T13:00:22.829636Z",
     "iopub.status.idle": "2022-07-24T13:00:22.838363Z",
     "shell.execute_reply": "2022-07-24T13:00:22.837239Z"
    },
    "papermill": {
     "duration": 0.028646,
     "end_time": "2022-07-24T13:00:22.840459",
     "exception": false,
     "start_time": "2022-07-24T13:00:22.811813",
     "status": "completed"
    },
    "tags": []
   },
   "outputs": [
    {
     "data": {
      "text/plain": [
       "PassengerId      0\n",
       "Pclass           0\n",
       "Name             0\n",
       "Sex              0\n",
       "Age             86\n",
       "SibSp            0\n",
       "Parch            0\n",
       "Ticket           0\n",
       "Fare             1\n",
       "Cabin          327\n",
       "Embarked         0\n",
       "dtype: int64"
      ]
     },
     "execution_count": 6,
     "metadata": {},
     "output_type": "execute_result"
    }
   ],
   "source": [
    "test.isna().sum()"
   ]
  },
  {
   "cell_type": "code",
   "execution_count": 7,
   "id": "5ff5be3d",
   "metadata": {
    "execution": {
     "iopub.execute_input": "2022-07-24T13:00:22.874077Z",
     "iopub.status.busy": "2022-07-24T13:00:22.873382Z",
     "iopub.status.idle": "2022-07-24T13:00:22.882357Z",
     "shell.execute_reply": "2022-07-24T13:00:22.881485Z"
    },
    "papermill": {
     "duration": 0.028407,
     "end_time": "2022-07-24T13:00:22.884546",
     "exception": false,
     "start_time": "2022-07-24T13:00:22.856139",
     "status": "completed"
    },
    "tags": []
   },
   "outputs": [],
   "source": [
    "y = train.pop('Survived')"
   ]
  },
  {
   "cell_type": "code",
   "execution_count": 8,
   "id": "c3e6fe23",
   "metadata": {
    "execution": {
     "iopub.execute_input": "2022-07-24T13:00:22.918719Z",
     "iopub.status.busy": "2022-07-24T13:00:22.918084Z",
     "iopub.status.idle": "2022-07-24T13:00:22.923325Z",
     "shell.execute_reply": "2022-07-24T13:00:22.922571Z"
    },
    "papermill": {
     "duration": 0.025059,
     "end_time": "2022-07-24T13:00:22.925283",
     "exception": false,
     "start_time": "2022-07-24T13:00:22.900224",
     "status": "completed"
    },
    "tags": []
   },
   "outputs": [
    {
     "data": {
      "text/plain": [
       "(891,)"
      ]
     },
     "execution_count": 8,
     "metadata": {},
     "output_type": "execute_result"
    }
   ],
   "source": [
    "y.shape"
   ]
  },
  {
   "cell_type": "code",
   "execution_count": 9,
   "id": "78a7c7a9",
   "metadata": {
    "execution": {
     "iopub.execute_input": "2022-07-24T13:00:22.958652Z",
     "iopub.status.busy": "2022-07-24T13:00:22.958271Z",
     "iopub.status.idle": "2022-07-24T13:00:22.966900Z",
     "shell.execute_reply": "2022-07-24T13:00:22.965898Z"
    },
    "papermill": {
     "duration": 0.028137,
     "end_time": "2022-07-24T13:00:22.968967",
     "exception": false,
     "start_time": "2022-07-24T13:00:22.940830",
     "status": "completed"
    },
    "tags": []
   },
   "outputs": [
    {
     "data": {
      "text/plain": [
       "0      22.0\n",
       "1      38.0\n",
       "2      26.0\n",
       "3      35.0\n",
       "4      35.0\n",
       "       ... \n",
       "886    27.0\n",
       "887    19.0\n",
       "888     NaN\n",
       "889    26.0\n",
       "890    32.0\n",
       "Name: Age, Length: 891, dtype: float64"
      ]
     },
     "execution_count": 9,
     "metadata": {},
     "output_type": "execute_result"
    }
   ],
   "source": [
    "train['Age']"
   ]
  },
  {
   "cell_type": "code",
   "execution_count": 10,
   "id": "08fb86b2",
   "metadata": {
    "execution": {
     "iopub.execute_input": "2022-07-24T13:00:23.003538Z",
     "iopub.status.busy": "2022-07-24T13:00:23.002810Z",
     "iopub.status.idle": "2022-07-24T13:00:23.013892Z",
     "shell.execute_reply": "2022-07-24T13:00:23.012614Z"
    },
    "papermill": {
     "duration": 0.031458,
     "end_time": "2022-07-24T13:00:23.016389",
     "exception": false,
     "start_time": "2022-07-24T13:00:22.984931",
     "status": "completed"
    },
    "tags": []
   },
   "outputs": [],
   "source": [
    "train['Age'] = train['Age'].fillna(train['Age'].mode()[0])"
   ]
  },
  {
   "cell_type": "code",
   "execution_count": 11,
   "id": "0fc1adc9",
   "metadata": {
    "execution": {
     "iopub.execute_input": "2022-07-24T13:00:23.051766Z",
     "iopub.status.busy": "2022-07-24T13:00:23.050947Z",
     "iopub.status.idle": "2022-07-24T13:00:23.057865Z",
     "shell.execute_reply": "2022-07-24T13:00:23.056822Z"
    },
    "papermill": {
     "duration": 0.027486,
     "end_time": "2022-07-24T13:00:23.059927",
     "exception": false,
     "start_time": "2022-07-24T13:00:23.032441",
     "status": "completed"
    },
    "tags": []
   },
   "outputs": [
    {
     "data": {
      "text/plain": [
       "0"
      ]
     },
     "execution_count": 11,
     "metadata": {},
     "output_type": "execute_result"
    }
   ],
   "source": [
    "train['Age'].isna().sum()"
   ]
  },
  {
   "cell_type": "code",
   "execution_count": 12,
   "id": "640fcf88",
   "metadata": {
    "execution": {
     "iopub.execute_input": "2022-07-24T13:00:23.095114Z",
     "iopub.status.busy": "2022-07-24T13:00:23.094339Z",
     "iopub.status.idle": "2022-07-24T13:00:23.102306Z",
     "shell.execute_reply": "2022-07-24T13:00:23.101480Z"
    },
    "papermill": {
     "duration": 0.027958,
     "end_time": "2022-07-24T13:00:23.104565",
     "exception": false,
     "start_time": "2022-07-24T13:00:23.076607",
     "status": "completed"
    },
    "tags": []
   },
   "outputs": [
    {
     "data": {
      "text/plain": [
       "0       NaN\n",
       "1       C85\n",
       "2       NaN\n",
       "3      C123\n",
       "4       NaN\n",
       "       ... \n",
       "886     NaN\n",
       "887     B42\n",
       "888     NaN\n",
       "889    C148\n",
       "890     NaN\n",
       "Name: Cabin, Length: 891, dtype: object"
      ]
     },
     "execution_count": 12,
     "metadata": {},
     "output_type": "execute_result"
    }
   ],
   "source": [
    "train['Cabin']"
   ]
  },
  {
   "cell_type": "code",
   "execution_count": null,
   "id": "83f93af1",
   "metadata": {
    "papermill": {
     "duration": 0.015966,
     "end_time": "2022-07-24T13:00:23.136910",
     "exception": false,
     "start_time": "2022-07-24T13:00:23.120944",
     "status": "completed"
    },
    "tags": []
   },
   "outputs": [],
   "source": []
  },
  {
   "cell_type": "code",
   "execution_count": 13,
   "id": "ac179b75",
   "metadata": {
    "execution": {
     "iopub.execute_input": "2022-07-24T13:00:23.171649Z",
     "iopub.status.busy": "2022-07-24T13:00:23.170933Z",
     "iopub.status.idle": "2022-07-24T13:00:23.425172Z",
     "shell.execute_reply": "2022-07-24T13:00:23.424324Z"
    },
    "papermill": {
     "duration": 0.274431,
     "end_time": "2022-07-24T13:00:23.427666",
     "exception": false,
     "start_time": "2022-07-24T13:00:23.153235",
     "status": "completed"
    },
    "tags": []
   },
   "outputs": [],
   "source": [
    "#train['Cabin'] = train['Cabin'].fillna(train['Cabin'].mode()[0][0:3])\n",
    "Cabin_NA_index = train[train['Cabin'].isna()].index\n",
    "Cabin_NA_index = list(Cabin_NA_index)\n",
    "cabin_table = pd.DataFrame(train['Cabin'])\n",
    "for null_index in Cabin_NA_index:\n",
    "           cabin_table.iloc[null_index] = train['Cabin'].mode()[np.random.randint(0, 3)][0:3] \n",
    "    "
   ]
  },
  {
   "cell_type": "code",
   "execution_count": 14,
   "id": "d75ea7a0",
   "metadata": {
    "execution": {
     "iopub.execute_input": "2022-07-24T13:00:23.462257Z",
     "iopub.status.busy": "2022-07-24T13:00:23.461600Z",
     "iopub.status.idle": "2022-07-24T13:00:23.470614Z",
     "shell.execute_reply": "2022-07-24T13:00:23.469652Z"
    },
    "papermill": {
     "duration": 0.028696,
     "end_time": "2022-07-24T13:00:23.472735",
     "exception": false,
     "start_time": "2022-07-24T13:00:23.444039",
     "status": "completed"
    },
    "tags": []
   },
   "outputs": [
    {
     "data": {
      "text/plain": [
       "0     C23\n",
       "1     C85\n",
       "2     B96\n",
       "3    C123\n",
       "4     C23\n",
       "Name: Cabin, dtype: object"
      ]
     },
     "execution_count": 14,
     "metadata": {},
     "output_type": "execute_result"
    }
   ],
   "source": [
    "train['Cabin'] = cabin_table\n",
    "train['Cabin'].head()"
   ]
  },
  {
   "cell_type": "code",
   "execution_count": 15,
   "id": "585321ef",
   "metadata": {
    "execution": {
     "iopub.execute_input": "2022-07-24T13:00:23.507773Z",
     "iopub.status.busy": "2022-07-24T13:00:23.506644Z",
     "iopub.status.idle": "2022-07-24T13:00:23.514776Z",
     "shell.execute_reply": "2022-07-24T13:00:23.513594Z"
    },
    "papermill": {
     "duration": 0.028261,
     "end_time": "2022-07-24T13:00:23.517260",
     "exception": false,
     "start_time": "2022-07-24T13:00:23.488999",
     "status": "completed"
    },
    "tags": []
   },
   "outputs": [
    {
     "data": {
      "text/plain": [
       "0"
      ]
     },
     "execution_count": 15,
     "metadata": {},
     "output_type": "execute_result"
    }
   ],
   "source": [
    "train['Cabin'].isna().sum()"
   ]
  },
  {
   "cell_type": "code",
   "execution_count": 16,
   "id": "60b662fe",
   "metadata": {
    "execution": {
     "iopub.execute_input": "2022-07-24T13:00:23.553356Z",
     "iopub.status.busy": "2022-07-24T13:00:23.552213Z",
     "iopub.status.idle": "2022-07-24T13:00:23.560268Z",
     "shell.execute_reply": "2022-07-24T13:00:23.559456Z"
    },
    "papermill": {
     "duration": 0.028062,
     "end_time": "2022-07-24T13:00:23.562275",
     "exception": false,
     "start_time": "2022-07-24T13:00:23.534213",
     "status": "completed"
    },
    "tags": []
   },
   "outputs": [
    {
     "data": {
      "text/plain": [
       "0    S\n",
       "1    C\n",
       "2    S\n",
       "3    S\n",
       "4    S\n",
       "Name: Embarked, dtype: object"
      ]
     },
     "execution_count": 16,
     "metadata": {},
     "output_type": "execute_result"
    }
   ],
   "source": [
    "train['Embarked'].head()"
   ]
  },
  {
   "cell_type": "code",
   "execution_count": 17,
   "id": "90df4150",
   "metadata": {
    "execution": {
     "iopub.execute_input": "2022-07-24T13:00:23.597368Z",
     "iopub.status.busy": "2022-07-24T13:00:23.596605Z",
     "iopub.status.idle": "2022-07-24T13:00:23.603051Z",
     "shell.execute_reply": "2022-07-24T13:00:23.602291Z"
    },
    "papermill": {
     "duration": 0.026494,
     "end_time": "2022-07-24T13:00:23.605301",
     "exception": false,
     "start_time": "2022-07-24T13:00:23.578807",
     "status": "completed"
    },
    "tags": []
   },
   "outputs": [],
   "source": [
    "train['Embarked'] = train['Embarked'].fillna(train['Embarked'].mode()[0])"
   ]
  },
  {
   "cell_type": "code",
   "execution_count": 18,
   "id": "b79c41ad",
   "metadata": {
    "execution": {
     "iopub.execute_input": "2022-07-24T13:00:23.640180Z",
     "iopub.status.busy": "2022-07-24T13:00:23.639412Z",
     "iopub.status.idle": "2022-07-24T13:00:23.647434Z",
     "shell.execute_reply": "2022-07-24T13:00:23.646478Z"
    },
    "papermill": {
     "duration": 0.028084,
     "end_time": "2022-07-24T13:00:23.649680",
     "exception": false,
     "start_time": "2022-07-24T13:00:23.621596",
     "status": "completed"
    },
    "tags": []
   },
   "outputs": [
    {
     "data": {
      "text/plain": [
       "0"
      ]
     },
     "execution_count": 18,
     "metadata": {},
     "output_type": "execute_result"
    }
   ],
   "source": [
    "train['Embarked'].isna().sum()"
   ]
  },
  {
   "cell_type": "code",
   "execution_count": 19,
   "id": "333cbb79",
   "metadata": {
    "execution": {
     "iopub.execute_input": "2022-07-24T13:00:23.685182Z",
     "iopub.status.busy": "2022-07-24T13:00:23.684465Z",
     "iopub.status.idle": "2022-07-24T13:00:23.694924Z",
     "shell.execute_reply": "2022-07-24T13:00:23.693788Z"
    },
    "papermill": {
     "duration": 0.030832,
     "end_time": "2022-07-24T13:00:23.697142",
     "exception": false,
     "start_time": "2022-07-24T13:00:23.666310",
     "status": "completed"
    },
    "tags": []
   },
   "outputs": [
    {
     "data": {
      "text/plain": [
       "PassengerId    0\n",
       "Pclass         0\n",
       "Name           0\n",
       "Sex            0\n",
       "Age            0\n",
       "SibSp          0\n",
       "Parch          0\n",
       "Ticket         0\n",
       "Fare           0\n",
       "Cabin          0\n",
       "Embarked       0\n",
       "dtype: int64"
      ]
     },
     "execution_count": 19,
     "metadata": {},
     "output_type": "execute_result"
    }
   ],
   "source": [
    "train.isna().sum()"
   ]
  },
  {
   "cell_type": "code",
   "execution_count": 20,
   "id": "92d621dd",
   "metadata": {
    "execution": {
     "iopub.execute_input": "2022-07-24T13:00:23.732818Z",
     "iopub.status.busy": "2022-07-24T13:00:23.732056Z",
     "iopub.status.idle": "2022-07-24T13:00:23.749307Z",
     "shell.execute_reply": "2022-07-24T13:00:23.748016Z"
    },
    "papermill": {
     "duration": 0.03805,
     "end_time": "2022-07-24T13:00:23.751919",
     "exception": false,
     "start_time": "2022-07-24T13:00:23.713869",
     "status": "completed"
    },
    "tags": []
   },
   "outputs": [
    {
     "data": {
      "text/html": [
       "<div>\n",
       "<style scoped>\n",
       "    .dataframe tbody tr th:only-of-type {\n",
       "        vertical-align: middle;\n",
       "    }\n",
       "\n",
       "    .dataframe tbody tr th {\n",
       "        vertical-align: top;\n",
       "    }\n",
       "\n",
       "    .dataframe thead th {\n",
       "        text-align: right;\n",
       "    }\n",
       "</style>\n",
       "<table border=\"1\" class=\"dataframe\">\n",
       "  <thead>\n",
       "    <tr style=\"text-align: right;\">\n",
       "      <th></th>\n",
       "      <th>PassengerId</th>\n",
       "      <th>Pclass</th>\n",
       "      <th>Name</th>\n",
       "      <th>Sex</th>\n",
       "      <th>Age</th>\n",
       "      <th>SibSp</th>\n",
       "      <th>Parch</th>\n",
       "      <th>Ticket</th>\n",
       "      <th>Fare</th>\n",
       "      <th>Cabin</th>\n",
       "      <th>Embarked</th>\n",
       "    </tr>\n",
       "  </thead>\n",
       "  <tbody>\n",
       "    <tr>\n",
       "      <th>0</th>\n",
       "      <td>1</td>\n",
       "      <td>3</td>\n",
       "      <td>Braund, Mr. Owen Harris</td>\n",
       "      <td>male</td>\n",
       "      <td>22.0</td>\n",
       "      <td>1</td>\n",
       "      <td>0</td>\n",
       "      <td>A/5 21171</td>\n",
       "      <td>7.2500</td>\n",
       "      <td>C23</td>\n",
       "      <td>S</td>\n",
       "    </tr>\n",
       "    <tr>\n",
       "      <th>1</th>\n",
       "      <td>2</td>\n",
       "      <td>1</td>\n",
       "      <td>Cumings, Mrs. John Bradley (Florence Briggs Th...</td>\n",
       "      <td>female</td>\n",
       "      <td>38.0</td>\n",
       "      <td>1</td>\n",
       "      <td>0</td>\n",
       "      <td>PC 17599</td>\n",
       "      <td>71.2833</td>\n",
       "      <td>C85</td>\n",
       "      <td>C</td>\n",
       "    </tr>\n",
       "    <tr>\n",
       "      <th>2</th>\n",
       "      <td>3</td>\n",
       "      <td>3</td>\n",
       "      <td>Heikkinen, Miss. Laina</td>\n",
       "      <td>female</td>\n",
       "      <td>26.0</td>\n",
       "      <td>0</td>\n",
       "      <td>0</td>\n",
       "      <td>STON/O2. 3101282</td>\n",
       "      <td>7.9250</td>\n",
       "      <td>B96</td>\n",
       "      <td>S</td>\n",
       "    </tr>\n",
       "    <tr>\n",
       "      <th>3</th>\n",
       "      <td>4</td>\n",
       "      <td>1</td>\n",
       "      <td>Futrelle, Mrs. Jacques Heath (Lily May Peel)</td>\n",
       "      <td>female</td>\n",
       "      <td>35.0</td>\n",
       "      <td>1</td>\n",
       "      <td>0</td>\n",
       "      <td>113803</td>\n",
       "      <td>53.1000</td>\n",
       "      <td>C123</td>\n",
       "      <td>S</td>\n",
       "    </tr>\n",
       "    <tr>\n",
       "      <th>4</th>\n",
       "      <td>5</td>\n",
       "      <td>3</td>\n",
       "      <td>Allen, Mr. William Henry</td>\n",
       "      <td>male</td>\n",
       "      <td>35.0</td>\n",
       "      <td>0</td>\n",
       "      <td>0</td>\n",
       "      <td>373450</td>\n",
       "      <td>8.0500</td>\n",
       "      <td>C23</td>\n",
       "      <td>S</td>\n",
       "    </tr>\n",
       "  </tbody>\n",
       "</table>\n",
       "</div>"
      ],
      "text/plain": [
       "   PassengerId  Pclass                                               Name  \\\n",
       "0            1       3                            Braund, Mr. Owen Harris   \n",
       "1            2       1  Cumings, Mrs. John Bradley (Florence Briggs Th...   \n",
       "2            3       3                             Heikkinen, Miss. Laina   \n",
       "3            4       1       Futrelle, Mrs. Jacques Heath (Lily May Peel)   \n",
       "4            5       3                           Allen, Mr. William Henry   \n",
       "\n",
       "      Sex   Age  SibSp  Parch            Ticket     Fare Cabin Embarked  \n",
       "0    male  22.0      1      0         A/5 21171   7.2500   C23        S  \n",
       "1  female  38.0      1      0          PC 17599  71.2833   C85        C  \n",
       "2  female  26.0      0      0  STON/O2. 3101282   7.9250   B96        S  \n",
       "3  female  35.0      1      0            113803  53.1000  C123        S  \n",
       "4    male  35.0      0      0            373450   8.0500   C23        S  "
      ]
     },
     "execution_count": 20,
     "metadata": {},
     "output_type": "execute_result"
    }
   ],
   "source": [
    "train.head()"
   ]
  },
  {
   "cell_type": "code",
   "execution_count": 21,
   "id": "95ddec74",
   "metadata": {
    "execution": {
     "iopub.execute_input": "2022-07-24T13:00:23.789327Z",
     "iopub.status.busy": "2022-07-24T13:00:23.788554Z",
     "iopub.status.idle": "2022-07-24T13:00:23.808977Z",
     "shell.execute_reply": "2022-07-24T13:00:23.807433Z"
    },
    "papermill": {
     "duration": 0.04171,
     "end_time": "2022-07-24T13:00:23.811626",
     "exception": false,
     "start_time": "2022-07-24T13:00:23.769916",
     "status": "completed"
    },
    "tags": []
   },
   "outputs": [
    {
     "name": "stdout",
     "output_type": "stream",
     "text": [
      "<class 'pandas.core.frame.DataFrame'>\n",
      "RangeIndex: 891 entries, 0 to 890\n",
      "Data columns (total 11 columns):\n",
      " #   Column       Non-Null Count  Dtype  \n",
      "---  ------       --------------  -----  \n",
      " 0   PassengerId  891 non-null    int64  \n",
      " 1   Pclass       891 non-null    int64  \n",
      " 2   Name         891 non-null    object \n",
      " 3   Sex          891 non-null    object \n",
      " 4   Age          891 non-null    float64\n",
      " 5   SibSp        891 non-null    int64  \n",
      " 6   Parch        891 non-null    int64  \n",
      " 7   Ticket       891 non-null    object \n",
      " 8   Fare         891 non-null    float64\n",
      " 9   Cabin        891 non-null    object \n",
      " 10  Embarked     891 non-null    object \n",
      "dtypes: float64(2), int64(4), object(5)\n",
      "memory usage: 76.7+ KB\n"
     ]
    }
   ],
   "source": [
    "train.info()"
   ]
  },
  {
   "cell_type": "code",
   "execution_count": 22,
   "id": "3665b6ba",
   "metadata": {
    "execution": {
     "iopub.execute_input": "2022-07-24T13:00:23.849443Z",
     "iopub.status.busy": "2022-07-24T13:00:23.849014Z",
     "iopub.status.idle": "2022-07-24T13:00:23.854983Z",
     "shell.execute_reply": "2022-07-24T13:00:23.853909Z"
    },
    "papermill": {
     "duration": 0.027904,
     "end_time": "2022-07-24T13:00:23.857748",
     "exception": false,
     "start_time": "2022-07-24T13:00:23.829844",
     "status": "completed"
    },
    "tags": []
   },
   "outputs": [],
   "source": [
    "train['Sex'] = train['Sex'].astype(str)"
   ]
  },
  {
   "cell_type": "code",
   "execution_count": 23,
   "id": "ccd97643",
   "metadata": {
    "execution": {
     "iopub.execute_input": "2022-07-24T13:00:23.895549Z",
     "iopub.status.busy": "2022-07-24T13:00:23.894774Z",
     "iopub.status.idle": "2022-07-24T13:00:23.913472Z",
     "shell.execute_reply": "2022-07-24T13:00:23.912456Z"
    },
    "papermill": {
     "duration": 0.039955,
     "end_time": "2022-07-24T13:00:23.915754",
     "exception": false,
     "start_time": "2022-07-24T13:00:23.875799",
     "status": "completed"
    },
    "tags": []
   },
   "outputs": [
    {
     "data": {
      "text/html": [
       "<div>\n",
       "<style scoped>\n",
       "    .dataframe tbody tr th:only-of-type {\n",
       "        vertical-align: middle;\n",
       "    }\n",
       "\n",
       "    .dataframe tbody tr th {\n",
       "        vertical-align: top;\n",
       "    }\n",
       "\n",
       "    .dataframe thead th {\n",
       "        text-align: right;\n",
       "    }\n",
       "</style>\n",
       "<table border=\"1\" class=\"dataframe\">\n",
       "  <thead>\n",
       "    <tr style=\"text-align: right;\">\n",
       "      <th></th>\n",
       "      <th>PassengerId</th>\n",
       "      <th>Pclass</th>\n",
       "      <th>Name</th>\n",
       "      <th>Sex</th>\n",
       "      <th>Age</th>\n",
       "      <th>SibSp</th>\n",
       "      <th>Parch</th>\n",
       "      <th>Ticket</th>\n",
       "      <th>Fare</th>\n",
       "      <th>Cabin</th>\n",
       "      <th>Embarked</th>\n",
       "    </tr>\n",
       "  </thead>\n",
       "  <tbody>\n",
       "    <tr>\n",
       "      <th>0</th>\n",
       "      <td>1</td>\n",
       "      <td>3</td>\n",
       "      <td>Braund, Mr. Owen Harris</td>\n",
       "      <td>1</td>\n",
       "      <td>22.0</td>\n",
       "      <td>1</td>\n",
       "      <td>0</td>\n",
       "      <td>A/5 21171</td>\n",
       "      <td>7.2500</td>\n",
       "      <td>C23</td>\n",
       "      <td>S</td>\n",
       "    </tr>\n",
       "    <tr>\n",
       "      <th>1</th>\n",
       "      <td>2</td>\n",
       "      <td>1</td>\n",
       "      <td>Cumings, Mrs. John Bradley (Florence Briggs Th...</td>\n",
       "      <td>0</td>\n",
       "      <td>38.0</td>\n",
       "      <td>1</td>\n",
       "      <td>0</td>\n",
       "      <td>PC 17599</td>\n",
       "      <td>71.2833</td>\n",
       "      <td>C85</td>\n",
       "      <td>C</td>\n",
       "    </tr>\n",
       "    <tr>\n",
       "      <th>2</th>\n",
       "      <td>3</td>\n",
       "      <td>3</td>\n",
       "      <td>Heikkinen, Miss. Laina</td>\n",
       "      <td>0</td>\n",
       "      <td>26.0</td>\n",
       "      <td>0</td>\n",
       "      <td>0</td>\n",
       "      <td>STON/O2. 3101282</td>\n",
       "      <td>7.9250</td>\n",
       "      <td>B96</td>\n",
       "      <td>S</td>\n",
       "    </tr>\n",
       "    <tr>\n",
       "      <th>3</th>\n",
       "      <td>4</td>\n",
       "      <td>1</td>\n",
       "      <td>Futrelle, Mrs. Jacques Heath (Lily May Peel)</td>\n",
       "      <td>0</td>\n",
       "      <td>35.0</td>\n",
       "      <td>1</td>\n",
       "      <td>0</td>\n",
       "      <td>113803</td>\n",
       "      <td>53.1000</td>\n",
       "      <td>C123</td>\n",
       "      <td>S</td>\n",
       "    </tr>\n",
       "    <tr>\n",
       "      <th>4</th>\n",
       "      <td>5</td>\n",
       "      <td>3</td>\n",
       "      <td>Allen, Mr. William Henry</td>\n",
       "      <td>1</td>\n",
       "      <td>35.0</td>\n",
       "      <td>0</td>\n",
       "      <td>0</td>\n",
       "      <td>373450</td>\n",
       "      <td>8.0500</td>\n",
       "      <td>C23</td>\n",
       "      <td>S</td>\n",
       "    </tr>\n",
       "  </tbody>\n",
       "</table>\n",
       "</div>"
      ],
      "text/plain": [
       "   PassengerId  Pclass                                               Name  \\\n",
       "0            1       3                            Braund, Mr. Owen Harris   \n",
       "1            2       1  Cumings, Mrs. John Bradley (Florence Briggs Th...   \n",
       "2            3       3                             Heikkinen, Miss. Laina   \n",
       "3            4       1       Futrelle, Mrs. Jacques Heath (Lily May Peel)   \n",
       "4            5       3                           Allen, Mr. William Henry   \n",
       "\n",
       "   Sex   Age  SibSp  Parch            Ticket     Fare Cabin Embarked  \n",
       "0    1  22.0      1      0         A/5 21171   7.2500   C23        S  \n",
       "1    0  38.0      1      0          PC 17599  71.2833   C85        C  \n",
       "2    0  26.0      0      0  STON/O2. 3101282   7.9250   B96        S  \n",
       "3    0  35.0      1      0            113803  53.1000  C123        S  \n",
       "4    1  35.0      0      0            373450   8.0500   C23        S  "
      ]
     },
     "execution_count": 23,
     "metadata": {},
     "output_type": "execute_result"
    }
   ],
   "source": [
    "gender_dict = {'male':1, 'female':0}\n",
    "train['Sex'] = train['Sex'].map(gender_dict)\n",
    "train.head()"
   ]
  },
  {
   "cell_type": "code",
   "execution_count": 24,
   "id": "888adb81",
   "metadata": {
    "execution": {
     "iopub.execute_input": "2022-07-24T13:00:23.954563Z",
     "iopub.status.busy": "2022-07-24T13:00:23.953893Z",
     "iopub.status.idle": "2022-07-24T13:00:23.960205Z",
     "shell.execute_reply": "2022-07-24T13:00:23.959244Z"
    },
    "papermill": {
     "duration": 0.028442,
     "end_time": "2022-07-24T13:00:23.962629",
     "exception": false,
     "start_time": "2022-07-24T13:00:23.934187",
     "status": "completed"
    },
    "tags": []
   },
   "outputs": [],
   "source": [
    "test['Sex'] = test['Sex'].astype(str)\n",
    "test['Sex'] = test['Sex'].map(gender_dict)"
   ]
  },
  {
   "cell_type": "code",
   "execution_count": 25,
   "id": "1f53f8a2",
   "metadata": {
    "execution": {
     "iopub.execute_input": "2022-07-24T13:00:24.000062Z",
     "iopub.status.busy": "2022-07-24T13:00:23.999657Z",
     "iopub.status.idle": "2022-07-24T13:00:24.020000Z",
     "shell.execute_reply": "2022-07-24T13:00:24.018883Z"
    },
    "papermill": {
     "duration": 0.042284,
     "end_time": "2022-07-24T13:00:24.022627",
     "exception": false,
     "start_time": "2022-07-24T13:00:23.980343",
     "status": "completed"
    },
    "tags": []
   },
   "outputs": [
    {
     "data": {
      "text/html": [
       "<div>\n",
       "<style scoped>\n",
       "    .dataframe tbody tr th:only-of-type {\n",
       "        vertical-align: middle;\n",
       "    }\n",
       "\n",
       "    .dataframe tbody tr th {\n",
       "        vertical-align: top;\n",
       "    }\n",
       "\n",
       "    .dataframe thead th {\n",
       "        text-align: right;\n",
       "    }\n",
       "</style>\n",
       "<table border=\"1\" class=\"dataframe\">\n",
       "  <thead>\n",
       "    <tr style=\"text-align: right;\">\n",
       "      <th></th>\n",
       "      <th>PassengerId</th>\n",
       "      <th>Pclass</th>\n",
       "      <th>Name</th>\n",
       "      <th>Sex</th>\n",
       "      <th>Age</th>\n",
       "      <th>SibSp</th>\n",
       "      <th>Parch</th>\n",
       "      <th>Ticket</th>\n",
       "      <th>Fare</th>\n",
       "      <th>Cabin</th>\n",
       "      <th>Embarked</th>\n",
       "    </tr>\n",
       "  </thead>\n",
       "  <tbody>\n",
       "    <tr>\n",
       "      <th>0</th>\n",
       "      <td>1</td>\n",
       "      <td>3</td>\n",
       "      <td>Braund, Mr. Owen Harris</td>\n",
       "      <td>1</td>\n",
       "      <td>22.0</td>\n",
       "      <td>1</td>\n",
       "      <td>0</td>\n",
       "      <td>A/5 21171</td>\n",
       "      <td>7.2500</td>\n",
       "      <td>C23</td>\n",
       "      <td>1</td>\n",
       "    </tr>\n",
       "    <tr>\n",
       "      <th>1</th>\n",
       "      <td>2</td>\n",
       "      <td>1</td>\n",
       "      <td>Cumings, Mrs. John Bradley (Florence Briggs Th...</td>\n",
       "      <td>0</td>\n",
       "      <td>38.0</td>\n",
       "      <td>1</td>\n",
       "      <td>0</td>\n",
       "      <td>PC 17599</td>\n",
       "      <td>71.2833</td>\n",
       "      <td>C85</td>\n",
       "      <td>3</td>\n",
       "    </tr>\n",
       "    <tr>\n",
       "      <th>2</th>\n",
       "      <td>3</td>\n",
       "      <td>3</td>\n",
       "      <td>Heikkinen, Miss. Laina</td>\n",
       "      <td>0</td>\n",
       "      <td>26.0</td>\n",
       "      <td>0</td>\n",
       "      <td>0</td>\n",
       "      <td>STON/O2. 3101282</td>\n",
       "      <td>7.9250</td>\n",
       "      <td>B96</td>\n",
       "      <td>1</td>\n",
       "    </tr>\n",
       "    <tr>\n",
       "      <th>3</th>\n",
       "      <td>4</td>\n",
       "      <td>1</td>\n",
       "      <td>Futrelle, Mrs. Jacques Heath (Lily May Peel)</td>\n",
       "      <td>0</td>\n",
       "      <td>35.0</td>\n",
       "      <td>1</td>\n",
       "      <td>0</td>\n",
       "      <td>113803</td>\n",
       "      <td>53.1000</td>\n",
       "      <td>C123</td>\n",
       "      <td>1</td>\n",
       "    </tr>\n",
       "    <tr>\n",
       "      <th>4</th>\n",
       "      <td>5</td>\n",
       "      <td>3</td>\n",
       "      <td>Allen, Mr. William Henry</td>\n",
       "      <td>1</td>\n",
       "      <td>35.0</td>\n",
       "      <td>0</td>\n",
       "      <td>0</td>\n",
       "      <td>373450</td>\n",
       "      <td>8.0500</td>\n",
       "      <td>C23</td>\n",
       "      <td>1</td>\n",
       "    </tr>\n",
       "  </tbody>\n",
       "</table>\n",
       "</div>"
      ],
      "text/plain": [
       "   PassengerId  Pclass                                               Name  \\\n",
       "0            1       3                            Braund, Mr. Owen Harris   \n",
       "1            2       1  Cumings, Mrs. John Bradley (Florence Briggs Th...   \n",
       "2            3       3                             Heikkinen, Miss. Laina   \n",
       "3            4       1       Futrelle, Mrs. Jacques Heath (Lily May Peel)   \n",
       "4            5       3                           Allen, Mr. William Henry   \n",
       "\n",
       "   Sex   Age  SibSp  Parch            Ticket     Fare Cabin  Embarked  \n",
       "0    1  22.0      1      0         A/5 21171   7.2500   C23         1  \n",
       "1    0  38.0      1      0          PC 17599  71.2833   C85         3  \n",
       "2    0  26.0      0      0  STON/O2. 3101282   7.9250   B96         1  \n",
       "3    0  35.0      1      0            113803  53.1000  C123         1  \n",
       "4    1  35.0      0      0            373450   8.0500   C23         1  "
      ]
     },
     "execution_count": 25,
     "metadata": {},
     "output_type": "execute_result"
    }
   ],
   "source": [
    "E_dict = {'S':1, 'Q':2, 'C':3}\n",
    "train['Embarked'] = train['Embarked'].astype(str)\n",
    "train['Embarked'] = train['Embarked'].map(E_dict)\n",
    "train.head()"
   ]
  },
  {
   "cell_type": "code",
   "execution_count": 26,
   "id": "23340d2e",
   "metadata": {
    "execution": {
     "iopub.execute_input": "2022-07-24T13:00:24.060341Z",
     "iopub.status.busy": "2022-07-24T13:00:24.059579Z",
     "iopub.status.idle": "2022-07-24T13:00:24.066868Z",
     "shell.execute_reply": "2022-07-24T13:00:24.065946Z"
    },
    "papermill": {
     "duration": 0.028864,
     "end_time": "2022-07-24T13:00:24.069435",
     "exception": false,
     "start_time": "2022-07-24T13:00:24.040571",
     "status": "completed"
    },
    "tags": []
   },
   "outputs": [],
   "source": [
    "test['Embarked'] = test['Embarked'].astype(str)\n",
    "test['Embarked'] = test['Embarked'].map(E_dict)"
   ]
  },
  {
   "cell_type": "code",
   "execution_count": 27,
   "id": "15820eed",
   "metadata": {
    "execution": {
     "iopub.execute_input": "2022-07-24T13:00:24.107240Z",
     "iopub.status.busy": "2022-07-24T13:00:24.106421Z",
     "iopub.status.idle": "2022-07-24T13:00:24.112178Z",
     "shell.execute_reply": "2022-07-24T13:00:24.111287Z"
    },
    "papermill": {
     "duration": 0.027428,
     "end_time": "2022-07-24T13:00:24.114565",
     "exception": false,
     "start_time": "2022-07-24T13:00:24.087137",
     "status": "completed"
    },
    "tags": []
   },
   "outputs": [],
   "source": [
    "PassengerId = test['PassengerId']"
   ]
  },
  {
   "cell_type": "code",
   "execution_count": 28,
   "id": "34e0a9b0",
   "metadata": {
    "execution": {
     "iopub.execute_input": "2022-07-24T13:00:24.151664Z",
     "iopub.status.busy": "2022-07-24T13:00:24.151241Z",
     "iopub.status.idle": "2022-07-24T13:00:24.156753Z",
     "shell.execute_reply": "2022-07-24T13:00:24.155825Z"
    },
    "papermill": {
     "duration": 0.026725,
     "end_time": "2022-07-24T13:00:24.158801",
     "exception": false,
     "start_time": "2022-07-24T13:00:24.132076",
     "status": "completed"
    },
    "tags": []
   },
   "outputs": [],
   "source": [
    "train['Name'] = train['Name'].astype(str)\n",
    "test['Name'] = test['Name'].astype(str)"
   ]
  },
  {
   "cell_type": "code",
   "execution_count": 29,
   "id": "5c03b937",
   "metadata": {
    "execution": {
     "iopub.execute_input": "2022-07-24T13:00:24.196224Z",
     "iopub.status.busy": "2022-07-24T13:00:24.195424Z",
     "iopub.status.idle": "2022-07-24T13:00:24.204613Z",
     "shell.execute_reply": "2022-07-24T13:00:24.203760Z"
    },
    "papermill": {
     "duration": 0.030246,
     "end_time": "2022-07-24T13:00:24.206731",
     "exception": false,
     "start_time": "2022-07-24T13:00:24.176485",
     "status": "completed"
    },
    "tags": []
   },
   "outputs": [],
   "source": [
    "def change_name(name):\n",
    "    name_list = name.split()\n",
    "    for word in name_list:\n",
    "        if word == 'Miss.'or word == 'Ms.':\n",
    "            return 'Miss'\n",
    "        elif word == 'Master.':\n",
    "            return 'Master.'\n",
    "        elif word == 'Mrs.':\n",
    "            return 'Mrs.'\n",
    "        elif word == 'Mr.':\n",
    "            return 'Mr.'\n",
    "        elif word == 'Dr.':\n",
    "            return 'Dr.'\n",
    "        elif word == 'Sir.':\n",
    "            return 'Sir.'\n",
    "        elif word == 'Major.':\n",
    "            return 'Major.'\n",
    "        elif word == 'Lady.':\n",
    "            return 'Lady.'\n",
    "        elif word == 'Rev.':\n",
    "            return 'Rev.'\n",
    "        elif word == 'Capt.':\n",
    "            return 'Capt.'\n",
    "        elif word == 'Col.':\n",
    "            return 'Col.'\n",
    "        elif word == 'Jonkheer.':\n",
    "            return 'Jonkheer.'\n",
    "        elif word == 'Mlle.':\n",
    "            return 'Mlle.'\n",
    "        elif word == 'Don.':\n",
    "            return 'Don.'\n",
    "        elif word == 'Countess.':\n",
    "            return 'Countess'\n",
    "        elif word == 'Mme.':\n",
    "            return 'Mme.'\n",
    "        elif word == 'Dona.':\n",
    "            return 'Dona.'\n",
    "    return name"
   ]
  },
  {
   "cell_type": "code",
   "execution_count": 30,
   "id": "c62b688f",
   "metadata": {
    "execution": {
     "iopub.execute_input": "2022-07-24T13:00:24.243836Z",
     "iopub.status.busy": "2022-07-24T13:00:24.243091Z",
     "iopub.status.idle": "2022-07-24T13:00:24.257119Z",
     "shell.execute_reply": "2022-07-24T13:00:24.256017Z"
    },
    "papermill": {
     "duration": 0.035127,
     "end_time": "2022-07-24T13:00:24.259294",
     "exception": false,
     "start_time": "2022-07-24T13:00:24.224167",
     "status": "completed"
    },
    "tags": []
   },
   "outputs": [
    {
     "name": "stdout",
     "output_type": "stream",
     "text": [
      "<class 'pandas.core.frame.DataFrame'>\n",
      "RangeIndex: 891 entries, 0 to 890\n",
      "Data columns (total 11 columns):\n",
      " #   Column       Non-Null Count  Dtype  \n",
      "---  ------       --------------  -----  \n",
      " 0   PassengerId  891 non-null    int64  \n",
      " 1   Pclass       891 non-null    int64  \n",
      " 2   Name         891 non-null    object \n",
      " 3   Sex          891 non-null    int64  \n",
      " 4   Age          891 non-null    float64\n",
      " 5   SibSp        891 non-null    int64  \n",
      " 6   Parch        891 non-null    int64  \n",
      " 7   Ticket       891 non-null    object \n",
      " 8   Fare         891 non-null    float64\n",
      " 9   Cabin        891 non-null    object \n",
      " 10  Embarked     891 non-null    int64  \n",
      "dtypes: float64(2), int64(6), object(3)\n",
      "memory usage: 76.7+ KB\n"
     ]
    }
   ],
   "source": [
    "train.info()"
   ]
  },
  {
   "cell_type": "code",
   "execution_count": 31,
   "id": "520e1420",
   "metadata": {
    "execution": {
     "iopub.execute_input": "2022-07-24T13:00:24.296256Z",
     "iopub.status.busy": "2022-07-24T13:00:24.295850Z",
     "iopub.status.idle": "2022-07-24T13:00:24.306129Z",
     "shell.execute_reply": "2022-07-24T13:00:24.305042Z"
    },
    "papermill": {
     "duration": 0.031411,
     "end_time": "2022-07-24T13:00:24.308368",
     "exception": false,
     "start_time": "2022-07-24T13:00:24.276957",
     "status": "completed"
    },
    "tags": []
   },
   "outputs": [
    {
     "data": {
      "text/plain": [
       "array(['Mr.', 'Mrs.', 'Miss', 'Master.', 'Don.', 'Rev.', 'Dr.', 'Mme.',\n",
       "       'Major.', 'Lady.', 'Sir.', 'Mlle.', 'Col.', 'Capt.', 'Countess',\n",
       "       'Jonkheer.'], dtype=object)"
      ]
     },
     "execution_count": 31,
     "metadata": {},
     "output_type": "execute_result"
    }
   ],
   "source": [
    "train['Name'] = train['Name'].apply(change_name)\n",
    "train['Name'].unique()"
   ]
  },
  {
   "cell_type": "code",
   "execution_count": 32,
   "id": "92232a99",
   "metadata": {
    "execution": {
     "iopub.execute_input": "2022-07-24T13:00:24.347130Z",
     "iopub.status.busy": "2022-07-24T13:00:24.346746Z",
     "iopub.status.idle": "2022-07-24T13:00:24.355828Z",
     "shell.execute_reply": "2022-07-24T13:00:24.354727Z"
    },
    "papermill": {
     "duration": 0.030392,
     "end_time": "2022-07-24T13:00:24.357864",
     "exception": false,
     "start_time": "2022-07-24T13:00:24.327472",
     "status": "completed"
    },
    "tags": []
   },
   "outputs": [
    {
     "data": {
      "text/plain": [
       "array(['Mr.', 'Mrs.', 'Miss', 'Master.', 'Col.', 'Rev.', 'Dr.', 'Dona.'],\n",
       "      dtype=object)"
      ]
     },
     "execution_count": 32,
     "metadata": {},
     "output_type": "execute_result"
    }
   ],
   "source": [
    "test['Name'] = test['Name'].apply(change_name)\n",
    "test['Name'].unique()"
   ]
  },
  {
   "cell_type": "code",
   "execution_count": 33,
   "id": "29028a4a",
   "metadata": {
    "execution": {
     "iopub.execute_input": "2022-07-24T13:00:24.396866Z",
     "iopub.status.busy": "2022-07-24T13:00:24.396502Z",
     "iopub.status.idle": "2022-07-24T13:00:24.413918Z",
     "shell.execute_reply": "2022-07-24T13:00:24.412831Z"
    },
    "papermill": {
     "duration": 0.04037,
     "end_time": "2022-07-24T13:00:24.416756",
     "exception": false,
     "start_time": "2022-07-24T13:00:24.376386",
     "status": "completed"
    },
    "tags": []
   },
   "outputs": [
    {
     "data": {
      "text/html": [
       "<div>\n",
       "<style scoped>\n",
       "    .dataframe tbody tr th:only-of-type {\n",
       "        vertical-align: middle;\n",
       "    }\n",
       "\n",
       "    .dataframe tbody tr th {\n",
       "        vertical-align: top;\n",
       "    }\n",
       "\n",
       "    .dataframe thead th {\n",
       "        text-align: right;\n",
       "    }\n",
       "</style>\n",
       "<table border=\"1\" class=\"dataframe\">\n",
       "  <thead>\n",
       "    <tr style=\"text-align: right;\">\n",
       "      <th></th>\n",
       "      <th>Pclass</th>\n",
       "      <th>Name</th>\n",
       "      <th>Sex</th>\n",
       "      <th>Age</th>\n",
       "      <th>SibSp</th>\n",
       "      <th>Parch</th>\n",
       "      <th>Fare</th>\n",
       "      <th>Embarked</th>\n",
       "    </tr>\n",
       "  </thead>\n",
       "  <tbody>\n",
       "    <tr>\n",
       "      <th>0</th>\n",
       "      <td>3</td>\n",
       "      <td>Mr.</td>\n",
       "      <td>1</td>\n",
       "      <td>22.0</td>\n",
       "      <td>1</td>\n",
       "      <td>0</td>\n",
       "      <td>7.2500</td>\n",
       "      <td>1</td>\n",
       "    </tr>\n",
       "    <tr>\n",
       "      <th>1</th>\n",
       "      <td>1</td>\n",
       "      <td>Mrs.</td>\n",
       "      <td>0</td>\n",
       "      <td>38.0</td>\n",
       "      <td>1</td>\n",
       "      <td>0</td>\n",
       "      <td>71.2833</td>\n",
       "      <td>3</td>\n",
       "    </tr>\n",
       "    <tr>\n",
       "      <th>2</th>\n",
       "      <td>3</td>\n",
       "      <td>Miss</td>\n",
       "      <td>0</td>\n",
       "      <td>26.0</td>\n",
       "      <td>0</td>\n",
       "      <td>0</td>\n",
       "      <td>7.9250</td>\n",
       "      <td>1</td>\n",
       "    </tr>\n",
       "    <tr>\n",
       "      <th>3</th>\n",
       "      <td>1</td>\n",
       "      <td>Mrs.</td>\n",
       "      <td>0</td>\n",
       "      <td>35.0</td>\n",
       "      <td>1</td>\n",
       "      <td>0</td>\n",
       "      <td>53.1000</td>\n",
       "      <td>1</td>\n",
       "    </tr>\n",
       "    <tr>\n",
       "      <th>4</th>\n",
       "      <td>3</td>\n",
       "      <td>Mr.</td>\n",
       "      <td>1</td>\n",
       "      <td>35.0</td>\n",
       "      <td>0</td>\n",
       "      <td>0</td>\n",
       "      <td>8.0500</td>\n",
       "      <td>1</td>\n",
       "    </tr>\n",
       "  </tbody>\n",
       "</table>\n",
       "</div>"
      ],
      "text/plain": [
       "   Pclass  Name  Sex   Age  SibSp  Parch     Fare  Embarked\n",
       "0       3   Mr.    1  22.0      1      0   7.2500         1\n",
       "1       1  Mrs.    0  38.0      1      0  71.2833         3\n",
       "2       3  Miss    0  26.0      0      0   7.9250         1\n",
       "3       1  Mrs.    0  35.0      1      0  53.1000         1\n",
       "4       3   Mr.    1  35.0      0      0   8.0500         1"
      ]
     },
     "execution_count": 33,
     "metadata": {},
     "output_type": "execute_result"
    }
   ],
   "source": [
    "redundant_columns = ['Cabin', 'Ticket', 'PassengerId']\n",
    "for column in redundant_columns:\n",
    "    del train[column]\n",
    "    del test[column]\n",
    "\n",
    "train.head()"
   ]
  },
  {
   "cell_type": "code",
   "execution_count": 34,
   "id": "95ad2fa1",
   "metadata": {
    "execution": {
     "iopub.execute_input": "2022-07-24T13:00:24.456281Z",
     "iopub.status.busy": "2022-07-24T13:00:24.455903Z",
     "iopub.status.idle": "2022-07-24T13:00:24.465485Z",
     "shell.execute_reply": "2022-07-24T13:00:24.464459Z"
    },
    "papermill": {
     "duration": 0.031496,
     "end_time": "2022-07-24T13:00:24.467578",
     "exception": false,
     "start_time": "2022-07-24T13:00:24.436082",
     "status": "completed"
    },
    "tags": []
   },
   "outputs": [
    {
     "data": {
      "text/plain": [
       "{'Mr.': 0,\n",
       " 'Mrs.': 1,\n",
       " 'Miss': 2,\n",
       " 'Master.': 3,\n",
       " 'Don.': 4,\n",
       " 'Rev.': 5,\n",
       " 'Dr.': 6,\n",
       " 'Mme.': 7,\n",
       " 'Major.': 8,\n",
       " 'Lady.': 9,\n",
       " 'Sir.': 10,\n",
       " 'Mlle.': 11,\n",
       " 'Col.': 12,\n",
       " 'Capt.': 13,\n",
       " 'Countess': 14,\n",
       " 'Jonkheer.': 15,\n",
       " 'Dona.': 16}"
      ]
     },
     "execution_count": 34,
     "metadata": {},
     "output_type": "execute_result"
    }
   ],
   "source": [
    "Name_list = list(train['Name'].unique())\n",
    "my_dict = dict()\n",
    "for index, value in enumerate(Name_list):\n",
    "    my_dict[index] = value\n",
    "my_dict = {v: k for k, v in my_dict.items()}\n",
    "my_dict['Dona.'] = 16\n",
    "my_dict"
   ]
  },
  {
   "cell_type": "code",
   "execution_count": 35,
   "id": "36ef80f9",
   "metadata": {
    "execution": {
     "iopub.execute_input": "2022-07-24T13:00:24.506265Z",
     "iopub.status.busy": "2022-07-24T13:00:24.505880Z",
     "iopub.status.idle": "2022-07-24T13:00:24.512376Z",
     "shell.execute_reply": "2022-07-24T13:00:24.511308Z"
    },
    "papermill": {
     "duration": 0.02875,
     "end_time": "2022-07-24T13:00:24.514647",
     "exception": false,
     "start_time": "2022-07-24T13:00:24.485897",
     "status": "completed"
    },
    "tags": []
   },
   "outputs": [],
   "source": [
    "train['Name'] = train['Name'].map(my_dict)"
   ]
  },
  {
   "cell_type": "code",
   "execution_count": 36,
   "id": "17561a9c",
   "metadata": {
    "execution": {
     "iopub.execute_input": "2022-07-24T13:00:24.553467Z",
     "iopub.status.busy": "2022-07-24T13:00:24.553065Z",
     "iopub.status.idle": "2022-07-24T13:00:24.559489Z",
     "shell.execute_reply": "2022-07-24T13:00:24.558624Z"
    },
    "papermill": {
     "duration": 0.028295,
     "end_time": "2022-07-24T13:00:24.561482",
     "exception": false,
     "start_time": "2022-07-24T13:00:24.533187",
     "status": "completed"
    },
    "tags": []
   },
   "outputs": [],
   "source": [
    "test['Name'] = test['Name'].map(my_dict)"
   ]
  },
  {
   "cell_type": "code",
   "execution_count": 37,
   "id": "72f66d39",
   "metadata": {
    "execution": {
     "iopub.execute_input": "2022-07-24T13:00:24.600141Z",
     "iopub.status.busy": "2022-07-24T13:00:24.599743Z",
     "iopub.status.idle": "2022-07-24T13:00:24.613604Z",
     "shell.execute_reply": "2022-07-24T13:00:24.612756Z"
    },
    "papermill": {
     "duration": 0.035667,
     "end_time": "2022-07-24T13:00:24.615703",
     "exception": false,
     "start_time": "2022-07-24T13:00:24.580036",
     "status": "completed"
    },
    "tags": []
   },
   "outputs": [
    {
     "data": {
      "text/html": [
       "<div>\n",
       "<style scoped>\n",
       "    .dataframe tbody tr th:only-of-type {\n",
       "        vertical-align: middle;\n",
       "    }\n",
       "\n",
       "    .dataframe tbody tr th {\n",
       "        vertical-align: top;\n",
       "    }\n",
       "\n",
       "    .dataframe thead th {\n",
       "        text-align: right;\n",
       "    }\n",
       "</style>\n",
       "<table border=\"1\" class=\"dataframe\">\n",
       "  <thead>\n",
       "    <tr style=\"text-align: right;\">\n",
       "      <th></th>\n",
       "      <th>Pclass</th>\n",
       "      <th>Name</th>\n",
       "      <th>Sex</th>\n",
       "      <th>Age</th>\n",
       "      <th>SibSp</th>\n",
       "      <th>Parch</th>\n",
       "      <th>Fare</th>\n",
       "      <th>Embarked</th>\n",
       "    </tr>\n",
       "  </thead>\n",
       "  <tbody>\n",
       "    <tr>\n",
       "      <th>0</th>\n",
       "      <td>3</td>\n",
       "      <td>0</td>\n",
       "      <td>1</td>\n",
       "      <td>22.0</td>\n",
       "      <td>1</td>\n",
       "      <td>0</td>\n",
       "      <td>7.2500</td>\n",
       "      <td>1</td>\n",
       "    </tr>\n",
       "    <tr>\n",
       "      <th>1</th>\n",
       "      <td>1</td>\n",
       "      <td>1</td>\n",
       "      <td>0</td>\n",
       "      <td>38.0</td>\n",
       "      <td>1</td>\n",
       "      <td>0</td>\n",
       "      <td>71.2833</td>\n",
       "      <td>3</td>\n",
       "    </tr>\n",
       "    <tr>\n",
       "      <th>2</th>\n",
       "      <td>3</td>\n",
       "      <td>2</td>\n",
       "      <td>0</td>\n",
       "      <td>26.0</td>\n",
       "      <td>0</td>\n",
       "      <td>0</td>\n",
       "      <td>7.9250</td>\n",
       "      <td>1</td>\n",
       "    </tr>\n",
       "    <tr>\n",
       "      <th>3</th>\n",
       "      <td>1</td>\n",
       "      <td>1</td>\n",
       "      <td>0</td>\n",
       "      <td>35.0</td>\n",
       "      <td>1</td>\n",
       "      <td>0</td>\n",
       "      <td>53.1000</td>\n",
       "      <td>1</td>\n",
       "    </tr>\n",
       "    <tr>\n",
       "      <th>4</th>\n",
       "      <td>3</td>\n",
       "      <td>0</td>\n",
       "      <td>1</td>\n",
       "      <td>35.0</td>\n",
       "      <td>0</td>\n",
       "      <td>0</td>\n",
       "      <td>8.0500</td>\n",
       "      <td>1</td>\n",
       "    </tr>\n",
       "  </tbody>\n",
       "</table>\n",
       "</div>"
      ],
      "text/plain": [
       "   Pclass  Name  Sex   Age  SibSp  Parch     Fare  Embarked\n",
       "0       3     0    1  22.0      1      0   7.2500         1\n",
       "1       1     1    0  38.0      1      0  71.2833         3\n",
       "2       3     2    0  26.0      0      0   7.9250         1\n",
       "3       1     1    0  35.0      1      0  53.1000         1\n",
       "4       3     0    1  35.0      0      0   8.0500         1"
      ]
     },
     "execution_count": 37,
     "metadata": {},
     "output_type": "execute_result"
    }
   ],
   "source": [
    "train.head()"
   ]
  },
  {
   "cell_type": "code",
   "execution_count": 38,
   "id": "00206b2a",
   "metadata": {
    "execution": {
     "iopub.execute_input": "2022-07-24T13:00:24.656245Z",
     "iopub.status.busy": "2022-07-24T13:00:24.655236Z",
     "iopub.status.idle": "2022-07-24T13:00:24.669973Z",
     "shell.execute_reply": "2022-07-24T13:00:24.668585Z"
    },
    "papermill": {
     "duration": 0.037526,
     "end_time": "2022-07-24T13:00:24.672262",
     "exception": false,
     "start_time": "2022-07-24T13:00:24.634736",
     "status": "completed"
    },
    "tags": []
   },
   "outputs": [
    {
     "data": {
      "text/html": [
       "<div>\n",
       "<style scoped>\n",
       "    .dataframe tbody tr th:only-of-type {\n",
       "        vertical-align: middle;\n",
       "    }\n",
       "\n",
       "    .dataframe tbody tr th {\n",
       "        vertical-align: top;\n",
       "    }\n",
       "\n",
       "    .dataframe thead th {\n",
       "        text-align: right;\n",
       "    }\n",
       "</style>\n",
       "<table border=\"1\" class=\"dataframe\">\n",
       "  <thead>\n",
       "    <tr style=\"text-align: right;\">\n",
       "      <th></th>\n",
       "      <th>Pclass</th>\n",
       "      <th>Name</th>\n",
       "      <th>Sex</th>\n",
       "      <th>Age</th>\n",
       "      <th>SibSp</th>\n",
       "      <th>Parch</th>\n",
       "      <th>Fare</th>\n",
       "      <th>Embarked</th>\n",
       "    </tr>\n",
       "  </thead>\n",
       "  <tbody>\n",
       "    <tr>\n",
       "      <th>0</th>\n",
       "      <td>3</td>\n",
       "      <td>0</td>\n",
       "      <td>1</td>\n",
       "      <td>34.5</td>\n",
       "      <td>0</td>\n",
       "      <td>0</td>\n",
       "      <td>7.8292</td>\n",
       "      <td>2</td>\n",
       "    </tr>\n",
       "    <tr>\n",
       "      <th>1</th>\n",
       "      <td>3</td>\n",
       "      <td>1</td>\n",
       "      <td>0</td>\n",
       "      <td>47.0</td>\n",
       "      <td>1</td>\n",
       "      <td>0</td>\n",
       "      <td>7.0000</td>\n",
       "      <td>1</td>\n",
       "    </tr>\n",
       "    <tr>\n",
       "      <th>2</th>\n",
       "      <td>2</td>\n",
       "      <td>0</td>\n",
       "      <td>1</td>\n",
       "      <td>62.0</td>\n",
       "      <td>0</td>\n",
       "      <td>0</td>\n",
       "      <td>9.6875</td>\n",
       "      <td>2</td>\n",
       "    </tr>\n",
       "    <tr>\n",
       "      <th>3</th>\n",
       "      <td>3</td>\n",
       "      <td>0</td>\n",
       "      <td>1</td>\n",
       "      <td>27.0</td>\n",
       "      <td>0</td>\n",
       "      <td>0</td>\n",
       "      <td>8.6625</td>\n",
       "      <td>1</td>\n",
       "    </tr>\n",
       "    <tr>\n",
       "      <th>4</th>\n",
       "      <td>3</td>\n",
       "      <td>1</td>\n",
       "      <td>0</td>\n",
       "      <td>22.0</td>\n",
       "      <td>1</td>\n",
       "      <td>1</td>\n",
       "      <td>12.2875</td>\n",
       "      <td>1</td>\n",
       "    </tr>\n",
       "  </tbody>\n",
       "</table>\n",
       "</div>"
      ],
      "text/plain": [
       "   Pclass  Name  Sex   Age  SibSp  Parch     Fare  Embarked\n",
       "0       3     0    1  34.5      0      0   7.8292         2\n",
       "1       3     1    0  47.0      1      0   7.0000         1\n",
       "2       2     0    1  62.0      0      0   9.6875         2\n",
       "3       3     0    1  27.0      0      0   8.6625         1\n",
       "4       3     1    0  22.0      1      1  12.2875         1"
      ]
     },
     "execution_count": 38,
     "metadata": {},
     "output_type": "execute_result"
    }
   ],
   "source": [
    "test.head()"
   ]
  },
  {
   "cell_type": "code",
   "execution_count": 39,
   "id": "80349245",
   "metadata": {
    "execution": {
     "iopub.execute_input": "2022-07-24T13:00:24.712628Z",
     "iopub.status.busy": "2022-07-24T13:00:24.711440Z",
     "iopub.status.idle": "2022-07-24T13:00:24.718925Z",
     "shell.execute_reply": "2022-07-24T13:00:24.717784Z"
    },
    "papermill": {
     "duration": 0.029961,
     "end_time": "2022-07-24T13:00:24.721114",
     "exception": false,
     "start_time": "2022-07-24T13:00:24.691153",
     "status": "completed"
    },
    "tags": []
   },
   "outputs": [
    {
     "data": {
      "text/plain": [
       "(891, 8)"
      ]
     },
     "execution_count": 39,
     "metadata": {},
     "output_type": "execute_result"
    }
   ],
   "source": [
    "train.shape"
   ]
  },
  {
   "cell_type": "code",
   "execution_count": 40,
   "id": "2a1a214a",
   "metadata": {
    "execution": {
     "iopub.execute_input": "2022-07-24T13:00:24.761064Z",
     "iopub.status.busy": "2022-07-24T13:00:24.760674Z",
     "iopub.status.idle": "2022-07-24T13:00:24.767828Z",
     "shell.execute_reply": "2022-07-24T13:00:24.766773Z"
    },
    "papermill": {
     "duration": 0.029772,
     "end_time": "2022-07-24T13:00:24.770196",
     "exception": false,
     "start_time": "2022-07-24T13:00:24.740424",
     "status": "completed"
    },
    "tags": []
   },
   "outputs": [
    {
     "data": {
      "text/plain": [
       "(418, 8)"
      ]
     },
     "execution_count": 40,
     "metadata": {},
     "output_type": "execute_result"
    }
   ],
   "source": [
    "test.shape"
   ]
  },
  {
   "cell_type": "code",
   "execution_count": 41,
   "id": "5d43ce29",
   "metadata": {
    "execution": {
     "iopub.execute_input": "2022-07-24T13:00:24.810843Z",
     "iopub.status.busy": "2022-07-24T13:00:24.810389Z",
     "iopub.status.idle": "2022-07-24T13:00:35.444716Z",
     "shell.execute_reply": "2022-07-24T13:00:35.443548Z"
    },
    "papermill": {
     "duration": 10.657927,
     "end_time": "2022-07-24T13:00:35.447537",
     "exception": false,
     "start_time": "2022-07-24T13:00:24.789610",
     "status": "completed"
    },
    "tags": []
   },
   "outputs": [],
   "source": [
    "import tensorflow as tf\n",
    "from tensorflow import keras\n",
    "from sklearn.model_selection import train_test_split \n",
    "from keras.models import Sequential\n",
    "from keras.layers import Dense "
   ]
  },
  {
   "cell_type": "code",
   "execution_count": 42,
   "id": "202d2f63",
   "metadata": {
    "execution": {
     "iopub.execute_input": "2022-07-24T13:00:35.488803Z",
     "iopub.status.busy": "2022-07-24T13:00:35.488072Z",
     "iopub.status.idle": "2022-07-24T13:00:35.496680Z",
     "shell.execute_reply": "2022-07-24T13:00:35.495524Z"
    },
    "papermill": {
     "duration": 0.031652,
     "end_time": "2022-07-24T13:00:35.499126",
     "exception": false,
     "start_time": "2022-07-24T13:00:35.467474",
     "status": "completed"
    },
    "tags": []
   },
   "outputs": [],
   "source": [
    "x_train, x_test, y_train, y_test = train_test_split(train, y, test_size = 0.3)"
   ]
  },
  {
   "cell_type": "code",
   "execution_count": 43,
   "id": "cf7bc1a5",
   "metadata": {
    "execution": {
     "iopub.execute_input": "2022-07-24T13:00:35.540055Z",
     "iopub.status.busy": "2022-07-24T13:00:35.539615Z",
     "iopub.status.idle": "2022-07-24T13:00:35.546808Z",
     "shell.execute_reply": "2022-07-24T13:00:35.545648Z"
    },
    "papermill": {
     "duration": 0.030267,
     "end_time": "2022-07-24T13:00:35.549244",
     "exception": false,
     "start_time": "2022-07-24T13:00:35.518977",
     "status": "completed"
    },
    "tags": []
   },
   "outputs": [
    {
     "data": {
      "text/plain": [
       "(623, 8)"
      ]
     },
     "execution_count": 43,
     "metadata": {},
     "output_type": "execute_result"
    }
   ],
   "source": [
    "x_train.shape"
   ]
  },
  {
   "cell_type": "code",
   "execution_count": 44,
   "id": "43b0b7d6",
   "metadata": {
    "execution": {
     "iopub.execute_input": "2022-07-24T13:00:35.590223Z",
     "iopub.status.busy": "2022-07-24T13:00:35.589839Z",
     "iopub.status.idle": "2022-07-24T13:00:35.724056Z",
     "shell.execute_reply": "2022-07-24T13:00:35.722744Z"
    },
    "papermill": {
     "duration": 0.158086,
     "end_time": "2022-07-24T13:00:35.726809",
     "exception": false,
     "start_time": "2022-07-24T13:00:35.568723",
     "status": "completed"
    },
    "tags": []
   },
   "outputs": [
    {
     "name": "stderr",
     "output_type": "stream",
     "text": [
      "2022-07-24 13:00:35.626411: I tensorflow/core/common_runtime/process_util.cc:146] Creating new thread pool with default inter op setting: 2. Tune using inter_op_parallelism_threads for best performance.\n"
     ]
    }
   ],
   "source": [
    "model = Sequential()\n",
    "model.add(Dense(6, activation='relu', input_dim=8))\n",
    "model.add(Dense(6, activation='relu'))\n",
    "model.add(Dense(4, activation='relu'))\n",
    "model.add(Dense(1, activation='sigmoid'))"
   ]
  },
  {
   "cell_type": "code",
   "execution_count": 45,
   "id": "8c23acae",
   "metadata": {
    "execution": {
     "iopub.execute_input": "2022-07-24T13:00:35.768907Z",
     "iopub.status.busy": "2022-07-24T13:00:35.768049Z",
     "iopub.status.idle": "2022-07-24T13:00:36.258541Z",
     "shell.execute_reply": "2022-07-24T13:00:36.257390Z"
    },
    "papermill": {
     "duration": 0.514441,
     "end_time": "2022-07-24T13:00:36.261391",
     "exception": false,
     "start_time": "2022-07-24T13:00:35.746950",
     "status": "completed"
    },
    "tags": []
   },
   "outputs": [],
   "source": [
    "model.compile(optimizer='adam', loss=tf.keras.losses.BinaryCrossentropy(), metrics = 'accuracy')"
   ]
  },
  {
   "cell_type": "code",
   "execution_count": 46,
   "id": "4d6ce772",
   "metadata": {
    "execution": {
     "iopub.execute_input": "2022-07-24T13:00:36.302447Z",
     "iopub.status.busy": "2022-07-24T13:00:36.302042Z",
     "iopub.status.idle": "2022-07-24T13:00:39.054576Z",
     "shell.execute_reply": "2022-07-24T13:00:39.053308Z"
    },
    "papermill": {
     "duration": 2.776177,
     "end_time": "2022-07-24T13:00:39.057144",
     "exception": false,
     "start_time": "2022-07-24T13:00:36.280967",
     "status": "completed"
    },
    "tags": []
   },
   "outputs": [
    {
     "name": "stderr",
     "output_type": "stream",
     "text": [
      "2022-07-24 13:00:36.398416: I tensorflow/compiler/mlir/mlir_graph_optimization_pass.cc:185] None of the MLIR Optimization Passes are enabled (registered 2)\n"
     ]
    },
    {
     "name": "stdout",
     "output_type": "stream",
     "text": [
      "Epoch 1/22\n",
      "16/16 [==============================] - 1s 19ms/step - loss: 0.6457 - accuracy: 0.6084 - val_loss: 0.6363 - val_accuracy: 0.6400\n",
      "Epoch 2/22\n",
      "16/16 [==============================] - 0s 4ms/step - loss: 0.6286 - accuracy: 0.6265 - val_loss: 0.6309 - val_accuracy: 0.6080\n",
      "Epoch 3/22\n",
      "16/16 [==============================] - 0s 4ms/step - loss: 0.6167 - accuracy: 0.6345 - val_loss: 0.6282 - val_accuracy: 0.6000\n",
      "Epoch 4/22\n",
      "16/16 [==============================] - 0s 5ms/step - loss: 0.6075 - accuracy: 0.6466 - val_loss: 0.6222 - val_accuracy: 0.6240\n",
      "Epoch 5/22\n",
      "16/16 [==============================] - 0s 4ms/step - loss: 0.5977 - accuracy: 0.6707 - val_loss: 0.6260 - val_accuracy: 0.5840\n",
      "Epoch 6/22\n",
      "16/16 [==============================] - 0s 4ms/step - loss: 0.5921 - accuracy: 0.6807 - val_loss: 0.6318 - val_accuracy: 0.6080\n",
      "Epoch 7/22\n",
      "16/16 [==============================] - 0s 4ms/step - loss: 0.5894 - accuracy: 0.6888 - val_loss: 0.6314 - val_accuracy: 0.6080\n",
      "Epoch 8/22\n",
      "16/16 [==============================] - 0s 4ms/step - loss: 0.5884 - accuracy: 0.6807 - val_loss: 0.6303 - val_accuracy: 0.6160\n",
      "Epoch 9/22\n",
      "16/16 [==============================] - 0s 4ms/step - loss: 0.5869 - accuracy: 0.6948 - val_loss: 0.6296 - val_accuracy: 0.6080\n",
      "Epoch 10/22\n",
      "16/16 [==============================] - 0s 4ms/step - loss: 0.5845 - accuracy: 0.6888 - val_loss: 0.6288 - val_accuracy: 0.6160\n",
      "Epoch 11/22\n",
      "16/16 [==============================] - 0s 5ms/step - loss: 0.5843 - accuracy: 0.6888 - val_loss: 0.6234 - val_accuracy: 0.6160\n",
      "Epoch 12/22\n",
      "16/16 [==============================] - 0s 4ms/step - loss: 0.5813 - accuracy: 0.6888 - val_loss: 0.6244 - val_accuracy: 0.6240\n",
      "Epoch 13/22\n",
      "16/16 [==============================] - 0s 4ms/step - loss: 0.5813 - accuracy: 0.6908 - val_loss: 0.6228 - val_accuracy: 0.6240\n",
      "Epoch 14/22\n",
      "16/16 [==============================] - 0s 4ms/step - loss: 0.5787 - accuracy: 0.6968 - val_loss: 0.6218 - val_accuracy: 0.6240\n",
      "Epoch 15/22\n",
      "16/16 [==============================] - 0s 4ms/step - loss: 0.5772 - accuracy: 0.6968 - val_loss: 0.6168 - val_accuracy: 0.6240\n",
      "Epoch 16/22\n",
      "16/16 [==============================] - 0s 4ms/step - loss: 0.5764 - accuracy: 0.6968 - val_loss: 0.6152 - val_accuracy: 0.6240\n",
      "Epoch 17/22\n",
      "16/16 [==============================] - 0s 5ms/step - loss: 0.5730 - accuracy: 0.6968 - val_loss: 0.6162 - val_accuracy: 0.6240\n",
      "Epoch 18/22\n",
      "16/16 [==============================] - 0s 5ms/step - loss: 0.5719 - accuracy: 0.6928 - val_loss: 0.6141 - val_accuracy: 0.6240\n",
      "Epoch 19/22\n",
      "16/16 [==============================] - 0s 4ms/step - loss: 0.5705 - accuracy: 0.6968 - val_loss: 0.6121 - val_accuracy: 0.6160\n",
      "Epoch 20/22\n",
      "16/16 [==============================] - 0s 4ms/step - loss: 0.5694 - accuracy: 0.7088 - val_loss: 0.6115 - val_accuracy: 0.6320\n",
      "Epoch 21/22\n",
      "16/16 [==============================] - 0s 5ms/step - loss: 0.5675 - accuracy: 0.7028 - val_loss: 0.6059 - val_accuracy: 0.6400\n",
      "Epoch 22/22\n",
      "16/16 [==============================] - 0s 5ms/step - loss: 0.5637 - accuracy: 0.7048 - val_loss: 0.6065 - val_accuracy: 0.6400\n"
     ]
    },
    {
     "data": {
      "text/plain": [
       "<keras.callbacks.History at 0x7f064ed60650>"
      ]
     },
     "execution_count": 46,
     "metadata": {},
     "output_type": "execute_result"
    }
   ],
   "source": [
    "model.fit(x_train, y_train, epochs=22,batch_size=32, validation_split=0.2)"
   ]
  },
  {
   "cell_type": "code",
   "execution_count": 47,
   "id": "f5c5b520",
   "metadata": {
    "execution": {
     "iopub.execute_input": "2022-07-24T13:00:39.105589Z",
     "iopub.status.busy": "2022-07-24T13:00:39.105130Z",
     "iopub.status.idle": "2022-07-24T13:00:39.361785Z",
     "shell.execute_reply": "2022-07-24T13:00:39.360465Z"
    },
    "papermill": {
     "duration": 0.284262,
     "end_time": "2022-07-24T13:00:39.364486",
     "exception": false,
     "start_time": "2022-07-24T13:00:39.080224",
     "status": "completed"
    },
    "tags": []
   },
   "outputs": [
    {
     "data": {
      "text/plain": [
       "[0.5568547248840332, 0.7238805890083313]"
      ]
     },
     "execution_count": 47,
     "metadata": {},
     "output_type": "execute_result"
    }
   ],
   "source": [
    "prediction = model.predict(x_test)\n",
    "model.evaluate(x_test, y_test, verbose=0)\n"
   ]
  },
  {
   "cell_type": "code",
   "execution_count": 48,
   "id": "aab562b0",
   "metadata": {
    "execution": {
     "iopub.execute_input": "2022-07-24T13:00:39.411896Z",
     "iopub.status.busy": "2022-07-24T13:00:39.411512Z",
     "iopub.status.idle": "2022-07-24T13:00:39.425548Z",
     "shell.execute_reply": "2022-07-24T13:00:39.424026Z"
    },
    "papermill": {
     "duration": 0.040452,
     "end_time": "2022-07-24T13:00:39.427888",
     "exception": false,
     "start_time": "2022-07-24T13:00:39.387436",
     "status": "completed"
    },
    "tags": []
   },
   "outputs": [],
   "source": [
    "my_predict = np.array([])\n",
    "for val in prediction:\n",
    "    if val<0.5:\n",
    "        my_predict = np.append(my_predict, 0)\n",
    "    else:my_predict = np.append(my_predict, 1)"
   ]
  },
  {
   "cell_type": "code",
   "execution_count": 49,
   "id": "2173f190",
   "metadata": {
    "execution": {
     "iopub.execute_input": "2022-07-24T13:00:39.476376Z",
     "iopub.status.busy": "2022-07-24T13:00:39.475779Z",
     "iopub.status.idle": "2022-07-24T13:00:39.484263Z",
     "shell.execute_reply": "2022-07-24T13:00:39.483476Z"
    },
    "papermill": {
     "duration": 0.035511,
     "end_time": "2022-07-24T13:00:39.486529",
     "exception": false,
     "start_time": "2022-07-24T13:00:39.451018",
     "status": "completed"
    },
    "tags": []
   },
   "outputs": [
    {
     "data": {
      "text/plain": [
       "array([0., 0., 0., 0., 0., 0., 0., 0., 0., 0., 1., 0., 0., 0., 1., 1., 0.,\n",
       "       1., 0., 0., 0., 1., 0., 0., 0., 0., 0., 1., 0., 0., 0., 1., 0., 0.,\n",
       "       1., 0., 0., 1., 0., 1., 0., 0., 0., 0., 0., 0., 0., 0., 0., 0., 0.,\n",
       "       0., 0., 1., 0., 0., 0., 1., 1., 0., 0., 0., 0., 0., 1., 0., 0., 0.,\n",
       "       0., 0., 0., 0., 1., 0., 0., 0., 0., 0., 0., 0., 1., 0., 0., 1., 0.,\n",
       "       0., 0., 0., 0., 0., 0., 1., 0., 0., 0., 0., 0., 1., 0., 1., 0., 0.,\n",
       "       0., 0., 0., 0., 0., 1., 0., 0., 0., 0., 0., 0., 0., 0., 0., 0., 0.,\n",
       "       0., 0., 0., 0., 0., 1., 0., 0., 1., 0., 1., 0., 0., 0., 0., 0., 1.,\n",
       "       1., 0., 0., 0., 0., 0., 0., 0., 0., 0., 0., 0., 0., 0., 0., 0., 0.,\n",
       "       1., 1., 1., 1., 0., 0., 0., 0., 0., 0., 1., 0., 0., 0., 1., 0., 0.,\n",
       "       1., 1., 0., 1., 0., 0., 0., 0., 0., 0., 0., 1., 0., 1., 0., 0., 0.,\n",
       "       0., 0., 0., 0., 0., 1., 1., 0., 0., 0., 0., 1., 0., 0., 0., 1., 0.,\n",
       "       1., 0., 0., 0., 0., 0., 1., 0., 0., 0., 0., 1., 0., 0., 0., 0., 0.,\n",
       "       1., 0., 0., 0., 0., 0., 1., 0., 0., 1., 1., 0., 0., 0., 0., 0., 0.,\n",
       "       0., 0., 0., 0., 0., 0., 0., 1., 0., 1., 0., 0., 0., 1., 1., 0., 0.,\n",
       "       1., 0., 0., 0., 0., 0., 0., 0., 0., 0., 1., 0., 1.])"
      ]
     },
     "execution_count": 49,
     "metadata": {},
     "output_type": "execute_result"
    }
   ],
   "source": [
    "my_predict"
   ]
  },
  {
   "cell_type": "code",
   "execution_count": 50,
   "id": "dfc514b0",
   "metadata": {
    "execution": {
     "iopub.execute_input": "2022-07-24T13:00:39.534341Z",
     "iopub.status.busy": "2022-07-24T13:00:39.533917Z",
     "iopub.status.idle": "2022-07-24T13:00:39.625458Z",
     "shell.execute_reply": "2022-07-24T13:00:39.622253Z"
    },
    "papermill": {
     "duration": 0.118991,
     "end_time": "2022-07-24T13:00:39.628504",
     "exception": false,
     "start_time": "2022-07-24T13:00:39.509513",
     "status": "completed"
    },
    "tags": []
   },
   "outputs": [
    {
     "data": {
      "text/plain": [
       "array([[0.1210908 ],\n",
       "       [0.1274083 ],\n",
       "       [0.05052397],\n",
       "       [0.21137896],\n",
       "       [0.39972568],\n",
       "       [0.33486253],\n",
       "       [0.22990808],\n",
       "       [0.50376654],\n",
       "       [0.24645826],\n",
       "       [0.49245328],\n",
       "       [0.491417  ],\n",
       "       [0.3803924 ],\n",
       "       [0.6780623 ],\n",
       "       [0.23975953],\n",
       "       [0.720535  ],\n",
       "       [0.49677715],\n",
       "       [0.18778294],\n",
       "       [0.17101267],\n",
       "       [0.3149519 ],\n",
       "       [0.08855686],\n",
       "       [0.56670994],\n",
       "       [0.34040695],\n",
       "       [0.491417  ],\n",
       "       [0.6156517 ],\n",
       "       [0.8520639 ],\n",
       "       [0.14472938],\n",
       "       [0.6845671 ],\n",
       "       [0.16089559],\n",
       "       [0.44977796],\n",
       "       [0.491417  ],\n",
       "       [0.35631737],\n",
       "       [0.55690014],\n",
       "       [0.41324028],\n",
       "       [0.491417  ],\n",
       "       [0.66901714],\n",
       "       [0.18852383],\n",
       "       [0.491417  ],\n",
       "       [0.38816547],\n",
       "       [0.24108341],\n",
       "       [0.491417  ],\n",
       "       [0.11805683],\n",
       "       [0.491417  ],\n",
       "       [0.11669108],\n",
       "       [0.3788575 ],\n",
       "       [0.666985  ],\n",
       "       [0.21467441],\n",
       "       [0.35484248],\n",
       "       [0.491417  ],\n",
       "       [0.7094597 ],\n",
       "       [0.30723   ],\n",
       "       [0.6278934 ],\n",
       "       [0.2481856 ],\n",
       "       [0.5514194 ],\n",
       "       [0.75540227],\n",
       "       [0.491417  ],\n",
       "       [0.48792326],\n",
       "       [0.14807615],\n",
       "       [0.2113212 ],\n",
       "       [0.491417  ],\n",
       "       [0.8429716 ],\n",
       "       [0.28850687],\n",
       "       [0.27496916],\n",
       "       [0.27573836],\n",
       "       [0.30160105],\n",
       "       [0.6691567 ],\n",
       "       [0.491417  ],\n",
       "       [0.3437547 ],\n",
       "       [0.52300465],\n",
       "       [0.42393023],\n",
       "       [0.8860636 ],\n",
       "       [0.28347233],\n",
       "       [0.24868694],\n",
       "       [0.2920637 ],\n",
       "       [0.43045455],\n",
       "       [0.8231589 ],\n",
       "       [0.7669633 ],\n",
       "       [0.491417  ],\n",
       "       [0.38434914],\n",
       "       [0.28348404],\n",
       "       [0.28347233],\n",
       "       [0.457526  ],\n",
       "       [0.8958712 ],\n",
       "       [0.36364394],\n",
       "       [0.491417  ],\n",
       "       [0.491417  ],\n",
       "       [0.491417  ],\n",
       "       [0.2592286 ],\n",
       "       [0.4063523 ],\n",
       "       [0.491417  ],\n",
       "       [0.4897162 ],\n",
       "       [0.44262922],\n",
       "       [0.491417  ],\n",
       "       [0.6685916 ],\n",
       "       [0.491417  ],\n",
       "       [0.43434593],\n",
       "       [0.21294567],\n",
       "       [0.7176394 ],\n",
       "       [0.18588412],\n",
       "       [0.38057065],\n",
       "       [0.16177765],\n",
       "       [0.6391283 ],\n",
       "       [0.48660767],\n",
       "       [0.491417  ],\n",
       "       [0.20484486],\n",
       "       [0.2694843 ],\n",
       "       [0.4340158 ],\n",
       "       [0.21003932],\n",
       "       [0.491417  ],\n",
       "       [0.491417  ],\n",
       "       [0.3960422 ],\n",
       "       [0.15089628],\n",
       "       [0.491417  ],\n",
       "       [0.48225805],\n",
       "       [0.32644403],\n",
       "       [0.903419  ],\n",
       "       [0.29707217],\n",
       "       [0.491417  ],\n",
       "       [0.48883954],\n",
       "       [0.7294197 ],\n",
       "       [0.52147603],\n",
       "       [0.5312504 ],\n",
       "       [0.491417  ],\n",
       "       [0.6945773 ],\n",
       "       [0.18394127],\n",
       "       [0.491417  ],\n",
       "       [0.48345804],\n",
       "       [0.23847923],\n",
       "       [0.491417  ],\n",
       "       [0.18736011],\n",
       "       [0.22442695],\n",
       "       [0.16797328],\n",
       "       [0.46572813],\n",
       "       [0.491417  ],\n",
       "       [0.491417  ],\n",
       "       [0.10815009],\n",
       "       [0.22190043],\n",
       "       [0.1362789 ],\n",
       "       [0.32076627],\n",
       "       [0.35355395],\n",
       "       [0.49584267],\n",
       "       [0.49238586],\n",
       "       [0.792023  ],\n",
       "       [0.8735732 ],\n",
       "       [0.47386643],\n",
       "       [0.40806472],\n",
       "       [0.3629022 ],\n",
       "       [0.491417  ],\n",
       "       [0.24157026],\n",
       "       [0.491417  ],\n",
       "       [0.52752197],\n",
       "       [0.6857449 ],\n",
       "       [0.491417  ],\n",
       "       [0.491417  ],\n",
       "       [0.23728767],\n",
       "       [0.48917562],\n",
       "       [0.21841887],\n",
       "       [0.79821754],\n",
       "       [0.34929723],\n",
       "       [0.40806475],\n",
       "       [0.3620476 ],\n",
       "       [0.491417  ],\n",
       "       [0.43651694],\n",
       "       [0.43171468],\n",
       "       [0.491417  ],\n",
       "       [0.34357464],\n",
       "       [0.47936732],\n",
       "       [0.5208303 ],\n",
       "       [0.48898628],\n",
       "       [0.491417  ],\n",
       "       [0.3842811 ],\n",
       "       [0.491417  ],\n",
       "       [0.13343558],\n",
       "       [0.3478368 ],\n",
       "       [0.491417  ],\n",
       "       [0.3840263 ],\n",
       "       [0.5932361 ],\n",
       "       [0.6488118 ],\n",
       "       [0.5384818 ],\n",
       "       [0.5462498 ],\n",
       "       [0.7173834 ],\n",
       "       [0.28348404],\n",
       "       [0.7150284 ],\n",
       "       [0.6300537 ],\n",
       "       [0.491417  ],\n",
       "       [0.7670637 ],\n",
       "       [0.25140977],\n",
       "       [0.51429063],\n",
       "       [0.35474795],\n",
       "       [0.491417  ],\n",
       "       [0.20145035],\n",
       "       [0.44785398],\n",
       "       [0.491417  ],\n",
       "       [0.45990285],\n",
       "       [0.06695038],\n",
       "       [0.5118631 ],\n",
       "       [0.15926105],\n",
       "       [0.58839905],\n",
       "       [0.40018865],\n",
       "       [0.2991814 ],\n",
       "       [0.491417  ],\n",
       "       [0.491417  ],\n",
       "       [0.4818349 ],\n",
       "       [0.9195783 ],\n",
       "       [0.5303489 ],\n",
       "       [0.28076005],\n",
       "       [0.491417  ],\n",
       "       [0.19429922],\n",
       "       [0.28993624],\n",
       "       [0.4635143 ],\n",
       "       [0.21420527],\n",
       "       [0.41071874],\n",
       "       [0.491417  ],\n",
       "       [0.58275557],\n",
       "       [0.33967698],\n",
       "       [0.19060487],\n",
       "       [0.55041796],\n",
       "       [0.491417  ],\n",
       "       [0.8433713 ],\n",
       "       [0.85701275],\n",
       "       [0.491417  ],\n",
       "       [0.32309532],\n",
       "       [0.2506125 ],\n",
       "       [0.40742278],\n",
       "       [0.24744347],\n",
       "       [0.33343634],\n",
       "       [0.491417  ],\n",
       "       [0.2297405 ],\n",
       "       [0.491417  ],\n",
       "       [0.21246609],\n",
       "       [0.23196486],\n",
       "       [0.5564188 ],\n",
       "       [0.585106  ],\n",
       "       [0.25285655],\n",
       "       [0.491417  ],\n",
       "       [0.7309617 ],\n",
       "       [0.25737464],\n",
       "       [0.6499909 ],\n",
       "       [0.17803386],\n",
       "       [0.46914956],\n",
       "       [0.8241935 ],\n",
       "       [0.3250987 ],\n",
       "       [0.43057573],\n",
       "       [0.7807806 ],\n",
       "       [0.491417  ],\n",
       "       [0.491417  ],\n",
       "       [0.63970613],\n",
       "       [0.50865203],\n",
       "       [0.44725448],\n",
       "       [0.52147603],\n",
       "       [0.491417  ],\n",
       "       [0.49060568],\n",
       "       [0.25827777],\n",
       "       [0.68801475],\n",
       "       [0.24630088],\n",
       "       [0.18478543],\n",
       "       [0.491417  ],\n",
       "       [0.491417  ],\n",
       "       [0.1946528 ],\n",
       "       [0.4685001 ],\n",
       "       [0.24718538],\n",
       "       [0.29020253],\n",
       "       [0.24816915],\n",
       "       [0.46072358],\n",
       "       [0.48807555],\n",
       "       [0.18947968],\n",
       "       [0.491417  ],\n",
       "       [0.491417  ],\n",
       "       [0.491417  ],\n",
       "       [0.491417  ],\n",
       "       [0.29762965],\n",
       "       [0.7258564 ],\n",
       "       [0.491417  ],\n",
       "       [0.7237325 ],\n",
       "       [0.491417  ],\n",
       "       [0.491417  ],\n",
       "       [0.5829662 ],\n",
       "       [0.25432107],\n",
       "       [0.4127497 ],\n",
       "       [0.42572588],\n",
       "       [0.3084566 ],\n",
       "       [0.3670177 ],\n",
       "       [0.48400444],\n",
       "       [0.491417  ],\n",
       "       [0.41312706],\n",
       "       [0.49019316],\n",
       "       [0.13512683],\n",
       "       [0.491417  ],\n",
       "       [0.6393825 ],\n",
       "       [0.491417  ],\n",
       "       [0.491417  ],\n",
       "       [0.491417  ],\n",
       "       [0.21863928],\n",
       "       [0.491417  ],\n",
       "       [0.8361178 ],\n",
       "       [0.16222584],\n",
       "       [0.20672807],\n",
       "       [0.4893312 ],\n",
       "       [0.491417  ],\n",
       "       [0.63681257],\n",
       "       [0.18486425],\n",
       "       [0.16433924],\n",
       "       [0.491417  ],\n",
       "       [0.29800326],\n",
       "       [0.23475921],\n",
       "       [0.491417  ],\n",
       "       [0.3161786 ],\n",
       "       [0.6920997 ],\n",
       "       [0.48460424],\n",
       "       [0.8124257 ],\n",
       "       [0.23938334],\n",
       "       [0.2863509 ],\n",
       "       [0.16421312],\n",
       "       [0.491417  ],\n",
       "       [0.18059596],\n",
       "       [0.8685868 ],\n",
       "       [0.3506186 ],\n",
       "       [0.84528816],\n",
       "       [0.33720353],\n",
       "       [0.19881278],\n",
       "       [0.56081444],\n",
       "       [0.20484486],\n",
       "       [0.1451506 ],\n",
       "       [0.32076627],\n",
       "       [0.46081194],\n",
       "       [0.8385099 ],\n",
       "       [0.22106102],\n",
       "       [0.5478494 ],\n",
       "       [0.7519947 ],\n",
       "       [0.4759381 ],\n",
       "       [0.3702198 ],\n",
       "       [0.47483563],\n",
       "       [0.388278  ],\n",
       "       [0.491417  ],\n",
       "       [0.38749546],\n",
       "       [0.1994457 ],\n",
       "       [0.47343686],\n",
       "       [0.26556417],\n",
       "       [0.06566417],\n",
       "       [0.53689915],\n",
       "       [0.491417  ],\n",
       "       [0.3470706 ],\n",
       "       [0.16179052],\n",
       "       [0.491417  ],\n",
       "       [0.9408939 ],\n",
       "       [0.491417  ],\n",
       "       [0.41859138],\n",
       "       [0.32076627],\n",
       "       [0.11753556],\n",
       "       [0.35067838],\n",
       "       [0.4710488 ],\n",
       "       [0.67147064],\n",
       "       [0.28076002],\n",
       "       [0.5899154 ],\n",
       "       [0.6684403 ],\n",
       "       [0.4856196 ],\n",
       "       [0.35810477],\n",
       "       [0.5958624 ],\n",
       "       [0.491417  ],\n",
       "       [0.491417  ],\n",
       "       [0.41088432],\n",
       "       [0.491619  ],\n",
       "       [0.562079  ],\n",
       "       [0.45660233],\n",
       "       [0.21137896],\n",
       "       [0.6797726 ],\n",
       "       [0.491417  ],\n",
       "       [0.491417  ],\n",
       "       [0.64451027],\n",
       "       [0.64089847],\n",
       "       [0.21327424],\n",
       "       [0.34238094],\n",
       "       [0.7770672 ],\n",
       "       [0.05192414],\n",
       "       [0.17404059],\n",
       "       [0.8100736 ],\n",
       "       [0.8750301 ],\n",
       "       [0.38617742],\n",
       "       [0.33838794],\n",
       "       [0.54523486],\n",
       "       [0.48310232],\n",
       "       [0.491417  ],\n",
       "       [0.17300135],\n",
       "       [0.491417  ],\n",
       "       [0.47989807],\n",
       "       [0.491417  ],\n",
       "       [0.6522402 ],\n",
       "       [0.22099018],\n",
       "       [0.10505569],\n",
       "       [0.2092573 ],\n",
       "       [0.4866493 ],\n",
       "       [0.65476924],\n",
       "       [0.50442356],\n",
       "       [0.47894457],\n",
       "       [0.12667134],\n",
       "       [0.43300238],\n",
       "       [0.6336216 ],\n",
       "       [0.18109232],\n",
       "       [0.77259433],\n",
       "       [0.23822746],\n",
       "       [0.13968146],\n",
       "       [0.7821439 ],\n",
       "       [0.37402782],\n",
       "       [0.6833278 ],\n",
       "       [0.58899397],\n",
       "       [0.3561232 ],\n",
       "       [0.28694487],\n",
       "       [0.3029645 ],\n",
       "       [0.83047265],\n",
       "       [0.491417  ],\n",
       "       [0.48986357],\n",
       "       [0.491417  ],\n",
       "       [0.76487076],\n",
       "       [0.29845023],\n",
       "       [0.491417  ],\n",
       "       [0.918628  ],\n",
       "       [0.12251016],\n",
       "       [0.491417  ],\n",
       "       [0.491417  ]], dtype=float32)"
      ]
     },
     "execution_count": 50,
     "metadata": {},
     "output_type": "execute_result"
    }
   ],
   "source": [
    "predict = model.predict(test)\n",
    "predict"
   ]
  },
  {
   "cell_type": "code",
   "execution_count": 51,
   "id": "8db119a5",
   "metadata": {
    "execution": {
     "iopub.execute_input": "2022-07-24T13:00:39.679485Z",
     "iopub.status.busy": "2022-07-24T13:00:39.678856Z",
     "iopub.status.idle": "2022-07-24T13:00:39.683802Z",
     "shell.execute_reply": "2022-07-24T13:00:39.682921Z"
    },
    "papermill": {
     "duration": 0.03246,
     "end_time": "2022-07-24T13:00:39.685999",
     "exception": false,
     "start_time": "2022-07-24T13:00:39.653539",
     "status": "completed"
    },
    "tags": []
   },
   "outputs": [],
   "source": [
    "survival_predict = np.array([])"
   ]
  },
  {
   "cell_type": "code",
   "execution_count": 52,
   "id": "ffa0de21",
   "metadata": {
    "execution": {
     "iopub.execute_input": "2022-07-24T13:00:39.738986Z",
     "iopub.status.busy": "2022-07-24T13:00:39.738132Z",
     "iopub.status.idle": "2022-07-24T13:00:39.756391Z",
     "shell.execute_reply": "2022-07-24T13:00:39.755265Z"
    },
    "papermill": {
     "duration": 0.049103,
     "end_time": "2022-07-24T13:00:39.758741",
     "exception": false,
     "start_time": "2022-07-24T13:00:39.709638",
     "status": "completed"
    },
    "tags": []
   },
   "outputs": [
    {
     "data": {
      "text/plain": [
       "array([0., 0., 0., 0., 0., 0., 0., 1., 0., 0., 0., 0., 1., 0., 1., 0., 0.,\n",
       "       0., 0., 0., 1., 0., 0., 1., 1., 0., 1., 0., 0., 0., 0., 1., 0., 0.,\n",
       "       1., 0., 0., 0., 0., 0., 0., 0., 0., 0., 1., 0., 0., 0., 1., 0., 1.,\n",
       "       0., 1., 1., 0., 0., 0., 0., 0., 1., 0., 0., 0., 0., 1., 0., 0., 1.,\n",
       "       0., 1., 0., 0., 0., 0., 1., 1., 0., 0., 0., 0., 0., 1., 0., 0., 0.,\n",
       "       0., 0., 0., 0., 0., 0., 0., 1., 0., 0., 0., 1., 0., 0., 0., 1., 0.,\n",
       "       0., 0., 0., 0., 0., 0., 0., 0., 0., 0., 0., 0., 1., 0., 0., 0., 1.,\n",
       "       1., 1., 0., 1., 0., 0., 0., 0., 0., 0., 0., 0., 0., 0., 0., 0., 0.,\n",
       "       0., 0., 0., 0., 0., 1., 1., 0., 0., 0., 0., 0., 0., 1., 1., 0., 0.,\n",
       "       0., 0., 0., 1., 0., 0., 0., 0., 0., 0., 0., 0., 0., 1., 0., 0., 0.,\n",
       "       0., 0., 0., 0., 0., 1., 1., 1., 1., 1., 0., 1., 1., 0., 1., 0., 1.,\n",
       "       0., 0., 0., 0., 0., 0., 0., 1., 0., 1., 0., 0., 0., 0., 0., 1., 1.,\n",
       "       0., 0., 0., 0., 0., 0., 0., 0., 1., 0., 0., 1., 0., 1., 1., 0., 0.,\n",
       "       0., 0., 0., 0., 0., 0., 0., 0., 0., 1., 1., 0., 0., 1., 0., 1., 0.,\n",
       "       0., 1., 0., 0., 1., 0., 0., 1., 1., 0., 1., 0., 0., 0., 1., 0., 0.,\n",
       "       0., 0., 0., 0., 0., 0., 0., 0., 0., 0., 0., 0., 0., 0., 0., 1., 0.,\n",
       "       1., 0., 0., 1., 0., 0., 0., 0., 0., 0., 0., 0., 0., 0., 0., 1., 0.,\n",
       "       0., 0., 0., 0., 1., 0., 0., 0., 0., 1., 0., 0., 0., 0., 0., 0., 0.,\n",
       "       1., 0., 1., 0., 0., 0., 0., 0., 1., 0., 1., 0., 0., 1., 0., 0., 0.,\n",
       "       0., 1., 0., 1., 1., 0., 0., 0., 0., 0., 0., 0., 0., 0., 0., 1., 0.,\n",
       "       0., 0., 0., 1., 0., 0., 0., 0., 0., 0., 1., 0., 1., 1., 0., 0., 1.,\n",
       "       0., 0., 0., 0., 1., 0., 0., 1., 0., 0., 1., 1., 0., 0., 1., 0., 0.,\n",
       "       1., 1., 0., 0., 1., 0., 0., 0., 0., 0., 0., 1., 0., 0., 0., 0., 1.,\n",
       "       1., 0., 0., 0., 1., 0., 1., 0., 0., 1., 0., 1., 1., 0., 0., 0., 1.,\n",
       "       0., 0., 0., 1., 0., 0., 1., 0., 0., 0.])"
      ]
     },
     "execution_count": 52,
     "metadata": {},
     "output_type": "execute_result"
    }
   ],
   "source": [
    "for val in predict:\n",
    "    if val<0.5:\n",
    "        survival_predict=np.append(survival_predict, 0)\n",
    "    else: survival_predict=np.append(survival_predict, 1)\n",
    "\n",
    "survival_predict"
   ]
  },
  {
   "cell_type": "code",
   "execution_count": 53,
   "id": "52c2cb35",
   "metadata": {
    "execution": {
     "iopub.execute_input": "2022-07-24T13:00:39.809097Z",
     "iopub.status.busy": "2022-07-24T13:00:39.808470Z",
     "iopub.status.idle": "2022-07-24T13:00:39.815114Z",
     "shell.execute_reply": "2022-07-24T13:00:39.814079Z"
    },
    "papermill": {
     "duration": 0.034562,
     "end_time": "2022-07-24T13:00:39.817224",
     "exception": false,
     "start_time": "2022-07-24T13:00:39.782662",
     "status": "completed"
    },
    "tags": []
   },
   "outputs": [
    {
     "data": {
      "text/plain": [
       "(418,)"
      ]
     },
     "execution_count": 53,
     "metadata": {},
     "output_type": "execute_result"
    }
   ],
   "source": [
    "survival_predict.shape"
   ]
  },
  {
   "cell_type": "code",
   "execution_count": 54,
   "id": "6765cda1",
   "metadata": {
    "execution": {
     "iopub.execute_input": "2022-07-24T13:00:39.867308Z",
     "iopub.status.busy": "2022-07-24T13:00:39.866632Z",
     "iopub.status.idle": "2022-07-24T13:00:39.873916Z",
     "shell.execute_reply": "2022-07-24T13:00:39.872825Z"
    },
    "papermill": {
     "duration": 0.03509,
     "end_time": "2022-07-24T13:00:39.876134",
     "exception": false,
     "start_time": "2022-07-24T13:00:39.841044",
     "status": "completed"
    },
    "tags": []
   },
   "outputs": [
    {
     "data": {
      "text/plain": [
       "(418,)"
      ]
     },
     "execution_count": 54,
     "metadata": {},
     "output_type": "execute_result"
    }
   ],
   "source": [
    "PassengerId.shape"
   ]
  },
  {
   "cell_type": "code",
   "execution_count": 55,
   "id": "61064169",
   "metadata": {
    "execution": {
     "iopub.execute_input": "2022-07-24T13:00:39.931433Z",
     "iopub.status.busy": "2022-07-24T13:00:39.928931Z",
     "iopub.status.idle": "2022-07-24T13:00:39.945477Z",
     "shell.execute_reply": "2022-07-24T13:00:39.944256Z"
    },
    "papermill": {
     "duration": 0.047213,
     "end_time": "2022-07-24T13:00:39.948127",
     "exception": false,
     "start_time": "2022-07-24T13:00:39.900914",
     "status": "completed"
    },
    "tags": []
   },
   "outputs": [
    {
     "data": {
      "text/html": [
       "<div>\n",
       "<style scoped>\n",
       "    .dataframe tbody tr th:only-of-type {\n",
       "        vertical-align: middle;\n",
       "    }\n",
       "\n",
       "    .dataframe tbody tr th {\n",
       "        vertical-align: top;\n",
       "    }\n",
       "\n",
       "    .dataframe thead th {\n",
       "        text-align: right;\n",
       "    }\n",
       "</style>\n",
       "<table border=\"1\" class=\"dataframe\">\n",
       "  <thead>\n",
       "    <tr style=\"text-align: right;\">\n",
       "      <th></th>\n",
       "      <th>PassengerId</th>\n",
       "      <th>Survived</th>\n",
       "    </tr>\n",
       "  </thead>\n",
       "  <tbody>\n",
       "    <tr>\n",
       "      <th>0</th>\n",
       "      <td>892</td>\n",
       "      <td>0.0</td>\n",
       "    </tr>\n",
       "    <tr>\n",
       "      <th>1</th>\n",
       "      <td>893</td>\n",
       "      <td>0.0</td>\n",
       "    </tr>\n",
       "    <tr>\n",
       "      <th>2</th>\n",
       "      <td>894</td>\n",
       "      <td>0.0</td>\n",
       "    </tr>\n",
       "    <tr>\n",
       "      <th>3</th>\n",
       "      <td>895</td>\n",
       "      <td>0.0</td>\n",
       "    </tr>\n",
       "    <tr>\n",
       "      <th>4</th>\n",
       "      <td>896</td>\n",
       "      <td>0.0</td>\n",
       "    </tr>\n",
       "  </tbody>\n",
       "</table>\n",
       "</div>"
      ],
      "text/plain": [
       "   PassengerId  Survived\n",
       "0          892       0.0\n",
       "1          893       0.0\n",
       "2          894       0.0\n",
       "3          895       0.0\n",
       "4          896       0.0"
      ]
     },
     "execution_count": 55,
     "metadata": {},
     "output_type": "execute_result"
    }
   ],
   "source": [
    "submission_dict = {'PassengerId':PassengerId, 'Survived':survival_predict}\n",
    "submission_df = pd.DataFrame(submission_dict)\n",
    "submission_df.head()"
   ]
  },
  {
   "cell_type": "code",
   "execution_count": 56,
   "id": "4742874b",
   "metadata": {
    "execution": {
     "iopub.execute_input": "2022-07-24T13:00:40.010371Z",
     "iopub.status.busy": "2022-07-24T13:00:40.009858Z",
     "iopub.status.idle": "2022-07-24T13:00:40.019447Z",
     "shell.execute_reply": "2022-07-24T13:00:40.018316Z"
    },
    "papermill": {
     "duration": 0.043642,
     "end_time": "2022-07-24T13:00:40.022696",
     "exception": false,
     "start_time": "2022-07-24T13:00:39.979054",
     "status": "completed"
    },
    "tags": []
   },
   "outputs": [],
   "source": [
    "submission_df.to_csv('submission.csv', index=False)"
   ]
  },
  {
   "cell_type": "code",
   "execution_count": 57,
   "id": "5f31197c",
   "metadata": {
    "execution": {
     "iopub.execute_input": "2022-07-24T13:00:40.084872Z",
     "iopub.status.busy": "2022-07-24T13:00:40.083605Z",
     "iopub.status.idle": "2022-07-24T13:00:40.095357Z",
     "shell.execute_reply": "2022-07-24T13:00:40.094095Z"
    },
    "papermill": {
     "duration": 0.045006,
     "end_time": "2022-07-24T13:00:40.098445",
     "exception": false,
     "start_time": "2022-07-24T13:00:40.053439",
     "status": "completed"
    },
    "tags": []
   },
   "outputs": [
    {
     "data": {
      "text/plain": [
       "0.7238805970149254"
      ]
     },
     "execution_count": 57,
     "metadata": {},
     "output_type": "execute_result"
    }
   ],
   "source": [
    "from sklearn.metrics import accuracy_score\n",
    "accuracy_score(y_test, my_predict)"
   ]
  }
 ],
 "metadata": {
  "kernelspec": {
   "display_name": "Python 3",
   "language": "python",
   "name": "python3"
  },
  "language_info": {
   "codemirror_mode": {
    "name": "ipython",
    "version": 3
   },
   "file_extension": ".py",
   "mimetype": "text/x-python",
   "name": "python",
   "nbconvert_exporter": "python",
   "pygments_lexer": "ipython3",
   "version": "3.7.12"
  },
  "papermill": {
   "default_parameters": {},
   "duration": 30.673618,
   "end_time": "2022-07-24T13:00:43.337147",
   "environment_variables": {},
   "exception": null,
   "input_path": "__notebook__.ipynb",
   "output_path": "__notebook__.ipynb",
   "parameters": {},
   "start_time": "2022-07-24T13:00:12.663529",
   "version": "2.3.4"
  }
 },
 "nbformat": 4,
 "nbformat_minor": 5
}
